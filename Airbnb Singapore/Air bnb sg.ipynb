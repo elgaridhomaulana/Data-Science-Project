{
 "cells": [
  {
   "cell_type": "code",
   "execution_count": 1,
   "metadata": {},
   "outputs": [],
   "source": [
    "# import important packages/modules\n",
    "import pandas as pd\n",
    "import numpy as np\n",
    "import matplotlib.pyplot as plt\n",
    "import seaborn as sns"
   ]
  },
  {
   "cell_type": "code",
   "execution_count": 2,
   "metadata": {},
   "outputs": [],
   "source": [
    "# read csv file from directory\n",
    "df = pd.read_csv('data-airbnbsg.csv')"
   ]
  },
  {
   "cell_type": "markdown",
   "metadata": {},
   "source": [
    "### Data Information"
   ]
  },
  {
   "cell_type": "code",
   "execution_count": 3,
   "metadata": {},
   "outputs": [
    {
     "data": {
      "text/plain": [
       "(6894, 57)"
      ]
     },
     "execution_count": 3,
     "metadata": {},
     "output_type": "execute_result"
    }
   ],
   "source": [
    "df.shape"
   ]
  },
  {
   "cell_type": "markdown",
   "metadata": {},
   "source": [
    "Terdapat 6894 data, dan 57 kolom. Jumlah kolom yang cukup banyak"
   ]
  },
  {
   "cell_type": "code",
   "execution_count": 4,
   "metadata": {},
   "outputs": [
    {
     "name": "stdout",
     "output_type": "stream",
     "text": [
      "<class 'pandas.core.frame.DataFrame'>\n",
      "RangeIndex: 6894 entries, 0 to 6893\n",
      "Data columns (total 57 columns):\n",
      "id                                              6894 non-null int64\n",
      "host_id                                         6894 non-null int64\n",
      "host_since                                      6894 non-null object\n",
      "host_response_rate                              5779 non-null float64\n",
      "host_is_superhost                               6894 non-null int64\n",
      "host_listings_count                             6894 non-null int64\n",
      "host_total_listings_count                       6894 non-null int64\n",
      "area                                            6894 non-null object\n",
      "region                                          6894 non-null object\n",
      "smart_location                                  6894 non-null object\n",
      "country_code                                    6894 non-null object\n",
      "latitude                                        6894 non-null float64\n",
      "longitude                                       6894 non-null float64\n",
      "property_type                                   6894 non-null object\n",
      "room_type                                       6894 non-null object\n",
      "accommodates                                    6894 non-null int64\n",
      "bathrooms                                       6891 non-null float64\n",
      "bedrooms                                        6894 non-null float64\n",
      "beds                                            6881 non-null float64\n",
      "bed_type                                        6894 non-null object\n",
      "price                                           6894 non-null float64\n",
      "security_deposit                                6894 non-null float64\n",
      "cleaning_fee                                    6894 non-null float64\n",
      "guests_included                                 6894 non-null int64\n",
      "extra_people                                    6894 non-null float64\n",
      "minimum_nights                                  6894 non-null int64\n",
      "maximum_nights                                  6894 non-null int64\n",
      "minimum_minimum_nights                          6894 non-null int64\n",
      "maximum_minimum_nights                          6894 non-null int64\n",
      "minimum_maximum_nights                          6894 non-null int64\n",
      "maximum_maximum_nights                          6894 non-null int64\n",
      "minimum_nights_avg_ntm                          6894 non-null float64\n",
      "maximum_nights_avg_ntm                          6894 non-null float64\n",
      "has_availability                                6894 non-null int64\n",
      "availability_30                                 6894 non-null int64\n",
      "availability_60                                 6894 non-null int64\n",
      "availability_90                                 6894 non-null int64\n",
      "availability_365                                6894 non-null int64\n",
      "number_of_reviews                               6894 non-null int64\n",
      "number_of_reviews_ltm                           6894 non-null int64\n",
      "first_review                                    4444 non-null object\n",
      "last_review                                     4444 non-null object\n",
      "scores_rating                                   4323 non-null float64\n",
      "scores_accuracy                                 4319 non-null float64\n",
      "scores_cleanliness                              4322 non-null float64\n",
      "scores_checkin                                  4314 non-null float64\n",
      "scores_communication                            4320 non-null float64\n",
      "scores_location                                 4312 non-null float64\n",
      "scores_value                                    4312 non-null float64\n",
      "instant_bookable                                6894 non-null int64\n",
      "cancellation_policy                             6894 non-null object\n",
      "calculated_host_listings_count                  6894 non-null int64\n",
      "calculated_host_listings_count_entire_homes     6894 non-null int64\n",
      "calculated_host_listings_count_private_rooms    6894 non-null int64\n",
      "calculated_host_listings_count_shared_rooms     6894 non-null int64\n",
      "reviews_per_month                               4444 non-null float64\n",
      "total_price                                     6894 non-null float64\n",
      "dtypes: float64(21), int64(25), object(11)\n",
      "memory usage: 3.0+ MB\n"
     ]
    }
   ],
   "source": [
    "df.info()"
   ]
  },
  {
   "cell_type": "code",
   "execution_count": 5,
   "metadata": {},
   "outputs": [
    {
     "data": {
      "text/html": [
       "<div>\n",
       "<style scoped>\n",
       "    .dataframe tbody tr th:only-of-type {\n",
       "        vertical-align: middle;\n",
       "    }\n",
       "\n",
       "    .dataframe tbody tr th {\n",
       "        vertical-align: top;\n",
       "    }\n",
       "\n",
       "    .dataframe thead th {\n",
       "        text-align: right;\n",
       "    }\n",
       "</style>\n",
       "<table border=\"1\" class=\"dataframe\">\n",
       "  <thead>\n",
       "    <tr style=\"text-align: right;\">\n",
       "      <th></th>\n",
       "      <th>id</th>\n",
       "      <th>host_id</th>\n",
       "      <th>host_response_rate</th>\n",
       "      <th>host_is_superhost</th>\n",
       "      <th>host_listings_count</th>\n",
       "      <th>host_total_listings_count</th>\n",
       "      <th>latitude</th>\n",
       "      <th>longitude</th>\n",
       "      <th>accommodates</th>\n",
       "      <th>bathrooms</th>\n",
       "      <th>...</th>\n",
       "      <th>scores_communication</th>\n",
       "      <th>scores_location</th>\n",
       "      <th>scores_value</th>\n",
       "      <th>instant_bookable</th>\n",
       "      <th>calculated_host_listings_count</th>\n",
       "      <th>calculated_host_listings_count_entire_homes</th>\n",
       "      <th>calculated_host_listings_count_private_rooms</th>\n",
       "      <th>calculated_host_listings_count_shared_rooms</th>\n",
       "      <th>reviews_per_month</th>\n",
       "      <th>total_price</th>\n",
       "    </tr>\n",
       "  </thead>\n",
       "  <tbody>\n",
       "    <tr>\n",
       "      <th>count</th>\n",
       "      <td>6.894000e+03</td>\n",
       "      <td>6.894000e+03</td>\n",
       "      <td>5779.000000</td>\n",
       "      <td>6894.000000</td>\n",
       "      <td>6894.000000</td>\n",
       "      <td>6894.000000</td>\n",
       "      <td>6894.000000</td>\n",
       "      <td>6894.000000</td>\n",
       "      <td>6894.000000</td>\n",
       "      <td>6891.000000</td>\n",
       "      <td>...</td>\n",
       "      <td>4320.000000</td>\n",
       "      <td>4312.000000</td>\n",
       "      <td>4312.000000</td>\n",
       "      <td>6894.000000</td>\n",
       "      <td>6894.000000</td>\n",
       "      <td>6894.000000</td>\n",
       "      <td>6894.000000</td>\n",
       "      <td>6894.000000</td>\n",
       "      <td>4444.000000</td>\n",
       "      <td>6894.000000</td>\n",
       "    </tr>\n",
       "    <tr>\n",
       "      <th>mean</th>\n",
       "      <td>2.234428e+07</td>\n",
       "      <td>8.820428e+07</td>\n",
       "      <td>92.142585</td>\n",
       "      <td>0.131129</td>\n",
       "      <td>37.704091</td>\n",
       "      <td>37.704091</td>\n",
       "      <td>1.314600</td>\n",
       "      <td>103.850758</td>\n",
       "      <td>3.495068</td>\n",
       "      <td>1.526411</td>\n",
       "      <td>...</td>\n",
       "      <td>9.458796</td>\n",
       "      <td>9.316558</td>\n",
       "      <td>8.990028</td>\n",
       "      <td>0.559182</td>\n",
       "      <td>34.454308</td>\n",
       "      <td>27.402089</td>\n",
       "      <td>5.992022</td>\n",
       "      <td>1.060197</td>\n",
       "      <td>1.105092</td>\n",
       "      <td>167.461706</td>\n",
       "    </tr>\n",
       "    <tr>\n",
       "      <th>std</th>\n",
       "      <td>9.370953e+06</td>\n",
       "      <td>7.946114e+07</td>\n",
       "      <td>17.290178</td>\n",
       "      <td>0.337565</td>\n",
       "      <td>53.968494</td>\n",
       "      <td>53.968494</td>\n",
       "      <td>0.028937</td>\n",
       "      <td>0.042932</td>\n",
       "      <td>2.429846</td>\n",
       "      <td>1.334927</td>\n",
       "      <td>...</td>\n",
       "      <td>1.060856</td>\n",
       "      <td>0.957566</td>\n",
       "      <td>1.188807</td>\n",
       "      <td>0.496521</td>\n",
       "      <td>50.283610</td>\n",
       "      <td>50.439855</td>\n",
       "      <td>16.016288</td>\n",
       "      <td>5.083918</td>\n",
       "      <td>1.287008</td>\n",
       "      <td>229.795308</td>\n",
       "    </tr>\n",
       "    <tr>\n",
       "      <th>min</th>\n",
       "      <td>5.633400e+04</td>\n",
       "      <td>5.949800e+04</td>\n",
       "      <td>0.000000</td>\n",
       "      <td>0.000000</td>\n",
       "      <td>0.000000</td>\n",
       "      <td>0.000000</td>\n",
       "      <td>1.243910</td>\n",
       "      <td>103.646560</td>\n",
       "      <td>1.000000</td>\n",
       "      <td>0.000000</td>\n",
       "      <td>...</td>\n",
       "      <td>2.000000</td>\n",
       "      <td>2.000000</td>\n",
       "      <td>2.000000</td>\n",
       "      <td>0.000000</td>\n",
       "      <td>1.000000</td>\n",
       "      <td>0.000000</td>\n",
       "      <td>0.000000</td>\n",
       "      <td>0.000000</td>\n",
       "      <td>0.010000</td>\n",
       "      <td>14.000000</td>\n",
       "    </tr>\n",
       "    <tr>\n",
       "      <th>25%</th>\n",
       "      <td>1.565965e+07</td>\n",
       "      <td>2.050515e+07</td>\n",
       "      <td>93.000000</td>\n",
       "      <td>0.000000</td>\n",
       "      <td>2.000000</td>\n",
       "      <td>2.000000</td>\n",
       "      <td>1.297655</td>\n",
       "      <td>103.838232</td>\n",
       "      <td>2.000000</td>\n",
       "      <td>1.000000</td>\n",
       "      <td>...</td>\n",
       "      <td>9.000000</td>\n",
       "      <td>9.000000</td>\n",
       "      <td>9.000000</td>\n",
       "      <td>0.000000</td>\n",
       "      <td>2.000000</td>\n",
       "      <td>0.000000</td>\n",
       "      <td>0.000000</td>\n",
       "      <td>0.000000</td>\n",
       "      <td>0.210000</td>\n",
       "      <td>79.000000</td>\n",
       "    </tr>\n",
       "    <tr>\n",
       "      <th>50%</th>\n",
       "      <td>2.392711e+07</td>\n",
       "      <td>5.627346e+07</td>\n",
       "      <td>100.000000</td>\n",
       "      <td>0.000000</td>\n",
       "      <td>11.000000</td>\n",
       "      <td>11.000000</td>\n",
       "      <td>1.311560</td>\n",
       "      <td>103.851575</td>\n",
       "      <td>3.000000</td>\n",
       "      <td>1.000000</td>\n",
       "      <td>...</td>\n",
       "      <td>10.000000</td>\n",
       "      <td>10.000000</td>\n",
       "      <td>9.000000</td>\n",
       "      <td>1.000000</td>\n",
       "      <td>9.000000</td>\n",
       "      <td>1.000000</td>\n",
       "      <td>1.000000</td>\n",
       "      <td>0.000000</td>\n",
       "      <td>0.610000</td>\n",
       "      <td>140.000000</td>\n",
       "    </tr>\n",
       "    <tr>\n",
       "      <th>75%</th>\n",
       "      <td>3.032278e+07</td>\n",
       "      <td>1.547777e+08</td>\n",
       "      <td>100.000000</td>\n",
       "      <td>0.000000</td>\n",
       "      <td>61.000000</td>\n",
       "      <td>61.000000</td>\n",
       "      <td>1.321722</td>\n",
       "      <td>103.877320</td>\n",
       "      <td>5.000000</td>\n",
       "      <td>2.000000</td>\n",
       "      <td>...</td>\n",
       "      <td>10.000000</td>\n",
       "      <td>10.000000</td>\n",
       "      <td>10.000000</td>\n",
       "      <td>1.000000</td>\n",
       "      <td>44.000000</td>\n",
       "      <td>26.000000</td>\n",
       "      <td>3.000000</td>\n",
       "      <td>0.000000</td>\n",
       "      <td>1.520000</td>\n",
       "      <td>225.000000</td>\n",
       "    </tr>\n",
       "    <tr>\n",
       "      <th>max</th>\n",
       "      <td>3.500137e+07</td>\n",
       "      <td>2.636943e+08</td>\n",
       "      <td>100.000000</td>\n",
       "      <td>1.000000</td>\n",
       "      <td>294.000000</td>\n",
       "      <td>294.000000</td>\n",
       "      <td>1.461460</td>\n",
       "      <td>103.973420</td>\n",
       "      <td>16.000000</td>\n",
       "      <td>50.000000</td>\n",
       "      <td>...</td>\n",
       "      <td>10.000000</td>\n",
       "      <td>10.000000</td>\n",
       "      <td>10.000000</td>\n",
       "      <td>1.000000</td>\n",
       "      <td>248.000000</td>\n",
       "      <td>248.000000</td>\n",
       "      <td>96.000000</td>\n",
       "      <td>42.000000</td>\n",
       "      <td>11.890000</td>\n",
       "      <td>10101.000000</td>\n",
       "    </tr>\n",
       "  </tbody>\n",
       "</table>\n",
       "<p>8 rows × 46 columns</p>\n",
       "</div>"
      ],
      "text/plain": [
       "                 id       host_id  host_response_rate  host_is_superhost  \\\n",
       "count  6.894000e+03  6.894000e+03         5779.000000        6894.000000   \n",
       "mean   2.234428e+07  8.820428e+07           92.142585           0.131129   \n",
       "std    9.370953e+06  7.946114e+07           17.290178           0.337565   \n",
       "min    5.633400e+04  5.949800e+04            0.000000           0.000000   \n",
       "25%    1.565965e+07  2.050515e+07           93.000000           0.000000   \n",
       "50%    2.392711e+07  5.627346e+07          100.000000           0.000000   \n",
       "75%    3.032278e+07  1.547777e+08          100.000000           0.000000   \n",
       "max    3.500137e+07  2.636943e+08          100.000000           1.000000   \n",
       "\n",
       "       host_listings_count  host_total_listings_count     latitude  \\\n",
       "count          6894.000000                6894.000000  6894.000000   \n",
       "mean             37.704091                  37.704091     1.314600   \n",
       "std              53.968494                  53.968494     0.028937   \n",
       "min               0.000000                   0.000000     1.243910   \n",
       "25%               2.000000                   2.000000     1.297655   \n",
       "50%              11.000000                  11.000000     1.311560   \n",
       "75%              61.000000                  61.000000     1.321722   \n",
       "max             294.000000                 294.000000     1.461460   \n",
       "\n",
       "         longitude  accommodates    bathrooms  ...  scores_communication  \\\n",
       "count  6894.000000   6894.000000  6891.000000  ...           4320.000000   \n",
       "mean    103.850758      3.495068     1.526411  ...              9.458796   \n",
       "std       0.042932      2.429846     1.334927  ...              1.060856   \n",
       "min     103.646560      1.000000     0.000000  ...              2.000000   \n",
       "25%     103.838232      2.000000     1.000000  ...              9.000000   \n",
       "50%     103.851575      3.000000     1.000000  ...             10.000000   \n",
       "75%     103.877320      5.000000     2.000000  ...             10.000000   \n",
       "max     103.973420     16.000000    50.000000  ...             10.000000   \n",
       "\n",
       "       scores_location  scores_value  instant_bookable  \\\n",
       "count      4312.000000   4312.000000       6894.000000   \n",
       "mean          9.316558      8.990028          0.559182   \n",
       "std           0.957566      1.188807          0.496521   \n",
       "min           2.000000      2.000000          0.000000   \n",
       "25%           9.000000      9.000000          0.000000   \n",
       "50%          10.000000      9.000000          1.000000   \n",
       "75%          10.000000     10.000000          1.000000   \n",
       "max          10.000000     10.000000          1.000000   \n",
       "\n",
       "       calculated_host_listings_count  \\\n",
       "count                     6894.000000   \n",
       "mean                        34.454308   \n",
       "std                         50.283610   \n",
       "min                          1.000000   \n",
       "25%                          2.000000   \n",
       "50%                          9.000000   \n",
       "75%                         44.000000   \n",
       "max                        248.000000   \n",
       "\n",
       "       calculated_host_listings_count_entire_homes  \\\n",
       "count                                  6894.000000   \n",
       "mean                                     27.402089   \n",
       "std                                      50.439855   \n",
       "min                                       0.000000   \n",
       "25%                                       0.000000   \n",
       "50%                                       1.000000   \n",
       "75%                                      26.000000   \n",
       "max                                     248.000000   \n",
       "\n",
       "       calculated_host_listings_count_private_rooms  \\\n",
       "count                                   6894.000000   \n",
       "mean                                       5.992022   \n",
       "std                                       16.016288   \n",
       "min                                        0.000000   \n",
       "25%                                        0.000000   \n",
       "50%                                        1.000000   \n",
       "75%                                        3.000000   \n",
       "max                                       96.000000   \n",
       "\n",
       "       calculated_host_listings_count_shared_rooms  reviews_per_month  \\\n",
       "count                                  6894.000000        4444.000000   \n",
       "mean                                      1.060197           1.105092   \n",
       "std                                       5.083918           1.287008   \n",
       "min                                       0.000000           0.010000   \n",
       "25%                                       0.000000           0.210000   \n",
       "50%                                       0.000000           0.610000   \n",
       "75%                                       0.000000           1.520000   \n",
       "max                                      42.000000          11.890000   \n",
       "\n",
       "        total_price  \n",
       "count   6894.000000  \n",
       "mean     167.461706  \n",
       "std      229.795308  \n",
       "min       14.000000  \n",
       "25%       79.000000  \n",
       "50%      140.000000  \n",
       "75%      225.000000  \n",
       "max    10101.000000  \n",
       "\n",
       "[8 rows x 46 columns]"
      ]
     },
     "execution_count": 5,
     "metadata": {},
     "output_type": "execute_result"
    }
   ],
   "source": [
    "df.describe()"
   ]
  },
  {
   "cell_type": "code",
   "execution_count": 6,
   "metadata": {},
   "outputs": [
    {
     "data": {
      "text/html": [
       "<div>\n",
       "<style scoped>\n",
       "    .dataframe tbody tr th:only-of-type {\n",
       "        vertical-align: middle;\n",
       "    }\n",
       "\n",
       "    .dataframe tbody tr th {\n",
       "        vertical-align: top;\n",
       "    }\n",
       "\n",
       "    .dataframe thead th {\n",
       "        text-align: right;\n",
       "    }\n",
       "</style>\n",
       "<table border=\"1\" class=\"dataframe\">\n",
       "  <thead>\n",
       "    <tr style=\"text-align: right;\">\n",
       "      <th></th>\n",
       "      <th>id</th>\n",
       "      <th>host_id</th>\n",
       "      <th>host_since</th>\n",
       "      <th>host_response_rate</th>\n",
       "      <th>host_is_superhost</th>\n",
       "      <th>host_listings_count</th>\n",
       "      <th>host_total_listings_count</th>\n",
       "      <th>area</th>\n",
       "      <th>region</th>\n",
       "      <th>smart_location</th>\n",
       "      <th>...</th>\n",
       "      <th>scores_location</th>\n",
       "      <th>scores_value</th>\n",
       "      <th>instant_bookable</th>\n",
       "      <th>cancellation_policy</th>\n",
       "      <th>calculated_host_listings_count</th>\n",
       "      <th>calculated_host_listings_count_entire_homes</th>\n",
       "      <th>calculated_host_listings_count_private_rooms</th>\n",
       "      <th>calculated_host_listings_count_shared_rooms</th>\n",
       "      <th>reviews_per_month</th>\n",
       "      <th>total_price</th>\n",
       "    </tr>\n",
       "  </thead>\n",
       "  <tbody>\n",
       "    <tr>\n",
       "      <th>0</th>\n",
       "      <td>56334</td>\n",
       "      <td>266763</td>\n",
       "      <td>2010-10-20</td>\n",
       "      <td>NaN</td>\n",
       "      <td>0</td>\n",
       "      <td>2</td>\n",
       "      <td>2</td>\n",
       "      <td>Woodlands</td>\n",
       "      <td>North Region</td>\n",
       "      <td>Singapore</td>\n",
       "      <td>...</td>\n",
       "      <td>8.0</td>\n",
       "      <td>9.0</td>\n",
       "      <td>0</td>\n",
       "      <td>flexible</td>\n",
       "      <td>2</td>\n",
       "      <td>0</td>\n",
       "      <td>2</td>\n",
       "      <td>0</td>\n",
       "      <td>0.21</td>\n",
       "      <td>69.0</td>\n",
       "    </tr>\n",
       "    <tr>\n",
       "      <th>1</th>\n",
       "      <td>71609</td>\n",
       "      <td>367042</td>\n",
       "      <td>2011-01-29</td>\n",
       "      <td>100.0</td>\n",
       "      <td>0</td>\n",
       "      <td>9</td>\n",
       "      <td>9</td>\n",
       "      <td>Tampines</td>\n",
       "      <td>East Region</td>\n",
       "      <td>Singapore</td>\n",
       "      <td>...</td>\n",
       "      <td>8.0</td>\n",
       "      <td>8.0</td>\n",
       "      <td>1</td>\n",
       "      <td>moderate</td>\n",
       "      <td>9</td>\n",
       "      <td>0</td>\n",
       "      <td>9</td>\n",
       "      <td>0</td>\n",
       "      <td>0.13</td>\n",
       "      <td>260.0</td>\n",
       "    </tr>\n",
       "    <tr>\n",
       "      <th>2</th>\n",
       "      <td>71896</td>\n",
       "      <td>367042</td>\n",
       "      <td>2011-01-29</td>\n",
       "      <td>100.0</td>\n",
       "      <td>0</td>\n",
       "      <td>9</td>\n",
       "      <td>9</td>\n",
       "      <td>Tampines</td>\n",
       "      <td>East Region</td>\n",
       "      <td>Singapore</td>\n",
       "      <td>...</td>\n",
       "      <td>8.0</td>\n",
       "      <td>8.0</td>\n",
       "      <td>1</td>\n",
       "      <td>moderate</td>\n",
       "      <td>9</td>\n",
       "      <td>0</td>\n",
       "      <td>9</td>\n",
       "      <td>0</td>\n",
       "      <td>0.21</td>\n",
       "      <td>136.0</td>\n",
       "    </tr>\n",
       "    <tr>\n",
       "      <th>3</th>\n",
       "      <td>71903</td>\n",
       "      <td>367042</td>\n",
       "      <td>2011-01-29</td>\n",
       "      <td>100.0</td>\n",
       "      <td>0</td>\n",
       "      <td>9</td>\n",
       "      <td>9</td>\n",
       "      <td>Tampines</td>\n",
       "      <td>East Region</td>\n",
       "      <td>Singapore</td>\n",
       "      <td>...</td>\n",
       "      <td>9.0</td>\n",
       "      <td>9.0</td>\n",
       "      <td>0</td>\n",
       "      <td>moderate</td>\n",
       "      <td>9</td>\n",
       "      <td>0</td>\n",
       "      <td>9</td>\n",
       "      <td>0</td>\n",
       "      <td>0.34</td>\n",
       "      <td>145.0</td>\n",
       "    </tr>\n",
       "    <tr>\n",
       "      <th>4</th>\n",
       "      <td>71907</td>\n",
       "      <td>367042</td>\n",
       "      <td>2011-01-29</td>\n",
       "      <td>100.0</td>\n",
       "      <td>0</td>\n",
       "      <td>9</td>\n",
       "      <td>9</td>\n",
       "      <td>Tampines</td>\n",
       "      <td>East Region</td>\n",
       "      <td>Singapore</td>\n",
       "      <td>...</td>\n",
       "      <td>8.0</td>\n",
       "      <td>8.0</td>\n",
       "      <td>1</td>\n",
       "      <td>strict_14_with_grace_period</td>\n",
       "      <td>9</td>\n",
       "      <td>0</td>\n",
       "      <td>9</td>\n",
       "      <td>0</td>\n",
       "      <td>0.24</td>\n",
       "      <td>275.0</td>\n",
       "    </tr>\n",
       "  </tbody>\n",
       "</table>\n",
       "<p>5 rows × 57 columns</p>\n",
       "</div>"
      ],
      "text/plain": [
       "      id  host_id  host_since  host_response_rate  host_is_superhost  \\\n",
       "0  56334   266763  2010-10-20                 NaN                  0   \n",
       "1  71609   367042  2011-01-29               100.0                  0   \n",
       "2  71896   367042  2011-01-29               100.0                  0   \n",
       "3  71903   367042  2011-01-29               100.0                  0   \n",
       "4  71907   367042  2011-01-29               100.0                  0   \n",
       "\n",
       "   host_listings_count  host_total_listings_count       area        region  \\\n",
       "0                    2                          2  Woodlands  North Region   \n",
       "1                    9                          9   Tampines   East Region   \n",
       "2                    9                          9   Tampines   East Region   \n",
       "3                    9                          9   Tampines   East Region   \n",
       "4                    9                          9   Tampines   East Region   \n",
       "\n",
       "  smart_location  ... scores_location  scores_value  instant_bookable  \\\n",
       "0      Singapore  ...             8.0           9.0                 0   \n",
       "1      Singapore  ...             8.0           8.0                 1   \n",
       "2      Singapore  ...             8.0           8.0                 1   \n",
       "3      Singapore  ...             9.0           9.0                 0   \n",
       "4      Singapore  ...             8.0           8.0                 1   \n",
       "\n",
       "           cancellation_policy calculated_host_listings_count  \\\n",
       "0                     flexible                              2   \n",
       "1                     moderate                              9   \n",
       "2                     moderate                              9   \n",
       "3                     moderate                              9   \n",
       "4  strict_14_with_grace_period                              9   \n",
       "\n",
       "   calculated_host_listings_count_entire_homes  \\\n",
       "0                                            0   \n",
       "1                                            0   \n",
       "2                                            0   \n",
       "3                                            0   \n",
       "4                                            0   \n",
       "\n",
       "   calculated_host_listings_count_private_rooms  \\\n",
       "0                                             2   \n",
       "1                                             9   \n",
       "2                                             9   \n",
       "3                                             9   \n",
       "4                                             9   \n",
       "\n",
       "   calculated_host_listings_count_shared_rooms  reviews_per_month total_price  \n",
       "0                                            0               0.21        69.0  \n",
       "1                                            0               0.13       260.0  \n",
       "2                                            0               0.21       136.0  \n",
       "3                                            0               0.34       145.0  \n",
       "4                                            0               0.24       275.0  \n",
       "\n",
       "[5 rows x 57 columns]"
      ]
     },
     "execution_count": 6,
     "metadata": {},
     "output_type": "execute_result"
    }
   ],
   "source": [
    "df.head()"
   ]
  },
  {
   "cell_type": "markdown",
   "metadata": {},
   "source": [
    "# Data Cleaning and Feature Selection"
   ]
  },
  {
   "cell_type": "code",
   "execution_count": 7,
   "metadata": {},
   "outputs": [],
   "source": [
    "#id dan host_id akan langsung di drop\n",
    "df = df.drop(['id', 'host_id'], axis=1)"
   ]
  },
  {
   "cell_type": "code",
   "execution_count": 8,
   "metadata": {},
   "outputs": [],
   "source": [
    "#host_since mungkin berpengaruh\n",
    "df['host_since'] = df['host_since'].apply(lambda ser: 2019 - int(ser[:4]))"
   ]
  },
  {
   "cell_type": "code",
   "execution_count": 9,
   "metadata": {},
   "outputs": [
    {
     "data": {
      "text/html": [
       "<div>\n",
       "<style scoped>\n",
       "    .dataframe tbody tr th:only-of-type {\n",
       "        vertical-align: middle;\n",
       "    }\n",
       "\n",
       "    .dataframe tbody tr th {\n",
       "        vertical-align: top;\n",
       "    }\n",
       "\n",
       "    .dataframe thead th {\n",
       "        text-align: right;\n",
       "    }\n",
       "</style>\n",
       "<table border=\"1\" class=\"dataframe\">\n",
       "  <thead>\n",
       "    <tr style=\"text-align: right;\">\n",
       "      <th></th>\n",
       "      <th>host_since</th>\n",
       "      <th>total_price</th>\n",
       "    </tr>\n",
       "  </thead>\n",
       "  <tbody>\n",
       "    <tr>\n",
       "      <th>host_since</th>\n",
       "      <td>1.000000</td>\n",
       "      <td>-0.053365</td>\n",
       "    </tr>\n",
       "    <tr>\n",
       "      <th>total_price</th>\n",
       "      <td>-0.053365</td>\n",
       "      <td>1.000000</td>\n",
       "    </tr>\n",
       "  </tbody>\n",
       "</table>\n",
       "</div>"
      ],
      "text/plain": [
       "             host_since  total_price\n",
       "host_since     1.000000    -0.053365\n",
       "total_price   -0.053365     1.000000"
      ]
     },
     "execution_count": 9,
     "metadata": {},
     "output_type": "execute_result"
    }
   ],
   "source": [
    "df[['host_since', 'total_price']].corr()"
   ]
  },
  {
   "cell_type": "markdown",
   "metadata": {},
   "source": [
    "korelasinya sangat kecil, -0.05. Artinya lama menjadi host tidak terlalu berpengaruh terhadap total_price. Kita akan drop kolom host_since"
   ]
  },
  {
   "cell_type": "code",
   "execution_count": 10,
   "metadata": {},
   "outputs": [],
   "source": [
    "df = df.drop('host_since', axis=1)"
   ]
  },
  {
   "cell_type": "code",
   "execution_count": 11,
   "metadata": {},
   "outputs": [
    {
     "data": {
      "text/plain": [
       "host_response_rate                                50\n",
       "host_is_superhost                                  2\n",
       "host_listings_count                               68\n",
       "host_total_listings_count                         68\n",
       "area                                              44\n",
       "region                                             5\n",
       "smart_location                                    40\n",
       "country_code                                       1\n",
       "latitude                                        4282\n",
       "longitude                                       4860\n",
       "property_type                                     23\n",
       "room_type                                          3\n",
       "accommodates                                      16\n",
       "bathrooms                                         20\n",
       "bedrooms                                           8\n",
       "beds                                              19\n",
       "bed_type                                           1\n",
       "price                                            267\n",
       "security_deposit                                 106\n",
       "cleaning_fee                                      98\n",
       "guests_included                                   11\n",
       "extra_people                                      71\n",
       "minimum_nights                                    28\n",
       "maximum_nights                                   108\n",
       "minimum_minimum_nights                            24\n",
       "maximum_minimum_nights                            31\n",
       "minimum_maximum_nights                           108\n",
       "maximum_maximum_nights                           108\n",
       "minimum_nights_avg_ntm                            98\n",
       "maximum_nights_avg_ntm                           137\n",
       "has_availability                                   1\n",
       "availability_30                                   31\n",
       "availability_60                                   61\n",
       "availability_90                                   91\n",
       "availability_365                                 358\n",
       "number_of_reviews                                194\n",
       "number_of_reviews_ltm                             87\n",
       "first_review                                    1495\n",
       "last_review                                      859\n",
       "scores_rating                                     46\n",
       "scores_accuracy                                    9\n",
       "scores_cleanliness                                 8\n",
       "scores_checkin                                     9\n",
       "scores_communication                               9\n",
       "scores_location                                    8\n",
       "scores_value                                       9\n",
       "instant_bookable                                   2\n",
       "cancellation_policy                                5\n",
       "calculated_host_listings_count                    56\n",
       "calculated_host_listings_count_entire_homes       51\n",
       "calculated_host_listings_count_private_rooms      27\n",
       "calculated_host_listings_count_shared_rooms       17\n",
       "reviews_per_month                                509\n",
       "total_price                                      429\n",
       "dtype: int64"
      ]
     },
     "execution_count": 11,
     "metadata": {},
     "output_type": "execute_result"
    }
   ],
   "source": [
    "# jumlah unique value tiap kolom\n",
    "df.nunique()"
   ]
  },
  {
   "cell_type": "markdown",
   "metadata": {},
   "source": [
    "country_code, has_availability, dan bed_type memiliki satu nilai saja. Kita dapat drop langsung column ini"
   ]
  },
  {
   "cell_type": "code",
   "execution_count": 12,
   "metadata": {},
   "outputs": [],
   "source": [
    "df = df.drop(['country_code', 'has_availability', 'bed_type'], axis=1)"
   ]
  },
  {
   "cell_type": "markdown",
   "metadata": {},
   "source": [
    "### Kolom yang berhubungan dengan wilayah"
   ]
  },
  {
   "cell_type": "code",
   "execution_count": 13,
   "metadata": {},
   "outputs": [],
   "source": [
    "wilayah_col = ['area', 'region', 'smart_location', 'latitude', 'longitude']"
   ]
  },
  {
   "cell_type": "code",
   "execution_count": 14,
   "metadata": {},
   "outputs": [
    {
     "data": {
      "text/html": [
       "<div>\n",
       "<style scoped>\n",
       "    .dataframe tbody tr th:only-of-type {\n",
       "        vertical-align: middle;\n",
       "    }\n",
       "\n",
       "    .dataframe tbody tr th {\n",
       "        vertical-align: top;\n",
       "    }\n",
       "\n",
       "    .dataframe thead th {\n",
       "        text-align: right;\n",
       "    }\n",
       "</style>\n",
       "<table border=\"1\" class=\"dataframe\">\n",
       "  <thead>\n",
       "    <tr style=\"text-align: right;\">\n",
       "      <th></th>\n",
       "      <th>area</th>\n",
       "      <th>region</th>\n",
       "      <th>smart_location</th>\n",
       "      <th>latitude</th>\n",
       "      <th>longitude</th>\n",
       "    </tr>\n",
       "  </thead>\n",
       "  <tbody>\n",
       "    <tr>\n",
       "      <th>0</th>\n",
       "      <td>Woodlands</td>\n",
       "      <td>North Region</td>\n",
       "      <td>Singapore</td>\n",
       "      <td>1.44246</td>\n",
       "      <td>103.79667</td>\n",
       "    </tr>\n",
       "    <tr>\n",
       "      <th>1</th>\n",
       "      <td>Tampines</td>\n",
       "      <td>East Region</td>\n",
       "      <td>Singapore</td>\n",
       "      <td>1.34541</td>\n",
       "      <td>103.95712</td>\n",
       "    </tr>\n",
       "    <tr>\n",
       "      <th>2</th>\n",
       "      <td>Tampines</td>\n",
       "      <td>East Region</td>\n",
       "      <td>Singapore</td>\n",
       "      <td>1.34567</td>\n",
       "      <td>103.95963</td>\n",
       "    </tr>\n",
       "    <tr>\n",
       "      <th>3</th>\n",
       "      <td>Tampines</td>\n",
       "      <td>East Region</td>\n",
       "      <td>Singapore</td>\n",
       "      <td>1.34702</td>\n",
       "      <td>103.96103</td>\n",
       "    </tr>\n",
       "    <tr>\n",
       "      <th>4</th>\n",
       "      <td>Tampines</td>\n",
       "      <td>East Region</td>\n",
       "      <td>Singapore</td>\n",
       "      <td>1.34348</td>\n",
       "      <td>103.96337</td>\n",
       "    </tr>\n",
       "  </tbody>\n",
       "</table>\n",
       "</div>"
      ],
      "text/plain": [
       "        area        region smart_location  latitude  longitude\n",
       "0  Woodlands  North Region      Singapore   1.44246  103.79667\n",
       "1   Tampines   East Region      Singapore   1.34541  103.95712\n",
       "2   Tampines   East Region      Singapore   1.34567  103.95963\n",
       "3   Tampines   East Region      Singapore   1.34702  103.96103\n",
       "4   Tampines   East Region      Singapore   1.34348  103.96337"
      ]
     },
     "execution_count": 14,
     "metadata": {},
     "output_type": "execute_result"
    }
   ],
   "source": [
    "df[wilayah_col].head()"
   ]
  },
  {
   "cell_type": "code",
   "execution_count": 15,
   "metadata": {},
   "outputs": [
    {
     "data": {
      "text/plain": [
       "Singapore                6762\n",
       "SG, Singapore              53\n",
       "Singapore , Singapore      12\n",
       "n/a, Singapore              8\n",
       "*, Singapore                5\n",
       "Name: smart_location, dtype: int64"
      ]
     },
     "execution_count": 15,
     "metadata": {},
     "output_type": "execute_result"
    }
   ],
   "source": [
    "df['smart_location'].value_counts().head()"
   ]
  },
  {
   "cell_type": "code",
   "execution_count": 16,
   "metadata": {},
   "outputs": [
    {
     "data": {
      "text/plain": [
       "Geylang    1049\n",
       "Kallang     948\n",
       "Novena      553\n",
       "Rochor      511\n",
       "Outram      427\n",
       "Name: area, dtype: int64"
      ]
     },
     "execution_count": 16,
     "metadata": {},
     "output_type": "execute_result"
    }
   ],
   "source": [
    "df['area'].value_counts().head()"
   ]
  },
  {
   "cell_type": "markdown",
   "metadata": {},
   "source": [
    "Untuk wilayah kita akan menggunakan region dan area saja. smart_location hampir seluruh datanya di Singapore. Sedangkan latitude dan longitude sudah diwakilkan dengan area."
   ]
  },
  {
   "cell_type": "code",
   "execution_count": 17,
   "metadata": {},
   "outputs": [],
   "source": [
    "df = df.drop(['smart_location', 'latitude', 'longitude'], axis=1)"
   ]
  },
  {
   "cell_type": "markdown",
   "metadata": {},
   "source": [
    "### Kolom  dengan kata nights"
   ]
  },
  {
   "cell_type": "code",
   "execution_count": 18,
   "metadata": {},
   "outputs": [],
   "source": [
    "ls_night = []\n",
    "for element in df.columns:\n",
    "    if 'nights' in element:\n",
    "        ls_night.append(element)"
   ]
  },
  {
   "cell_type": "code",
   "execution_count": 19,
   "metadata": {},
   "outputs": [
    {
     "data": {
      "text/html": [
       "<div>\n",
       "<style scoped>\n",
       "    .dataframe tbody tr th:only-of-type {\n",
       "        vertical-align: middle;\n",
       "    }\n",
       "\n",
       "    .dataframe tbody tr th {\n",
       "        vertical-align: top;\n",
       "    }\n",
       "\n",
       "    .dataframe thead th {\n",
       "        text-align: right;\n",
       "    }\n",
       "</style>\n",
       "<table border=\"1\" class=\"dataframe\">\n",
       "  <thead>\n",
       "    <tr style=\"text-align: right;\">\n",
       "      <th></th>\n",
       "      <th>minimum_nights</th>\n",
       "      <th>maximum_nights</th>\n",
       "      <th>minimum_minimum_nights</th>\n",
       "      <th>maximum_minimum_nights</th>\n",
       "      <th>minimum_maximum_nights</th>\n",
       "      <th>maximum_maximum_nights</th>\n",
       "      <th>minimum_nights_avg_ntm</th>\n",
       "      <th>maximum_nights_avg_ntm</th>\n",
       "    </tr>\n",
       "  </thead>\n",
       "  <tbody>\n",
       "    <tr>\n",
       "      <th>0</th>\n",
       "      <td>6</td>\n",
       "      <td>14</td>\n",
       "      <td>6</td>\n",
       "      <td>6</td>\n",
       "      <td>14</td>\n",
       "      <td>14</td>\n",
       "      <td>6.0</td>\n",
       "      <td>14.0</td>\n",
       "    </tr>\n",
       "    <tr>\n",
       "      <th>1</th>\n",
       "      <td>1</td>\n",
       "      <td>1125</td>\n",
       "      <td>1</td>\n",
       "      <td>1</td>\n",
       "      <td>1125</td>\n",
       "      <td>1125</td>\n",
       "      <td>1.0</td>\n",
       "      <td>1125.0</td>\n",
       "    </tr>\n",
       "    <tr>\n",
       "      <th>2</th>\n",
       "      <td>1</td>\n",
       "      <td>1125</td>\n",
       "      <td>1</td>\n",
       "      <td>1</td>\n",
       "      <td>1125</td>\n",
       "      <td>1125</td>\n",
       "      <td>1.0</td>\n",
       "      <td>1125.0</td>\n",
       "    </tr>\n",
       "    <tr>\n",
       "      <th>3</th>\n",
       "      <td>1</td>\n",
       "      <td>1125</td>\n",
       "      <td>1</td>\n",
       "      <td>1</td>\n",
       "      <td>1125</td>\n",
       "      <td>1125</td>\n",
       "      <td>1.0</td>\n",
       "      <td>1125.0</td>\n",
       "    </tr>\n",
       "    <tr>\n",
       "      <th>4</th>\n",
       "      <td>1</td>\n",
       "      <td>365</td>\n",
       "      <td>1</td>\n",
       "      <td>1</td>\n",
       "      <td>365</td>\n",
       "      <td>365</td>\n",
       "      <td>1.0</td>\n",
       "      <td>365.0</td>\n",
       "    </tr>\n",
       "    <tr>\n",
       "      <th>5</th>\n",
       "      <td>7</td>\n",
       "      <td>1000</td>\n",
       "      <td>7</td>\n",
       "      <td>7</td>\n",
       "      <td>1000</td>\n",
       "      <td>1000</td>\n",
       "      <td>7.0</td>\n",
       "      <td>1000.0</td>\n",
       "    </tr>\n",
       "    <tr>\n",
       "      <th>6</th>\n",
       "      <td>15</td>\n",
       "      <td>180</td>\n",
       "      <td>15</td>\n",
       "      <td>15</td>\n",
       "      <td>180</td>\n",
       "      <td>180</td>\n",
       "      <td>15.0</td>\n",
       "      <td>180.0</td>\n",
       "    </tr>\n",
       "    <tr>\n",
       "      <th>7</th>\n",
       "      <td>2</td>\n",
       "      <td>365</td>\n",
       "      <td>2</td>\n",
       "      <td>2</td>\n",
       "      <td>365</td>\n",
       "      <td>365</td>\n",
       "      <td>2.0</td>\n",
       "      <td>365.0</td>\n",
       "    </tr>\n",
       "    <tr>\n",
       "      <th>8</th>\n",
       "      <td>2</td>\n",
       "      <td>720</td>\n",
       "      <td>2</td>\n",
       "      <td>2</td>\n",
       "      <td>720</td>\n",
       "      <td>720</td>\n",
       "      <td>2.0</td>\n",
       "      <td>720.0</td>\n",
       "    </tr>\n",
       "    <tr>\n",
       "      <th>9</th>\n",
       "      <td>1</td>\n",
       "      <td>1125</td>\n",
       "      <td>1</td>\n",
       "      <td>1</td>\n",
       "      <td>1125</td>\n",
       "      <td>1125</td>\n",
       "      <td>1.0</td>\n",
       "      <td>1125.0</td>\n",
       "    </tr>\n",
       "  </tbody>\n",
       "</table>\n",
       "</div>"
      ],
      "text/plain": [
       "   minimum_nights  maximum_nights  minimum_minimum_nights  \\\n",
       "0               6              14                       6   \n",
       "1               1            1125                       1   \n",
       "2               1            1125                       1   \n",
       "3               1            1125                       1   \n",
       "4               1             365                       1   \n",
       "5               7            1000                       7   \n",
       "6              15             180                      15   \n",
       "7               2             365                       2   \n",
       "8               2             720                       2   \n",
       "9               1            1125                       1   \n",
       "\n",
       "   maximum_minimum_nights  minimum_maximum_nights  maximum_maximum_nights  \\\n",
       "0                       6                      14                      14   \n",
       "1                       1                    1125                    1125   \n",
       "2                       1                    1125                    1125   \n",
       "3                       1                    1125                    1125   \n",
       "4                       1                     365                     365   \n",
       "5                       7                    1000                    1000   \n",
       "6                      15                     180                     180   \n",
       "7                       2                     365                     365   \n",
       "8                       2                     720                     720   \n",
       "9                       1                    1125                    1125   \n",
       "\n",
       "   minimum_nights_avg_ntm  maximum_nights_avg_ntm  \n",
       "0                     6.0                    14.0  \n",
       "1                     1.0                  1125.0  \n",
       "2                     1.0                  1125.0  \n",
       "3                     1.0                  1125.0  \n",
       "4                     1.0                   365.0  \n",
       "5                     7.0                  1000.0  \n",
       "6                    15.0                   180.0  \n",
       "7                     2.0                   365.0  \n",
       "8                     2.0                   720.0  \n",
       "9                     1.0                  1125.0  "
      ]
     },
     "execution_count": 19,
     "metadata": {},
     "output_type": "execute_result"
    }
   ],
   "source": [
    "df[ls_night].head(10)"
   ]
  },
  {
   "cell_type": "markdown",
   "metadata": {},
   "source": [
    "Nilai kolom tidak berbeda jauh dengan minimum_nights atau maximum_nights sehingga kita akan drop kolom selain kolom minimum_nights dan maximum_nights"
   ]
  },
  {
   "cell_type": "code",
   "execution_count": 20,
   "metadata": {},
   "outputs": [],
   "source": [
    "df = df.drop(ls_night[2:],axis=1)"
   ]
  },
  {
   "cell_type": "markdown",
   "metadata": {},
   "source": [
    "### Kolom yang dapat dihitung Correlation dengan total_price"
   ]
  },
  {
   "cell_type": "code",
   "execution_count": 21,
   "metadata": {},
   "outputs": [
    {
     "data": {
      "text/plain": [
       "0    1\n",
       "1    6\n",
       "2    3\n",
       "3    3\n",
       "4    6\n",
       "Name: accommodates, dtype: int64"
      ]
     },
     "execution_count": 21,
     "metadata": {},
     "output_type": "execute_result"
    }
   ],
   "source": [
    "df['accommodates'].head()"
   ]
  },
  {
   "cell_type": "code",
   "execution_count": 22,
   "metadata": {},
   "outputs": [
    {
     "data": {
      "text/plain": [
       "host_response_rate                                50\n",
       "host_is_superhost                                  2\n",
       "host_listings_count                               68\n",
       "host_total_listings_count                         68\n",
       "area                                              44\n",
       "region                                             5\n",
       "property_type                                     23\n",
       "room_type                                          3\n",
       "accommodates                                      16\n",
       "bathrooms                                         20\n",
       "bedrooms                                           8\n",
       "beds                                              19\n",
       "price                                            267\n",
       "security_deposit                                 106\n",
       "cleaning_fee                                      98\n",
       "guests_included                                   11\n",
       "extra_people                                      71\n",
       "minimum_nights                                    28\n",
       "maximum_nights                                   108\n",
       "availability_30                                   31\n",
       "availability_60                                   61\n",
       "availability_90                                   91\n",
       "availability_365                                 358\n",
       "number_of_reviews                                194\n",
       "number_of_reviews_ltm                             87\n",
       "first_review                                    1495\n",
       "last_review                                      859\n",
       "scores_rating                                     46\n",
       "scores_accuracy                                    9\n",
       "scores_cleanliness                                 8\n",
       "scores_checkin                                     9\n",
       "scores_communication                               9\n",
       "scores_location                                    8\n",
       "scores_value                                       9\n",
       "instant_bookable                                   2\n",
       "cancellation_policy                                5\n",
       "calculated_host_listings_count                    56\n",
       "calculated_host_listings_count_entire_homes       51\n",
       "calculated_host_listings_count_private_rooms      27\n",
       "calculated_host_listings_count_shared_rooms       17\n",
       "reviews_per_month                                509\n",
       "total_price                                      429\n",
       "dtype: int64"
      ]
     },
     "execution_count": 22,
     "metadata": {},
     "output_type": "execute_result"
    }
   ],
   "source": [
    "df.nunique()"
   ]
  },
  {
   "cell_type": "code",
   "execution_count": 23,
   "metadata": {},
   "outputs": [],
   "source": [
    "df_corr_calc = df.drop(['host_is_superhost', 'area', 'region', 'property_type', 'room_type', 'first_review', 'last_review',\n",
    "        'instant_bookable', 'cancellation_policy'], axis=1)"
   ]
  },
  {
   "cell_type": "code",
   "execution_count": 24,
   "metadata": {},
   "outputs": [],
   "source": [
    "corr_total_price = df_corr_calc.corr().loc['total_price']"
   ]
  },
  {
   "cell_type": "code",
   "execution_count": 25,
   "metadata": {},
   "outputs": [],
   "source": [
    "col_to_use = []\n",
    "for element in corr_total_price.index:\n",
    "    if (corr_total_price[element] > 0.1) or (corr_total_price[element] < -0.1):\n",
    "        col_to_use.append(element)"
   ]
  },
  {
   "cell_type": "code",
   "execution_count": 26,
   "metadata": {},
   "outputs": [
    {
     "data": {
      "text/plain": [
       "['accommodates',\n",
       " 'bathrooms',\n",
       " 'bedrooms',\n",
       " 'beds',\n",
       " 'price',\n",
       " 'cleaning_fee',\n",
       " 'guests_included',\n",
       " 'extra_people',\n",
       " 'calculated_host_listings_count_entire_homes',\n",
       " 'calculated_host_listings_count_private_rooms',\n",
       " 'total_price']"
      ]
     },
     "execution_count": 26,
     "metadata": {},
     "output_type": "execute_result"
    }
   ],
   "source": [
    "col_to_use"
   ]
  },
  {
   "cell_type": "markdown",
   "metadata": {},
   "source": [
    "## Kolom Kategorikal yang digunakan"
   ]
  },
  {
   "cell_type": "code",
   "execution_count": 27,
   "metadata": {},
   "outputs": [],
   "source": [
    "cat_col = ['host_is_superhost', 'area', 'region', 'property_type', 'room_type','instant_bookable', 'cancellation_policy']"
   ]
  },
  {
   "cell_type": "code",
   "execution_count": 28,
   "metadata": {},
   "outputs": [
    {
     "data": {
      "image/png": "[encoded data removed]",
      "text/plain": [
       "<Figure size 1800x2520 with 6 Axes>"
      ]
     },
     "metadata": {
      "needs_background": "light"
     },
     "output_type": "display_data"
    },
    {
     "data": {
      "image/png": "[encoded data removed]",
      "text/plain": [
       "<Figure size 720x504 with 1 Axes>"
      ]
     },
     "metadata": {
      "needs_background": "light"
     },
     "output_type": "display_data"
    }
   ],
   "source": [
    "y = df['total_price']\n",
    "i = 1\n",
    "plt.figure(figsize=(25,35))\n",
    "for element in cat_col[:-1]:\n",
    "    plt.subplot(3,2,i)\n",
    "    sns.boxplot(x=df[element], y=y)\n",
    "    plt.xticks(rotation=90)\n",
    "    i +=1\n",
    "plt.show()\n",
    "plt.figure(figsize=(10,7))\n",
    "plt.subplot(1,1,1)\n",
    "sns.boxplot(x=df[cat_col[-1]], y=y)\n",
    "plt.xticks(rotation=90)\n",
    "plt.show()"
   ]
  },
  {
   "cell_type": "code",
   "execution_count": 29,
   "metadata": {},
   "outputs": [],
   "source": [
    "for element in cat_col:\n",
    "    col_to_use.append(element)"
   ]
  },
  {
   "cell_type": "code",
   "execution_count": 30,
   "metadata": {},
   "outputs": [
    {
     "data": {
      "text/plain": [
       "['accommodates',\n",
       " 'bathrooms',\n",
       " 'bedrooms',\n",
       " 'beds',\n",
       " 'price',\n",
       " 'cleaning_fee',\n",
       " 'guests_included',\n",
       " 'extra_people',\n",
       " 'calculated_host_listings_count_entire_homes',\n",
       " 'calculated_host_listings_count_private_rooms',\n",
       " 'total_price',\n",
       " 'host_is_superhost',\n",
       " 'area',\n",
       " 'region',\n",
       " 'property_type',\n",
       " 'room_type',\n",
       " 'instant_bookable',\n",
       " 'cancellation_policy']"
      ]
     },
     "execution_count": 30,
     "metadata": {},
     "output_type": "execute_result"
    }
   ],
   "source": [
    "col_to_use"
   ]
  },
  {
   "cell_type": "code",
   "execution_count": 31,
   "metadata": {},
   "outputs": [],
   "source": [
    "df_predict = df[col_to_use]"
   ]
  },
  {
   "cell_type": "code",
   "execution_count": 32,
   "metadata": {},
   "outputs": [
    {
     "data": {
      "text/html": [
       "<div>\n",
       "<style scoped>\n",
       "    .dataframe tbody tr th:only-of-type {\n",
       "        vertical-align: middle;\n",
       "    }\n",
       "\n",
       "    .dataframe tbody tr th {\n",
       "        vertical-align: top;\n",
       "    }\n",
       "\n",
       "    .dataframe thead th {\n",
       "        text-align: right;\n",
       "    }\n",
       "</style>\n",
       "<table border=\"1\" class=\"dataframe\">\n",
       "  <thead>\n",
       "    <tr style=\"text-align: right;\">\n",
       "      <th></th>\n",
       "      <th>accommodates</th>\n",
       "      <th>bathrooms</th>\n",
       "      <th>bedrooms</th>\n",
       "      <th>beds</th>\n",
       "      <th>price</th>\n",
       "      <th>cleaning_fee</th>\n",
       "      <th>guests_included</th>\n",
       "      <th>extra_people</th>\n",
       "      <th>calculated_host_listings_count_entire_homes</th>\n",
       "      <th>calculated_host_listings_count_private_rooms</th>\n",
       "      <th>total_price</th>\n",
       "      <th>host_is_superhost</th>\n",
       "      <th>area</th>\n",
       "      <th>region</th>\n",
       "      <th>property_type</th>\n",
       "      <th>room_type</th>\n",
       "      <th>instant_bookable</th>\n",
       "      <th>cancellation_policy</th>\n",
       "    </tr>\n",
       "  </thead>\n",
       "  <tbody>\n",
       "    <tr>\n",
       "      <th>0</th>\n",
       "      <td>1</td>\n",
       "      <td>1.0</td>\n",
       "      <td>1.0</td>\n",
       "      <td>1.0</td>\n",
       "      <td>69.0</td>\n",
       "      <td>39.0</td>\n",
       "      <td>1</td>\n",
       "      <td>14.0</td>\n",
       "      <td>0</td>\n",
       "      <td>2</td>\n",
       "      <td>69.0</td>\n",
       "      <td>0</td>\n",
       "      <td>Woodlands</td>\n",
       "      <td>North Region</td>\n",
       "      <td>Apartment</td>\n",
       "      <td>Private room</td>\n",
       "      <td>0</td>\n",
       "      <td>flexible</td>\n",
       "    </tr>\n",
       "    <tr>\n",
       "      <th>1</th>\n",
       "      <td>6</td>\n",
       "      <td>1.0</td>\n",
       "      <td>2.0</td>\n",
       "      <td>3.0</td>\n",
       "      <td>204.0</td>\n",
       "      <td>55.0</td>\n",
       "      <td>4</td>\n",
       "      <td>28.0</td>\n",
       "      <td>0</td>\n",
       "      <td>9</td>\n",
       "      <td>260.0</td>\n",
       "      <td>0</td>\n",
       "      <td>Tampines</td>\n",
       "      <td>East Region</td>\n",
       "      <td>Villa</td>\n",
       "      <td>Private room</td>\n",
       "      <td>1</td>\n",
       "      <td>moderate</td>\n",
       "    </tr>\n",
       "    <tr>\n",
       "      <th>2</th>\n",
       "      <td>3</td>\n",
       "      <td>0.5</td>\n",
       "      <td>1.0</td>\n",
       "      <td>1.0</td>\n",
       "      <td>94.0</td>\n",
       "      <td>28.0</td>\n",
       "      <td>1</td>\n",
       "      <td>21.0</td>\n",
       "      <td>0</td>\n",
       "      <td>9</td>\n",
       "      <td>136.0</td>\n",
       "      <td>0</td>\n",
       "      <td>Tampines</td>\n",
       "      <td>East Region</td>\n",
       "      <td>House</td>\n",
       "      <td>Private room</td>\n",
       "      <td>1</td>\n",
       "      <td>moderate</td>\n",
       "    </tr>\n",
       "    <tr>\n",
       "      <th>3</th>\n",
       "      <td>3</td>\n",
       "      <td>0.5</td>\n",
       "      <td>1.0</td>\n",
       "      <td>2.0</td>\n",
       "      <td>103.0</td>\n",
       "      <td>28.0</td>\n",
       "      <td>1</td>\n",
       "      <td>21.0</td>\n",
       "      <td>0</td>\n",
       "      <td>9</td>\n",
       "      <td>145.0</td>\n",
       "      <td>0</td>\n",
       "      <td>Tampines</td>\n",
       "      <td>East Region</td>\n",
       "      <td>House</td>\n",
       "      <td>Private room</td>\n",
       "      <td>0</td>\n",
       "      <td>moderate</td>\n",
       "    </tr>\n",
       "    <tr>\n",
       "      <th>4</th>\n",
       "      <td>6</td>\n",
       "      <td>1.0</td>\n",
       "      <td>1.0</td>\n",
       "      <td>7.0</td>\n",
       "      <td>207.0</td>\n",
       "      <td>69.0</td>\n",
       "      <td>4</td>\n",
       "      <td>34.0</td>\n",
       "      <td>0</td>\n",
       "      <td>9</td>\n",
       "      <td>275.0</td>\n",
       "      <td>0</td>\n",
       "      <td>Tampines</td>\n",
       "      <td>East Region</td>\n",
       "      <td>House</td>\n",
       "      <td>Private room</td>\n",
       "      <td>1</td>\n",
       "      <td>strict_14_with_grace_period</td>\n",
       "    </tr>\n",
       "  </tbody>\n",
       "</table>\n",
       "</div>"
      ],
      "text/plain": [
       "   accommodates  bathrooms  bedrooms  beds  price  cleaning_fee  \\\n",
       "0             1        1.0       1.0   1.0   69.0          39.0   \n",
       "1             6        1.0       2.0   3.0  204.0          55.0   \n",
       "2             3        0.5       1.0   1.0   94.0          28.0   \n",
       "3             3        0.5       1.0   2.0  103.0          28.0   \n",
       "4             6        1.0       1.0   7.0  207.0          69.0   \n",
       "\n",
       "   guests_included  extra_people  calculated_host_listings_count_entire_homes  \\\n",
       "0                1          14.0                                            0   \n",
       "1                4          28.0                                            0   \n",
       "2                1          21.0                                            0   \n",
       "3                1          21.0                                            0   \n",
       "4                4          34.0                                            0   \n",
       "\n",
       "   calculated_host_listings_count_private_rooms  total_price  \\\n",
       "0                                             2         69.0   \n",
       "1                                             9        260.0   \n",
       "2                                             9        136.0   \n",
       "3                                             9        145.0   \n",
       "4                                             9        275.0   \n",
       "\n",
       "   host_is_superhost       area        region property_type     room_type  \\\n",
       "0                  0  Woodlands  North Region     Apartment  Private room   \n",
       "1                  0   Tampines   East Region         Villa  Private room   \n",
       "2                  0   Tampines   East Region         House  Private room   \n",
       "3                  0   Tampines   East Region         House  Private room   \n",
       "4                  0   Tampines   East Region         House  Private room   \n",
       "\n",
       "   instant_bookable          cancellation_policy  \n",
       "0                 0                     flexible  \n",
       "1                 1                     moderate  \n",
       "2                 1                     moderate  \n",
       "3                 0                     moderate  \n",
       "4                 1  strict_14_with_grace_period  "
      ]
     },
     "execution_count": 32,
     "metadata": {},
     "output_type": "execute_result"
    }
   ],
   "source": [
    "df_predict.head()"
   ]
  },
  {
   "cell_type": "markdown",
   "metadata": {},
   "source": [
    "### Missing Value Data"
   ]
  },
  {
   "cell_type": "code",
   "execution_count": 33,
   "metadata": {},
   "outputs": [
    {
     "data": {
      "text/plain": [
       "accommodates                                     0\n",
       "bathrooms                                        3\n",
       "bedrooms                                         0\n",
       "beds                                            13\n",
       "price                                            0\n",
       "cleaning_fee                                     0\n",
       "guests_included                                  0\n",
       "extra_people                                     0\n",
       "calculated_host_listings_count_entire_homes      0\n",
       "calculated_host_listings_count_private_rooms     0\n",
       "total_price                                      0\n",
       "host_is_superhost                                0\n",
       "area                                             0\n",
       "region                                           0\n",
       "property_type                                    0\n",
       "room_type                                        0\n",
       "instant_bookable                                 0\n",
       "cancellation_policy                              0\n",
       "dtype: int64"
      ]
     },
     "execution_count": 33,
     "metadata": {},
     "output_type": "execute_result"
    }
   ],
   "source": [
    "df_predict.isnull().sum()"
   ]
  },
  {
   "cell_type": "markdown",
   "metadata": {},
   "source": [
    "hanya sedikit data yang terdapat NaN value. kita akan drop saja data tersebut."
   ]
  },
  {
   "cell_type": "code",
   "execution_count": 34,
   "metadata": {},
   "outputs": [
    {
     "name": "stderr",
     "output_type": "stream",
     "text": [
      "C:\\Users\\Elga Ridho Maulana\\Anaconda3\\lib\\site-packages\\ipykernel_launcher.py:1: SettingWithCopyWarning: \n",
      "A value is trying to be set on a copy of a slice from a DataFrame\n",
      "\n",
      "See the caveats in the documentation: http://pandas.pydata.org/pandas-docs/stable/indexing.html#indexing-view-versus-copy\n",
      "  \"\"\"Entry point for launching an IPython kernel.\n"
     ]
    }
   ],
   "source": [
    "df_predict.dropna(inplace=True)"
   ]
  },
  {
   "cell_type": "code",
   "execution_count": 35,
   "metadata": {},
   "outputs": [
    {
     "data": {
      "text/plain": [
       "accommodates                                    0\n",
       "bathrooms                                       0\n",
       "bedrooms                                        0\n",
       "beds                                            0\n",
       "price                                           0\n",
       "cleaning_fee                                    0\n",
       "guests_included                                 0\n",
       "extra_people                                    0\n",
       "calculated_host_listings_count_entire_homes     0\n",
       "calculated_host_listings_count_private_rooms    0\n",
       "total_price                                     0\n",
       "host_is_superhost                               0\n",
       "area                                            0\n",
       "region                                          0\n",
       "property_type                                   0\n",
       "room_type                                       0\n",
       "instant_bookable                                0\n",
       "cancellation_policy                             0\n",
       "dtype: int64"
      ]
     },
     "execution_count": 35,
     "metadata": {},
     "output_type": "execute_result"
    }
   ],
   "source": [
    "df_predict.isnull().sum()"
   ]
  },
  {
   "cell_type": "code",
   "execution_count": 36,
   "metadata": {},
   "outputs": [],
   "source": [
    "df_predict = df_predict.drop('price', axis=1)"
   ]
  },
  {
   "cell_type": "markdown",
   "metadata": {},
   "source": [
    "### One Hot Encode dengan menggunakan get dummies"
   ]
  },
  {
   "cell_type": "code",
   "execution_count": 37,
   "metadata": {},
   "outputs": [],
   "source": [
    "df_dummies = pd.get_dummies(data=df_predict, columns=cat_col, drop_first=True)"
   ]
  },
  {
   "cell_type": "code",
   "execution_count": 38,
   "metadata": {},
   "outputs": [
    {
     "data": {
      "text/plain": [
       "(6879, 87)"
      ]
     },
     "execution_count": 38,
     "metadata": {},
     "output_type": "execute_result"
    }
   ],
   "source": [
    "df_dummies.shape"
   ]
  },
  {
   "cell_type": "markdown",
   "metadata": {},
   "source": [
    "Terdapat 87 kolom. Kita akan mereduksinya dengan PCA"
   ]
  },
  {
   "cell_type": "markdown",
   "metadata": {},
   "source": [
    "# Feature Engineering"
   ]
  },
  {
   "cell_type": "code",
   "execution_count": 39,
   "metadata": {},
   "outputs": [],
   "source": [
    "X = df_dummies.drop('total_price', axis=1).values\n",
    "y = df_dummies['total_price']"
   ]
  },
  {
   "cell_type": "code",
   "execution_count": 40,
   "metadata": {},
   "outputs": [],
   "source": [
    "from sklearn.decomposition import PCA\n",
    "from sklearn.preprocessing import StandardScaler\n",
    "from sklearn.pipeline import make_pipeline"
   ]
  },
  {
   "cell_type": "code",
   "execution_count": 41,
   "metadata": {},
   "outputs": [],
   "source": [
    "scaler = StandardScaler()\n",
    "model = PCA()\n",
    "pipeline = make_pipeline(scaler, model)"
   ]
  },
  {
   "cell_type": "code",
   "execution_count": 42,
   "metadata": {},
   "outputs": [
    {
     "data": {
      "text/plain": [
       "Pipeline(memory=None,\n",
       "         steps=[('standardscaler',\n",
       "                 StandardScaler(copy=True, with_mean=True, with_std=True)),\n",
       "                ('pca',\n",
       "                 PCA(copy=True, iterated_power='auto', n_components=None,\n",
       "                     random_state=None, svd_solver='auto', tol=0.0,\n",
       "                     whiten=False))],\n",
       "         verbose=False)"
      ]
     },
     "execution_count": 42,
     "metadata": {},
     "output_type": "execute_result"
    }
   ],
   "source": [
    "pipeline.fit(X)"
   ]
  },
  {
   "cell_type": "code",
   "execution_count": 43,
   "metadata": {},
   "outputs": [
    {
     "data": {
      "image/png": "[encoded data removed]",
      "text/plain": [
       "<Figure size 432x288 with 1 Axes>"
      ]
     },
     "metadata": {
      "needs_background": "light"
     },
     "output_type": "display_data"
    }
   ],
   "source": [
    "#Melihat feature dengan feature variance\n",
    "features = range(model.n_components_)\n",
    "plt.bar(features, model.explained_variance_)\n",
    "plt.xlabel('Feature')\n",
    "plt.ylabel('Feature Variance')\n",
    "plt.show()"
   ]
  },
  {
   "cell_type": "markdown",
   "metadata": {},
   "source": [
    "Menggunakan 20 feature"
   ]
  },
  {
   "cell_type": "code",
   "execution_count": 44,
   "metadata": {},
   "outputs": [],
   "source": [
    "pca = PCA(n_components=15)"
   ]
  },
  {
   "cell_type": "code",
   "execution_count": 45,
   "metadata": {},
   "outputs": [
    {
     "data": {
      "text/plain": [
       "PCA(copy=True, iterated_power='auto', n_components=15, random_state=None,\n",
       "    svd_solver='auto', tol=0.0, whiten=False)"
      ]
     },
     "execution_count": 45,
     "metadata": {},
     "output_type": "execute_result"
    }
   ],
   "source": [
    "pca.fit(X)"
   ]
  },
  {
   "cell_type": "code",
   "execution_count": 46,
   "metadata": {},
   "outputs": [],
   "source": [
    "X_pca = pca.transform(X)"
   ]
  },
  {
   "cell_type": "markdown",
   "metadata": {},
   "source": [
    "X_pca adalah X yang akan dijadikan sebagai feature dalam memprediksi y"
   ]
  },
  {
   "cell_type": "markdown",
   "metadata": {},
   "source": [
    "# Prediction"
   ]
  },
  {
   "cell_type": "markdown",
   "metadata": {},
   "source": [
    "### Prediksi dengan PCA"
   ]
  },
  {
   "cell_type": "code",
   "execution_count": 47,
   "metadata": {},
   "outputs": [],
   "source": [
    "def regression1(X, y):\n",
    "    from sklearn.ensemble import RandomForestRegressor\n",
    "    from sklearn.linear_model import Lasso, Ridge, LinearRegression\n",
    "    from sklearn.model_selection import train_test_split\n",
    "    from sklearn.metrics import mean_absolute_error, mean_squared_error\n",
    "    \n",
    "    #Train test split\n",
    "    X_train, X_test, y_train, y_test = train_test_split(X, y)\n",
    "    \n",
    "    model = []\n",
    "    model_str = ['RandomForestRegressor', 'Lasso', 'Ridge', 'LinearRegression']\n",
    "    for item in [RandomForestRegressor, Lasso, Ridge, LinearRegression]:\n",
    "        model.append(item())\n",
    "        \n",
    "    #Fitting the alghoritm\n",
    "    column = []\n",
    "    i = 0\n",
    "    for item in model:\n",
    "        item.fit(X_train, y_train)\n",
    "        y_pred = item.predict(X_test)\n",
    "        MAE = mean_absolute_error(y_pred, y_test)\n",
    "        MSE = mean_squared_error(y_pred, y_test)\n",
    "        RMSE = np.sqrt(mean_squared_error(y_pred, y_test))\n",
    "        temp = [model_str[i], MAE, MSE, RMSE]\n",
    "        column.append(temp)\n",
    "        i += 1\n",
    "    dataframe = pd.DataFrame(column, columns=['Model', 'MAE', 'MSE', 'RMSE'])\n",
    "    return dataframe"
   ]
  },
  {
   "cell_type": "code",
   "execution_count": 48,
   "metadata": {},
   "outputs": [
    {
     "name": "stderr",
     "output_type": "stream",
     "text": [
      "C:\\Users\\Elga Ridho Maulana\\Anaconda3\\lib\\site-packages\\sklearn\\ensemble\\forest.py:245: FutureWarning: The default value of n_estimators will change from 10 in version 0.20 to 100 in 0.22.\n",
      "  \"10 in version 0.20 to 100 in 0.22.\", FutureWarning)\n"
     ]
    },
    {
     "data": {
      "text/html": [
       "<div>\n",
       "<style scoped>\n",
       "    .dataframe tbody tr th:only-of-type {\n",
       "        vertical-align: middle;\n",
       "    }\n",
       "\n",
       "    .dataframe tbody tr th {\n",
       "        vertical-align: top;\n",
       "    }\n",
       "\n",
       "    .dataframe thead th {\n",
       "        text-align: right;\n",
       "    }\n",
       "</style>\n",
       "<table border=\"1\" class=\"dataframe\">\n",
       "  <thead>\n",
       "    <tr style=\"text-align: right;\">\n",
       "      <th></th>\n",
       "      <th>Model</th>\n",
       "      <th>MAE</th>\n",
       "      <th>MSE</th>\n",
       "      <th>RMSE</th>\n",
       "    </tr>\n",
       "  </thead>\n",
       "  <tbody>\n",
       "    <tr>\n",
       "      <th>0</th>\n",
       "      <td>RandomForestRegressor</td>\n",
       "      <td>38.289994</td>\n",
       "      <td>32647.640349</td>\n",
       "      <td>180.686580</td>\n",
       "    </tr>\n",
       "    <tr>\n",
       "      <th>1</th>\n",
       "      <td>Lasso</td>\n",
       "      <td>46.560685</td>\n",
       "      <td>45377.155956</td>\n",
       "      <td>213.019145</td>\n",
       "    </tr>\n",
       "    <tr>\n",
       "      <th>2</th>\n",
       "      <td>Ridge</td>\n",
       "      <td>46.629136</td>\n",
       "      <td>45329.817819</td>\n",
       "      <td>212.908003</td>\n",
       "    </tr>\n",
       "    <tr>\n",
       "      <th>3</th>\n",
       "      <td>LinearRegression</td>\n",
       "      <td>46.630351</td>\n",
       "      <td>45329.789873</td>\n",
       "      <td>212.907938</td>\n",
       "    </tr>\n",
       "  </tbody>\n",
       "</table>\n",
       "</div>"
      ],
      "text/plain": [
       "                   Model        MAE           MSE        RMSE\n",
       "0  RandomForestRegressor  38.289994  32647.640349  180.686580\n",
       "1                  Lasso  46.560685  45377.155956  213.019145\n",
       "2                  Ridge  46.629136  45329.817819  212.908003\n",
       "3       LinearRegression  46.630351  45329.789873  212.907938"
      ]
     },
     "execution_count": 48,
     "metadata": {},
     "output_type": "execute_result"
    }
   ],
   "source": [
    "regression1(X_pca, y)"
   ]
  },
  {
   "cell_type": "code",
   "execution_count": 49,
   "metadata": {},
   "outputs": [],
   "source": [
    "from sklearn.ensemble import RandomForestRegressor\n",
    "from sklearn.linear_model import Lasso, Ridge, LinearRegression\n",
    "from sklearn.model_selection import train_test_split\n",
    "from sklearn.metrics import mean_absolute_error, mean_squared_error"
   ]
  },
  {
   "cell_type": "code",
   "execution_count": 50,
   "metadata": {},
   "outputs": [],
   "source": [
    "def scatter_model(X, y, algo):\n",
    "    X_train, X_test, y_train, y_test = train_test_split(X, y)\n",
    "    y_pred = algo().fit(X_train, y_train).predict(X_test)\n",
    "    return sns.scatterplot(y_pred, y_test)"
   ]
  },
  {
   "cell_type": "code",
   "execution_count": 51,
   "metadata": {},
   "outputs": [
    {
     "data": {
      "text/plain": [
       "<matplotlib.axes._subplots.AxesSubplot at 0x1c31be83c18>"
      ]
     },
     "execution_count": 51,
     "metadata": {},
     "output_type": "execute_result"
    },
    {
     "data": {
      "image/png": "[encoded data removed]",
      "text/plain": [
       "<Figure size 432x288 with 1 Axes>"
      ]
     },
     "metadata": {
      "needs_background": "light"
     },
     "output_type": "display_data"
    }
   ],
   "source": [
    "scatter_model(X_pca, y, LinearRegression)"
   ]
  },
  {
   "cell_type": "markdown",
   "metadata": {},
   "source": [
    "### Prediksi tanpa PCA"
   ]
  },
  {
   "cell_type": "code",
   "execution_count": 52,
   "metadata": {},
   "outputs": [
    {
     "name": "stderr",
     "output_type": "stream",
     "text": [
      "C:\\Users\\Elga Ridho Maulana\\Anaconda3\\lib\\site-packages\\sklearn\\ensemble\\forest.py:245: FutureWarning: The default value of n_estimators will change from 10 in version 0.20 to 100 in 0.22.\n",
      "  \"10 in version 0.20 to 100 in 0.22.\", FutureWarning)\n"
     ]
    },
    {
     "data": {
      "text/html": [
       "<div>\n",
       "<style scoped>\n",
       "    .dataframe tbody tr th:only-of-type {\n",
       "        vertical-align: middle;\n",
       "    }\n",
       "\n",
       "    .dataframe tbody tr th {\n",
       "        vertical-align: top;\n",
       "    }\n",
       "\n",
       "    .dataframe thead th {\n",
       "        text-align: right;\n",
       "    }\n",
       "</style>\n",
       "<table border=\"1\" class=\"dataframe\">\n",
       "  <thead>\n",
       "    <tr style=\"text-align: right;\">\n",
       "      <th></th>\n",
       "      <th>Model</th>\n",
       "      <th>MAE</th>\n",
       "      <th>MSE</th>\n",
       "      <th>RMSE</th>\n",
       "    </tr>\n",
       "  </thead>\n",
       "  <tbody>\n",
       "    <tr>\n",
       "      <th>0</th>\n",
       "      <td>RandomForestRegressor</td>\n",
       "      <td>30.762034</td>\n",
       "      <td>11683.297218</td>\n",
       "      <td>108.089302</td>\n",
       "    </tr>\n",
       "    <tr>\n",
       "      <th>1</th>\n",
       "      <td>Lasso</td>\n",
       "      <td>40.324949</td>\n",
       "      <td>8379.363683</td>\n",
       "      <td>91.538864</td>\n",
       "    </tr>\n",
       "    <tr>\n",
       "      <th>2</th>\n",
       "      <td>Ridge</td>\n",
       "      <td>39.917214</td>\n",
       "      <td>10266.556650</td>\n",
       "      <td>101.324018</td>\n",
       "    </tr>\n",
       "    <tr>\n",
       "      <th>3</th>\n",
       "      <td>LinearRegression</td>\n",
       "      <td>40.175676</td>\n",
       "      <td>12218.960656</td>\n",
       "      <td>110.539408</td>\n",
       "    </tr>\n",
       "  </tbody>\n",
       "</table>\n",
       "</div>"
      ],
      "text/plain": [
       "                   Model        MAE           MSE        RMSE\n",
       "0  RandomForestRegressor  30.762034  11683.297218  108.089302\n",
       "1                  Lasso  40.324949   8379.363683   91.538864\n",
       "2                  Ridge  39.917214  10266.556650  101.324018\n",
       "3       LinearRegression  40.175676  12218.960656  110.539408"
      ]
     },
     "execution_count": 52,
     "metadata": {},
     "output_type": "execute_result"
    }
   ],
   "source": [
    "regression1(X,y)"
   ]
  },
  {
   "cell_type": "code",
   "execution_count": 53,
   "metadata": {},
   "outputs": [
    {
     "data": {
      "text/plain": [
       "<matplotlib.axes._subplots.AxesSubplot at 0x1c31bf0a7f0>"
      ]
     },
     "execution_count": 53,
     "metadata": {},
     "output_type": "execute_result"
    },
    {
     "data": {
      "image/png": "[encoded data removed]",
      "text/plain": [
       "<Figure size 432x288 with 1 Axes>"
      ]
     },
     "metadata": {
      "needs_background": "light"
     },
     "output_type": "display_data"
    }
   ],
   "source": [
    "scatter_model(X,y, LinearRegression)"
   ]
  },
  {
   "cell_type": "markdown",
   "metadata": {},
   "source": [
    "### Prediksi tanpa kategorikal column"
   ]
  },
  {
   "cell_type": "code",
   "execution_count": 54,
   "metadata": {},
   "outputs": [],
   "source": [
    "df_pred_wo_cat = df_predict.drop(cat_col, axis=1)"
   ]
  },
  {
   "cell_type": "code",
   "execution_count": 55,
   "metadata": {},
   "outputs": [],
   "source": [
    "X1 = df_pred_wo_cat.drop('total_price', axis=1).values\n",
    "y1 = df_pred_wo_cat['total_price']"
   ]
  },
  {
   "cell_type": "code",
   "execution_count": 56,
   "metadata": {},
   "outputs": [
    {
     "name": "stderr",
     "output_type": "stream",
     "text": [
      "C:\\Users\\Elga Ridho Maulana\\Anaconda3\\lib\\site-packages\\sklearn\\ensemble\\forest.py:245: FutureWarning: The default value of n_estimators will change from 10 in version 0.20 to 100 in 0.22.\n",
      "  \"10 in version 0.20 to 100 in 0.22.\", FutureWarning)\n"
     ]
    },
    {
     "data": {
      "text/html": [
       "<div>\n",
       "<style scoped>\n",
       "    .dataframe tbody tr th:only-of-type {\n",
       "        vertical-align: middle;\n",
       "    }\n",
       "\n",
       "    .dataframe tbody tr th {\n",
       "        vertical-align: top;\n",
       "    }\n",
       "\n",
       "    .dataframe thead th {\n",
       "        text-align: right;\n",
       "    }\n",
       "</style>\n",
       "<table border=\"1\" class=\"dataframe\">\n",
       "  <thead>\n",
       "    <tr style=\"text-align: right;\">\n",
       "      <th></th>\n",
       "      <th>Model</th>\n",
       "      <th>MAE</th>\n",
       "      <th>MSE</th>\n",
       "      <th>RMSE</th>\n",
       "    </tr>\n",
       "  </thead>\n",
       "  <tbody>\n",
       "    <tr>\n",
       "      <th>0</th>\n",
       "      <td>RandomForestRegressor</td>\n",
       "      <td>37.626194</td>\n",
       "      <td>64207.581927</td>\n",
       "      <td>253.392150</td>\n",
       "    </tr>\n",
       "    <tr>\n",
       "      <th>1</th>\n",
       "      <td>Lasso</td>\n",
       "      <td>54.220430</td>\n",
       "      <td>69244.730508</td>\n",
       "      <td>263.143935</td>\n",
       "    </tr>\n",
       "    <tr>\n",
       "      <th>2</th>\n",
       "      <td>Ridge</td>\n",
       "      <td>54.486971</td>\n",
       "      <td>69416.986814</td>\n",
       "      <td>263.471036</td>\n",
       "    </tr>\n",
       "    <tr>\n",
       "      <th>3</th>\n",
       "      <td>LinearRegression</td>\n",
       "      <td>54.487346</td>\n",
       "      <td>69417.204365</td>\n",
       "      <td>263.471449</td>\n",
       "    </tr>\n",
       "  </tbody>\n",
       "</table>\n",
       "</div>"
      ],
      "text/plain": [
       "                   Model        MAE           MSE        RMSE\n",
       "0  RandomForestRegressor  37.626194  64207.581927  253.392150\n",
       "1                  Lasso  54.220430  69244.730508  263.143935\n",
       "2                  Ridge  54.486971  69416.986814  263.471036\n",
       "3       LinearRegression  54.487346  69417.204365  263.471449"
      ]
     },
     "execution_count": 56,
     "metadata": {},
     "output_type": "execute_result"
    }
   ],
   "source": [
    "regression1(X1, y1)"
   ]
  },
  {
   "cell_type": "code",
   "execution_count": 57,
   "metadata": {},
   "outputs": [
    {
     "data": {
      "text/plain": [
       "<matplotlib.axes._subplots.AxesSubplot at 0x1c31c09cba8>"
      ]
     },
     "execution_count": 57,
     "metadata": {},
     "output_type": "execute_result"
    },
    {
     "data": {
      "image/png": "[encoded data removed]",
      "text/plain": [
       "<Figure size 432x288 with 1 Axes>"
      ]
     },
     "metadata": {
      "needs_background": "light"
     },
     "output_type": "display_data"
    }
   ],
   "source": [
    "scatter_model(X1, y1, LinearRegression)"
   ]
  },
  {
   "cell_type": "markdown",
   "metadata": {},
   "source": [
    "### Prediksi tanpa Outlier"
   ]
  },
  {
   "cell_type": "code",
   "execution_count": 58,
   "metadata": {},
   "outputs": [
    {
     "data": {
      "text/plain": [
       "<matplotlib.axes._subplots.AxesSubplot at 0x1c31bf5da90>"
      ]
     },
     "execution_count": 58,
     "metadata": {},
     "output_type": "execute_result"
    },
    {
     "data": {
      "image/png": "[encoded data removed]",
      "text/plain": [
       "<Figure size 432x288 with 1 Axes>"
      ]
     },
     "metadata": {
      "needs_background": "light"
     },
     "output_type": "display_data"
    }
   ],
   "source": [
    "df_pred_wo_cat['total_price'].sort_values()[:-130].plot(kind='box')"
   ]
  },
  {
   "cell_type": "code",
   "execution_count": 85,
   "metadata": {},
   "outputs": [],
   "source": [
    "y2 = df_pred_wo_cat['total_price'].sort_values()[:-130]"
   ]
  },
  {
   "cell_type": "code",
   "execution_count": 83,
   "metadata": {},
   "outputs": [],
   "source": [
    "X2 = df_pred_wo_cat.loc[y2.index].drop('total_price', axis=1).values"
   ]
  },
  {
   "cell_type": "code",
   "execution_count": 87,
   "metadata": {},
   "outputs": [],
   "source": [
    "X2 = scaler.fit_transform(X2)"
   ]
  },
  {
   "cell_type": "code",
   "execution_count": 88,
   "metadata": {},
   "outputs": [
    {
     "name": "stderr",
     "output_type": "stream",
     "text": [
      "C:\\Users\\Elga Ridho Maulana\\Anaconda3\\lib\\site-packages\\sklearn\\ensemble\\forest.py:245: FutureWarning: The default value of n_estimators will change from 10 in version 0.20 to 100 in 0.22.\n",
      "  \"10 in version 0.20 to 100 in 0.22.\", FutureWarning)\n"
     ]
    },
    {
     "data": {
      "text/html": [
       "<div>\n",
       "<style scoped>\n",
       "    .dataframe tbody tr th:only-of-type {\n",
       "        vertical-align: middle;\n",
       "    }\n",
       "\n",
       "    .dataframe tbody tr th {\n",
       "        vertical-align: top;\n",
       "    }\n",
       "\n",
       "    .dataframe thead th {\n",
       "        text-align: right;\n",
       "    }\n",
       "</style>\n",
       "<table border=\"1\" class=\"dataframe\">\n",
       "  <thead>\n",
       "    <tr style=\"text-align: right;\">\n",
       "      <th></th>\n",
       "      <th>Model</th>\n",
       "      <th>MAE</th>\n",
       "      <th>MSE</th>\n",
       "      <th>RMSE</th>\n",
       "    </tr>\n",
       "  </thead>\n",
       "  <tbody>\n",
       "    <tr>\n",
       "      <th>0</th>\n",
       "      <td>RandomForestRegressor</td>\n",
       "      <td>27.156526</td>\n",
       "      <td>1872.958704</td>\n",
       "      <td>43.277693</td>\n",
       "    </tr>\n",
       "    <tr>\n",
       "      <th>1</th>\n",
       "      <td>Lasso</td>\n",
       "      <td>40.754702</td>\n",
       "      <td>3635.980154</td>\n",
       "      <td>60.299089</td>\n",
       "    </tr>\n",
       "    <tr>\n",
       "      <th>2</th>\n",
       "      <td>Ridge</td>\n",
       "      <td>40.806361</td>\n",
       "      <td>3681.358551</td>\n",
       "      <td>60.674200</td>\n",
       "    </tr>\n",
       "    <tr>\n",
       "      <th>3</th>\n",
       "      <td>LinearRegression</td>\n",
       "      <td>40.805534</td>\n",
       "      <td>3681.529901</td>\n",
       "      <td>60.675612</td>\n",
       "    </tr>\n",
       "  </tbody>\n",
       "</table>\n",
       "</div>"
      ],
      "text/plain": [
       "                   Model        MAE          MSE       RMSE\n",
       "0  RandomForestRegressor  27.156526  1872.958704  43.277693\n",
       "1                  Lasso  40.754702  3635.980154  60.299089\n",
       "2                  Ridge  40.806361  3681.358551  60.674200\n",
       "3       LinearRegression  40.805534  3681.529901  60.675612"
      ]
     },
     "execution_count": 88,
     "metadata": {},
     "output_type": "execute_result"
    }
   ],
   "source": [
    "regression1(X2,y2)"
   ]
  },
  {
   "cell_type": "code",
   "execution_count": 89,
   "metadata": {},
   "outputs": [
    {
     "data": {
      "text/plain": [
       "<matplotlib.axes._subplots.AxesSubplot at 0x1c32221d908>"
      ]
     },
     "execution_count": 89,
     "metadata": {},
     "output_type": "execute_result"
    },
    {
     "data": {
      "image/png": "[encoded data removed]",
      "text/plain": [
       "<Figure size 432x288 with 1 Axes>"
      ]
     },
     "metadata": {
      "needs_background": "light"
     },
     "output_type": "display_data"
    }
   ],
   "source": [
    "scatter_model(X2, y2, LinearRegression)"
   ]
  },
  {
   "cell_type": "code",
   "execution_count": 69,
   "metadata": {},
   "outputs": [],
   "source": [
    "def coef_linreg(X, y):\n",
    "    from sklearn.linear_model import LinearRegression\n",
    "    from sklearn.model_selection import train_test_split\n",
    "    model = LinearRegression()\n",
    "    X_train, X_test, y_train, y_test = train_test_split(X, y)\n",
    "    model.fit(X_train, y_train)\n",
    "    return model.coef_"
   ]
  },
  {
   "cell_type": "code",
   "execution_count": 70,
   "metadata": {},
   "outputs": [
    {
     "data": {
      "text/plain": [
       "array([24.39920387, -6.29217205, 23.31134075, -1.35230709,  0.25063465,\n",
       "        2.34485997,  0.75785383,  0.11906326, -0.425672  ])"
      ]
     },
     "execution_count": 70,
     "metadata": {},
     "output_type": "execute_result"
    }
   ],
   "source": [
    "coef_linreg(X2, y2)"
   ]
  },
  {
   "cell_type": "markdown",
   "metadata": {},
   "source": [
    "### prediksi dengan kategorikal kolom menggunakan sparse matrix"
   ]
  },
  {
   "cell_type": "code",
   "execution_count": 76,
   "metadata": {},
   "outputs": [],
   "source": [
    "X3 = df_dummies.drop('total_price', axis=1).values\n",
    "y3 = df_dummies['total_price']"
   ]
  },
  {
   "cell_type": "code",
   "execution_count": 73,
   "metadata": {},
   "outputs": [],
   "source": [
    "from scipy.sparse import csr_matrix"
   ]
  },
  {
   "cell_type": "code",
   "execution_count": 77,
   "metadata": {},
   "outputs": [],
   "source": [
    "scaler = StandardScaler()"
   ]
  },
  {
   "cell_type": "code",
   "execution_count": 78,
   "metadata": {},
   "outputs": [],
   "source": [
    "X3 = scaler.fit_transform(X3)"
   ]
  },
  {
   "cell_type": "code",
   "execution_count": 79,
   "metadata": {},
   "outputs": [],
   "source": [
    "X3 = csr_matrix(X3)"
   ]
  },
  {
   "cell_type": "code",
   "execution_count": 80,
   "metadata": {},
   "outputs": [
    {
     "name": "stderr",
     "output_type": "stream",
     "text": [
      "C:\\Users\\Elga Ridho Maulana\\Anaconda3\\lib\\site-packages\\sklearn\\ensemble\\forest.py:245: FutureWarning: The default value of n_estimators will change from 10 in version 0.20 to 100 in 0.22.\n",
      "  \"10 in version 0.20 to 100 in 0.22.\", FutureWarning)\n"
     ]
    },
    {
     "data": {
      "text/html": [
       "<div>\n",
       "<style scoped>\n",
       "    .dataframe tbody tr th:only-of-type {\n",
       "        vertical-align: middle;\n",
       "    }\n",
       "\n",
       "    .dataframe tbody tr th {\n",
       "        vertical-align: top;\n",
       "    }\n",
       "\n",
       "    .dataframe thead th {\n",
       "        text-align: right;\n",
       "    }\n",
       "</style>\n",
       "<table border=\"1\" class=\"dataframe\">\n",
       "  <thead>\n",
       "    <tr style=\"text-align: right;\">\n",
       "      <th></th>\n",
       "      <th>Model</th>\n",
       "      <th>MAE</th>\n",
       "      <th>MSE</th>\n",
       "      <th>RMSE</th>\n",
       "    </tr>\n",
       "  </thead>\n",
       "  <tbody>\n",
       "    <tr>\n",
       "      <th>0</th>\n",
       "      <td>RandomForestRegressor</td>\n",
       "      <td>29.333124</td>\n",
       "      <td>8226.663326</td>\n",
       "      <td>90.700955</td>\n",
       "    </tr>\n",
       "    <tr>\n",
       "      <th>1</th>\n",
       "      <td>Lasso</td>\n",
       "      <td>43.120097</td>\n",
       "      <td>33706.589082</td>\n",
       "      <td>183.593543</td>\n",
       "    </tr>\n",
       "    <tr>\n",
       "      <th>2</th>\n",
       "      <td>Ridge</td>\n",
       "      <td>43.442426</td>\n",
       "      <td>33836.621895</td>\n",
       "      <td>183.947335</td>\n",
       "    </tr>\n",
       "    <tr>\n",
       "      <th>3</th>\n",
       "      <td>LinearRegression</td>\n",
       "      <td>43.402374</td>\n",
       "      <td>33836.995091</td>\n",
       "      <td>183.948349</td>\n",
       "    </tr>\n",
       "  </tbody>\n",
       "</table>\n",
       "</div>"
      ],
      "text/plain": [
       "                   Model        MAE           MSE        RMSE\n",
       "0  RandomForestRegressor  29.333124   8226.663326   90.700955\n",
       "1                  Lasso  43.120097  33706.589082  183.593543\n",
       "2                  Ridge  43.442426  33836.621895  183.947335\n",
       "3       LinearRegression  43.402374  33836.995091  183.948349"
      ]
     },
     "execution_count": 80,
     "metadata": {},
     "output_type": "execute_result"
    }
   ],
   "source": [
    "regression1(X3, y3)"
   ]
  },
  {
   "cell_type": "markdown",
   "metadata": {},
   "source": [
    "### Prediksi dengan Kolom Kategorikal tanpa Outlier Harga"
   ]
  },
  {
   "cell_type": "code",
   "execution_count": 93,
   "metadata": {},
   "outputs": [
    {
     "data": {
      "text/plain": [
       "<matplotlib.axes._subplots.AxesSubplot at 0x1c3207ad128>"
      ]
     },
     "execution_count": 93,
     "metadata": {},
     "output_type": "execute_result"
    },
    {
     "data": {
      "image/png": "[encoded data removed]",
      "text/plain": [
       "<Figure size 432x288 with 1 Axes>"
      ]
     },
     "metadata": {
      "needs_background": "light"
     },
     "output_type": "display_data"
    }
   ],
   "source": [
    "df_dummies['total_price'].sort_values()[:-130].plot(kind='box')"
   ]
  },
  {
   "cell_type": "code",
   "execution_count": 94,
   "metadata": {},
   "outputs": [],
   "source": [
    "y4 = df_dummies['total_price'].sort_values()[:-130]"
   ]
  },
  {
   "cell_type": "code",
   "execution_count": 95,
   "metadata": {},
   "outputs": [],
   "source": [
    "X4 = df_dummies.loc[y4.index].drop('total_price', axis=1).values"
   ]
  },
  {
   "cell_type": "code",
   "execution_count": 96,
   "metadata": {},
   "outputs": [],
   "source": [
    "X4 = scaler.fit_transform(X4)"
   ]
  },
  {
   "cell_type": "code",
   "execution_count": 97,
   "metadata": {},
   "outputs": [],
   "source": [
    "X4 = csr_matrix(X4)"
   ]
  },
  {
   "cell_type": "code",
   "execution_count": 102,
   "metadata": {},
   "outputs": [
    {
     "name": "stderr",
     "output_type": "stream",
     "text": [
      "C:\\Users\\Elga Ridho Maulana\\Anaconda3\\lib\\site-packages\\sklearn\\ensemble\\forest.py:245: FutureWarning: The default value of n_estimators will change from 10 in version 0.20 to 100 in 0.22.\n",
      "  \"10 in version 0.20 to 100 in 0.22.\", FutureWarning)\n"
     ]
    },
    {
     "data": {
      "text/html": [
       "<div>\n",
       "<style scoped>\n",
       "    .dataframe tbody tr th:only-of-type {\n",
       "        vertical-align: middle;\n",
       "    }\n",
       "\n",
       "    .dataframe tbody tr th {\n",
       "        vertical-align: top;\n",
       "    }\n",
       "\n",
       "    .dataframe thead th {\n",
       "        text-align: right;\n",
       "    }\n",
       "</style>\n",
       "<table border=\"1\" class=\"dataframe\">\n",
       "  <thead>\n",
       "    <tr style=\"text-align: right;\">\n",
       "      <th></th>\n",
       "      <th>Model</th>\n",
       "      <th>MAE</th>\n",
       "      <th>MSE</th>\n",
       "      <th>RMSE</th>\n",
       "    </tr>\n",
       "  </thead>\n",
       "  <tbody>\n",
       "    <tr>\n",
       "      <th>0</th>\n",
       "      <td>RandomForestRegressor</td>\n",
       "      <td>24.000286</td>\n",
       "      <td>1603.274225</td>\n",
       "      <td>40.040907</td>\n",
       "    </tr>\n",
       "    <tr>\n",
       "      <th>1</th>\n",
       "      <td>Lasso</td>\n",
       "      <td>32.216848</td>\n",
       "      <td>2201.123950</td>\n",
       "      <td>46.916137</td>\n",
       "    </tr>\n",
       "    <tr>\n",
       "      <th>2</th>\n",
       "      <td>Ridge</td>\n",
       "      <td>31.867460</td>\n",
       "      <td>2131.020959</td>\n",
       "      <td>46.162983</td>\n",
       "    </tr>\n",
       "    <tr>\n",
       "      <th>3</th>\n",
       "      <td>LinearRegression</td>\n",
       "      <td>31.723450</td>\n",
       "      <td>2116.392230</td>\n",
       "      <td>46.004263</td>\n",
       "    </tr>\n",
       "  </tbody>\n",
       "</table>\n",
       "</div>"
      ],
      "text/plain": [
       "                   Model        MAE          MSE       RMSE\n",
       "0  RandomForestRegressor  24.000286  1603.274225  40.040907\n",
       "1                  Lasso  32.216848  2201.123950  46.916137\n",
       "2                  Ridge  31.867460  2131.020959  46.162983\n",
       "3       LinearRegression  31.723450  2116.392230  46.004263"
      ]
     },
     "execution_count": 102,
     "metadata": {},
     "output_type": "execute_result"
    }
   ],
   "source": [
    "regression1(X4,y4)"
   ]
  }
 ],
 "metadata": {
  "kernelspec": {
   "display_name": "Python 3",
   "language": "python",
   "name": "python3"
  },
  "language_info": {
   "codemirror_mode": {
    "name": "ipython",
    "version": 3
   },
   "file_extension": ".py",
   "mimetype": "text/x-python",
   "name": "python",
   "nbconvert_exporter": "python",
   "pygments_lexer": "ipython3",
   "version": "3.7.3"
  }
 },
 "nbformat": 4,
 "nbformat_minor": 2
}
