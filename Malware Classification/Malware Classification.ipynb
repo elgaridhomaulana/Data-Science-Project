{
 "cells": [
  {
   "cell_type": "code",
   "execution_count": 1,
   "metadata": {},
   "outputs": [],
   "source": [
    "import pandas as pd\n",
    "import numpy as np\n",
    "import matplotlib.pyplot as plt\n",
    "import seaborn as sns\n",
    "import glob"
   ]
  },
  {
   "cell_type": "code",
   "execution_count": 2,
   "metadata": {},
   "outputs": [],
   "source": [
    "data_pred = glob.glob('*.csv')"
   ]
  },
  {
   "cell_type": "code",
   "execution_count": 3,
   "metadata": {},
   "outputs": [],
   "source": [
    "df_list = []\n",
    "for element in data_pred:\n",
    "    df = pd.read_csv(element)\n",
    "    df_list.append(df)"
   ]
  },
  {
   "cell_type": "code",
   "execution_count": 4,
   "metadata": {},
   "outputs": [],
   "source": [
    "df = pd.concat(df_list,ignore_index=True)"
   ]
  },
  {
   "cell_type": "markdown",
   "metadata": {},
   "source": [
    "### Exploratory Data Analysis"
   ]
  },
  {
   "cell_type": "code",
   "execution_count": 5,
   "metadata": {},
   "outputs": [
    {
     "data": {
      "text/html": [
       "<div>\n",
       "<style scoped>\n",
       "    .dataframe tbody tr th:only-of-type {\n",
       "        vertical-align: middle;\n",
       "    }\n",
       "\n",
       "    .dataframe tbody tr th {\n",
       "        vertical-align: top;\n",
       "    }\n",
       "\n",
       "    .dataframe thead th {\n",
       "        text-align: right;\n",
       "    }\n",
       "</style>\n",
       "<table border=\"1\" class=\"dataframe\">\n",
       "  <thead>\n",
       "    <tr style=\"text-align: right;\">\n",
       "      <th></th>\n",
       "      <th>filename</th>\n",
       "      <th>class</th>\n",
       "      <th>size_asm</th>\n",
       "      <th>size_bytes</th>\n",
       "      <th>E8</th>\n",
       "      <th>B9</th>\n",
       "      <th>68</th>\n",
       "      <th>B0</th>\n",
       "      <th>83</th>\n",
       "      <th>B8</th>\n",
       "      <th>...</th>\n",
       "      <th>pop</th>\n",
       "      <th>cmp</th>\n",
       "      <th>jz</th>\n",
       "      <th>lea</th>\n",
       "      <th>test</th>\n",
       "      <th>jmp</th>\n",
       "      <th>add</th>\n",
       "      <th>jnz</th>\n",
       "      <th>retn</th>\n",
       "      <th>xor</th>\n",
       "    </tr>\n",
       "  </thead>\n",
       "  <tbody>\n",
       "    <tr>\n",
       "      <th>0</th>\n",
       "      <td>01azqd4InC7m9JpocGv5</td>\n",
       "      <td>9</td>\n",
       "      <td>58961309</td>\n",
       "      <td>5256192</td>\n",
       "      <td>4710</td>\n",
       "      <td>3502</td>\n",
       "      <td>3730</td>\n",
       "      <td>2831</td>\n",
       "      <td>4862</td>\n",
       "      <td>3388</td>\n",
       "      <td>...</td>\n",
       "      <td>542</td>\n",
       "      <td>684</td>\n",
       "      <td>557</td>\n",
       "      <td>308</td>\n",
       "      <td>674</td>\n",
       "      <td>733</td>\n",
       "      <td>625</td>\n",
       "      <td>134</td>\n",
       "      <td>290</td>\n",
       "      <td>418</td>\n",
       "    </tr>\n",
       "    <tr>\n",
       "      <th>1</th>\n",
       "      <td>01jsnpXSAlgw6aPeDxrU</td>\n",
       "      <td>9</td>\n",
       "      <td>8921059</td>\n",
       "      <td>4825600</td>\n",
       "      <td>22304</td>\n",
       "      <td>2658</td>\n",
       "      <td>2748</td>\n",
       "      <td>2615</td>\n",
       "      <td>9353</td>\n",
       "      <td>2324</td>\n",
       "      <td>...</td>\n",
       "      <td>70</td>\n",
       "      <td>127</td>\n",
       "      <td>44</td>\n",
       "      <td>225</td>\n",
       "      <td>73</td>\n",
       "      <td>1</td>\n",
       "      <td>35</td>\n",
       "      <td>16</td>\n",
       "      <td>27</td>\n",
       "      <td>199</td>\n",
       "    </tr>\n",
       "    <tr>\n",
       "      <th>2</th>\n",
       "      <td>01kcPWA9K2BOxQeS5Rju</td>\n",
       "      <td>1</td>\n",
       "      <td>81988</td>\n",
       "      <td>712704</td>\n",
       "      <td>2899</td>\n",
       "      <td>487</td>\n",
       "      <td>1129</td>\n",
       "      <td>460</td>\n",
       "      <td>1059</td>\n",
       "      <td>589</td>\n",
       "      <td>...</td>\n",
       "      <td>19</td>\n",
       "      <td>15</td>\n",
       "      <td>13</td>\n",
       "      <td>39</td>\n",
       "      <td>14</td>\n",
       "      <td>12</td>\n",
       "      <td>14</td>\n",
       "      <td>11</td>\n",
       "      <td>16</td>\n",
       "      <td>18</td>\n",
       "    </tr>\n",
       "    <tr>\n",
       "      <th>3</th>\n",
       "      <td>01SuzwMJEIXsK7A8dQbl</td>\n",
       "      <td>8</td>\n",
       "      <td>1045140</td>\n",
       "      <td>460288</td>\n",
       "      <td>546</td>\n",
       "      <td>296</td>\n",
       "      <td>385</td>\n",
       "      <td>268</td>\n",
       "      <td>655</td>\n",
       "      <td>359</td>\n",
       "      <td>...</td>\n",
       "      <td>50</td>\n",
       "      <td>185</td>\n",
       "      <td>78</td>\n",
       "      <td>19</td>\n",
       "      <td>6</td>\n",
       "      <td>72</td>\n",
       "      <td>430</td>\n",
       "      <td>66</td>\n",
       "      <td>33</td>\n",
       "      <td>19</td>\n",
       "    </tr>\n",
       "    <tr>\n",
       "      <th>4</th>\n",
       "      <td>02IOCvYEy8mjiuAQHax3</td>\n",
       "      <td>6</td>\n",
       "      <td>3457122</td>\n",
       "      <td>831488</td>\n",
       "      <td>343</td>\n",
       "      <td>286</td>\n",
       "      <td>303</td>\n",
       "      <td>339</td>\n",
       "      <td>308</td>\n",
       "      <td>315</td>\n",
       "      <td>...</td>\n",
       "      <td>13</td>\n",
       "      <td>8</td>\n",
       "      <td>2</td>\n",
       "      <td>0</td>\n",
       "      <td>1</td>\n",
       "      <td>39</td>\n",
       "      <td>15</td>\n",
       "      <td>1</td>\n",
       "      <td>0</td>\n",
       "      <td>10</td>\n",
       "    </tr>\n",
       "  </tbody>\n",
       "</table>\n",
       "<p>5 rows × 274 columns</p>\n",
       "</div>"
      ],
      "text/plain": [
       "               filename  class  size_asm  size_bytes     E8    B9    68    B0  \\\n",
       "0  01azqd4InC7m9JpocGv5      9  58961309     5256192   4710  3502  3730  2831   \n",
       "1  01jsnpXSAlgw6aPeDxrU      9   8921059     4825600  22304  2658  2748  2615   \n",
       "2  01kcPWA9K2BOxQeS5Rju      1     81988      712704   2899   487  1129   460   \n",
       "3  01SuzwMJEIXsK7A8dQbl      8   1045140      460288    546   296   385   268   \n",
       "4  02IOCvYEy8mjiuAQHax3      6   3457122      831488    343   286   303   339   \n",
       "\n",
       "     83    B8  ...  pop  cmp   jz  lea  test  jmp  add  jnz  retn  xor  \n",
       "0  4862  3388  ...  542  684  557  308   674  733  625  134   290  418  \n",
       "1  9353  2324  ...   70  127   44  225    73    1   35   16    27  199  \n",
       "2  1059   589  ...   19   15   13   39    14   12   14   11    16   18  \n",
       "3   655   359  ...   50  185   78   19     6   72  430   66    33   19  \n",
       "4   308   315  ...   13    8    2    0     1   39   15    1     0   10  \n",
       "\n",
       "[5 rows x 274 columns]"
      ]
     },
     "execution_count": 5,
     "metadata": {},
     "output_type": "execute_result"
    }
   ],
   "source": [
    "df.head()"
   ]
  },
  {
   "cell_type": "code",
   "execution_count": 6,
   "metadata": {},
   "outputs": [
    {
     "name": "stdout",
     "output_type": "stream",
     "text": [
      "<class 'pandas.core.frame.DataFrame'>\n",
      "RangeIndex: 270 entries, 0 to 269\n",
      "Columns: 274 entries, filename to xor\n",
      "dtypes: int64(273), object(1)\n",
      "memory usage: 578.0+ KB\n"
     ]
    }
   ],
   "source": [
    "df.info()"
   ]
  },
  {
   "cell_type": "markdown",
   "metadata": {},
   "source": [
    "Terdapat 270 rows, dan 274 columns"
   ]
  },
  {
   "cell_type": "code",
   "execution_count": 7,
   "metadata": {},
   "outputs": [
    {
     "data": {
      "text/html": [
       "<div>\n",
       "<style scoped>\n",
       "    .dataframe tbody tr th:only-of-type {\n",
       "        vertical-align: middle;\n",
       "    }\n",
       "\n",
       "    .dataframe tbody tr th {\n",
       "        vertical-align: top;\n",
       "    }\n",
       "\n",
       "    .dataframe thead th {\n",
       "        text-align: right;\n",
       "    }\n",
       "</style>\n",
       "<table border=\"1\" class=\"dataframe\">\n",
       "  <thead>\n",
       "    <tr style=\"text-align: right;\">\n",
       "      <th></th>\n",
       "      <th>class</th>\n",
       "      <th>size_asm</th>\n",
       "      <th>size_bytes</th>\n",
       "      <th>E8</th>\n",
       "      <th>B9</th>\n",
       "      <th>68</th>\n",
       "      <th>B0</th>\n",
       "      <th>83</th>\n",
       "      <th>B8</th>\n",
       "      <th>00</th>\n",
       "      <th>...</th>\n",
       "      <th>pop</th>\n",
       "      <th>cmp</th>\n",
       "      <th>jz</th>\n",
       "      <th>lea</th>\n",
       "      <th>test</th>\n",
       "      <th>jmp</th>\n",
       "      <th>add</th>\n",
       "      <th>jnz</th>\n",
       "      <th>retn</th>\n",
       "      <th>xor</th>\n",
       "    </tr>\n",
       "  </thead>\n",
       "  <tbody>\n",
       "    <tr>\n",
       "      <th>count</th>\n",
       "      <td>270.000000</td>\n",
       "      <td>2.700000e+02</td>\n",
       "      <td>2.700000e+02</td>\n",
       "      <td>270.000000</td>\n",
       "      <td>270.000000</td>\n",
       "      <td>270.000000</td>\n",
       "      <td>270.000000</td>\n",
       "      <td>270.000000</td>\n",
       "      <td>270.000000</td>\n",
       "      <td>270.000000</td>\n",
       "      <td>...</td>\n",
       "      <td>270.000000</td>\n",
       "      <td>270.000000</td>\n",
       "      <td>270.000000</td>\n",
       "      <td>270.000000</td>\n",
       "      <td>270.000000</td>\n",
       "      <td>270.000000</td>\n",
       "      <td>270.000000</td>\n",
       "      <td>270.000000</td>\n",
       "      <td>270.000000</td>\n",
       "      <td>270.000000</td>\n",
       "    </tr>\n",
       "    <tr>\n",
       "      <th>mean</th>\n",
       "      <td>5.000000</td>\n",
       "      <td>1.057689e+07</td>\n",
       "      <td>3.640677e+06</td>\n",
       "      <td>3303.785185</td>\n",
       "      <td>1051.077778</td>\n",
       "      <td>2124.892593</td>\n",
       "      <td>1168.266667</td>\n",
       "      <td>2774.374074</td>\n",
       "      <td>1168.588889</td>\n",
       "      <td>52725.222222</td>\n",
       "      <td>...</td>\n",
       "      <td>591.407407</td>\n",
       "      <td>473.759259</td>\n",
       "      <td>358.303704</td>\n",
       "      <td>443.162963</td>\n",
       "      <td>335.425926</td>\n",
       "      <td>310.959259</td>\n",
       "      <td>493.648148</td>\n",
       "      <td>248.088889</td>\n",
       "      <td>257.255556</td>\n",
       "      <td>386.329630</td>\n",
       "    </tr>\n",
       "    <tr>\n",
       "      <th>std</th>\n",
       "      <td>2.586784</td>\n",
       "      <td>1.787944e+07</td>\n",
       "      <td>3.148768e+06</td>\n",
       "      <td>5094.054401</td>\n",
       "      <td>1279.650442</td>\n",
       "      <td>2736.931580</td>\n",
       "      <td>1817.224387</td>\n",
       "      <td>3859.833973</td>\n",
       "      <td>1357.971787</td>\n",
       "      <td>100425.621413</td>\n",
       "      <td>...</td>\n",
       "      <td>2432.004285</td>\n",
       "      <td>1756.829545</td>\n",
       "      <td>1658.309565</td>\n",
       "      <td>1764.990707</td>\n",
       "      <td>1744.327186</td>\n",
       "      <td>1049.145541</td>\n",
       "      <td>1758.632328</td>\n",
       "      <td>1034.495362</td>\n",
       "      <td>1021.856622</td>\n",
       "      <td>2054.821484</td>\n",
       "    </tr>\n",
       "    <tr>\n",
       "      <th>min</th>\n",
       "      <td>1.000000</td>\n",
       "      <td>8.198800e+04</td>\n",
       "      <td>2.227200e+05</td>\n",
       "      <td>16.000000</td>\n",
       "      <td>5.000000</td>\n",
       "      <td>12.000000</td>\n",
       "      <td>2.000000</td>\n",
       "      <td>3.000000</td>\n",
       "      <td>3.000000</td>\n",
       "      <td>426.000000</td>\n",
       "      <td>...</td>\n",
       "      <td>0.000000</td>\n",
       "      <td>0.000000</td>\n",
       "      <td>0.000000</td>\n",
       "      <td>0.000000</td>\n",
       "      <td>0.000000</td>\n",
       "      <td>0.000000</td>\n",
       "      <td>0.000000</td>\n",
       "      <td>0.000000</td>\n",
       "      <td>0.000000</td>\n",
       "      <td>0.000000</td>\n",
       "    </tr>\n",
       "    <tr>\n",
       "      <th>25%</th>\n",
       "      <td>3.000000</td>\n",
       "      <td>9.657672e+05</td>\n",
       "      <td>7.275520e+05</td>\n",
       "      <td>517.000000</td>\n",
       "      <td>255.000000</td>\n",
       "      <td>453.500000</td>\n",
       "      <td>259.250000</td>\n",
       "      <td>565.000000</td>\n",
       "      <td>326.250000</td>\n",
       "      <td>8512.250000</td>\n",
       "      <td>...</td>\n",
       "      <td>78.500000</td>\n",
       "      <td>12.500000</td>\n",
       "      <td>5.000000</td>\n",
       "      <td>18.000000</td>\n",
       "      <td>6.000000</td>\n",
       "      <td>1.000000</td>\n",
       "      <td>77.250000</td>\n",
       "      <td>8.000000</td>\n",
       "      <td>24.000000</td>\n",
       "      <td>13.250000</td>\n",
       "    </tr>\n",
       "    <tr>\n",
       "      <th>50%</th>\n",
       "      <td>5.000000</td>\n",
       "      <td>4.249588e+06</td>\n",
       "      <td>2.331136e+06</td>\n",
       "      <td>1123.000000</td>\n",
       "      <td>521.500000</td>\n",
       "      <td>1057.500000</td>\n",
       "      <td>585.500000</td>\n",
       "      <td>1109.500000</td>\n",
       "      <td>630.500000</td>\n",
       "      <td>19787.500000</td>\n",
       "      <td>...</td>\n",
       "      <td>140.000000</td>\n",
       "      <td>102.500000</td>\n",
       "      <td>29.000000</td>\n",
       "      <td>68.500000</td>\n",
       "      <td>20.500000</td>\n",
       "      <td>51.500000</td>\n",
       "      <td>180.500000</td>\n",
       "      <td>27.500000</td>\n",
       "      <td>46.000000</td>\n",
       "      <td>60.000000</td>\n",
       "    </tr>\n",
       "    <tr>\n",
       "      <th>75%</th>\n",
       "      <td>7.000000</td>\n",
       "      <td>1.060371e+07</td>\n",
       "      <td>5.397248e+06</td>\n",
       "      <td>3321.750000</td>\n",
       "      <td>1115.500000</td>\n",
       "      <td>3007.750000</td>\n",
       "      <td>1347.250000</td>\n",
       "      <td>3279.000000</td>\n",
       "      <td>1335.000000</td>\n",
       "      <td>49532.750000</td>\n",
       "      <td>...</td>\n",
       "      <td>275.750000</td>\n",
       "      <td>231.250000</td>\n",
       "      <td>120.750000</td>\n",
       "      <td>206.500000</td>\n",
       "      <td>111.500000</td>\n",
       "      <td>214.000000</td>\n",
       "      <td>372.750000</td>\n",
       "      <td>79.500000</td>\n",
       "      <td>146.000000</td>\n",
       "      <td>165.750000</td>\n",
       "    </tr>\n",
       "    <tr>\n",
       "      <th>max</th>\n",
       "      <td>9.000000</td>\n",
       "      <td>9.608545e+07</td>\n",
       "      <td>1.132902e+07</td>\n",
       "      <td>29162.000000</td>\n",
       "      <td>6293.000000</td>\n",
       "      <td>16462.000000</td>\n",
       "      <td>22332.000000</td>\n",
       "      <td>23914.000000</td>\n",
       "      <td>6375.000000</td>\n",
       "      <td>702234.000000</td>\n",
       "      <td>...</td>\n",
       "      <td>31566.000000</td>\n",
       "      <td>17007.000000</td>\n",
       "      <td>21087.000000</td>\n",
       "      <td>21813.000000</td>\n",
       "      <td>24954.000000</td>\n",
       "      <td>11460.000000</td>\n",
       "      <td>18404.000000</td>\n",
       "      <td>10808.000000</td>\n",
       "      <td>12627.000000</td>\n",
       "      <td>30163.000000</td>\n",
       "    </tr>\n",
       "  </tbody>\n",
       "</table>\n",
       "<p>8 rows × 273 columns</p>\n",
       "</div>"
      ],
      "text/plain": [
       "            class      size_asm    size_bytes            E8           B9  \\\n",
       "count  270.000000  2.700000e+02  2.700000e+02    270.000000   270.000000   \n",
       "mean     5.000000  1.057689e+07  3.640677e+06   3303.785185  1051.077778   \n",
       "std      2.586784  1.787944e+07  3.148768e+06   5094.054401  1279.650442   \n",
       "min      1.000000  8.198800e+04  2.227200e+05     16.000000     5.000000   \n",
       "25%      3.000000  9.657672e+05  7.275520e+05    517.000000   255.000000   \n",
       "50%      5.000000  4.249588e+06  2.331136e+06   1123.000000   521.500000   \n",
       "75%      7.000000  1.060371e+07  5.397248e+06   3321.750000  1115.500000   \n",
       "max      9.000000  9.608545e+07  1.132902e+07  29162.000000  6293.000000   \n",
       "\n",
       "                 68            B0            83           B8             00  \\\n",
       "count    270.000000    270.000000    270.000000   270.000000     270.000000   \n",
       "mean    2124.892593   1168.266667   2774.374074  1168.588889   52725.222222   \n",
       "std     2736.931580   1817.224387   3859.833973  1357.971787  100425.621413   \n",
       "min       12.000000      2.000000      3.000000     3.000000     426.000000   \n",
       "25%      453.500000    259.250000    565.000000   326.250000    8512.250000   \n",
       "50%     1057.500000    585.500000   1109.500000   630.500000   19787.500000   \n",
       "75%     3007.750000   1347.250000   3279.000000  1335.000000   49532.750000   \n",
       "max    16462.000000  22332.000000  23914.000000  6375.000000  702234.000000   \n",
       "\n",
       "       ...           pop           cmp            jz           lea  \\\n",
       "count  ...    270.000000    270.000000    270.000000    270.000000   \n",
       "mean   ...    591.407407    473.759259    358.303704    443.162963   \n",
       "std    ...   2432.004285   1756.829545   1658.309565   1764.990707   \n",
       "min    ...      0.000000      0.000000      0.000000      0.000000   \n",
       "25%    ...     78.500000     12.500000      5.000000     18.000000   \n",
       "50%    ...    140.000000    102.500000     29.000000     68.500000   \n",
       "75%    ...    275.750000    231.250000    120.750000    206.500000   \n",
       "max    ...  31566.000000  17007.000000  21087.000000  21813.000000   \n",
       "\n",
       "               test           jmp           add           jnz          retn  \\\n",
       "count    270.000000    270.000000    270.000000    270.000000    270.000000   \n",
       "mean     335.425926    310.959259    493.648148    248.088889    257.255556   \n",
       "std     1744.327186   1049.145541   1758.632328   1034.495362   1021.856622   \n",
       "min        0.000000      0.000000      0.000000      0.000000      0.000000   \n",
       "25%        6.000000      1.000000     77.250000      8.000000     24.000000   \n",
       "50%       20.500000     51.500000    180.500000     27.500000     46.000000   \n",
       "75%      111.500000    214.000000    372.750000     79.500000    146.000000   \n",
       "max    24954.000000  11460.000000  18404.000000  10808.000000  12627.000000   \n",
       "\n",
       "                xor  \n",
       "count    270.000000  \n",
       "mean     386.329630  \n",
       "std     2054.821484  \n",
       "min        0.000000  \n",
       "25%       13.250000  \n",
       "50%       60.000000  \n",
       "75%      165.750000  \n",
       "max    30163.000000  \n",
       "\n",
       "[8 rows x 273 columns]"
      ]
     },
     "execution_count": 7,
     "metadata": {},
     "output_type": "execute_result"
    }
   ],
   "source": [
    "df.describe()"
   ]
  },
  {
   "cell_type": "code",
   "execution_count": 8,
   "metadata": {},
   "outputs": [],
   "source": [
    "group_by_class = df.groupby('class').mean()"
   ]
  },
  {
   "cell_type": "code",
   "execution_count": 9,
   "metadata": {},
   "outputs": [
    {
     "data": {
      "image/png": "[encoded data removed]",
      "text/plain": [
       "<Figure size 1080x360 with 2 Axes>"
      ]
     },
     "metadata": {
      "needs_background": "light"
     },
     "output_type": "display_data"
    }
   ],
   "source": [
    "# Besar rata-rata file asm untuk masing-masing class malware\n",
    "plt.figure(figsize=(15,5))\n",
    "plt.subplot(1,2,1)\n",
    "data_to_plot = group_by_class['size_asm']\n",
    "sns.barplot(x=data_to_plot.index, y=data_to_plot.values)\n",
    "plt.ylabel('size_asm (bytes)')\n",
    "plt.subplot(1,2,2)\n",
    "sns.boxplot(y=df['size_asm'], x=df['class'])\n",
    "plt.title('Distribution size_asm each class')\n",
    "plt.show()"
   ]
  },
  {
   "cell_type": "code",
   "execution_count": 10,
   "metadata": {},
   "outputs": [
    {
     "data": {
      "image/png": "[encoded data removed]",
      "text/plain": [
       "<Figure size 1080x360 with 2 Axes>"
      ]
     },
     "metadata": {
      "needs_background": "light"
     },
     "output_type": "display_data"
    }
   ],
   "source": [
    "# Besar rata-rata file asm untuk masing-masing class malware\n",
    "plt.figure(figsize=(15,5))\n",
    "plt.subplot(1,2,1)\n",
    "data_to_plot = group_by_class['size_bytes']\n",
    "sns.barplot(x=data_to_plot.index, y=data_to_plot.values)\n",
    "plt.ylabel('size_bytes (bytes)')\n",
    "plt.subplot(1,2,2)\n",
    "sns.boxplot(y=df['size_bytes'], x=df['class'])\n",
    "plt.title('Distribution size_bytes each class')\n",
    "plt.show()"
   ]
  },
  {
   "cell_type": "code",
   "execution_count": 11,
   "metadata": {},
   "outputs": [],
   "source": [
    "# Analisis jumlah rata-rata common_opcode tiap class malware\n",
    "common_opcode = ['mov', 'push', 'call', 'pop', 'cmp', 'jz', 'lea', 'test', 'jmp', 'add', 'jnz', 'retn', 'xor'] "
   ]
  },
  {
   "cell_type": "code",
   "execution_count": 12,
   "metadata": {},
   "outputs": [
    {
     "data": {
      "text/html": [
       "<div>\n",
       "<style scoped>\n",
       "    .dataframe tbody tr th:only-of-type {\n",
       "        vertical-align: middle;\n",
       "    }\n",
       "\n",
       "    .dataframe tbody tr th {\n",
       "        vertical-align: top;\n",
       "    }\n",
       "\n",
       "    .dataframe thead th {\n",
       "        text-align: right;\n",
       "    }\n",
       "</style>\n",
       "<table border=\"1\" class=\"dataframe\">\n",
       "  <thead>\n",
       "    <tr style=\"text-align: right;\">\n",
       "      <th></th>\n",
       "      <th>mov</th>\n",
       "      <th>push</th>\n",
       "      <th>call</th>\n",
       "      <th>pop</th>\n",
       "      <th>cmp</th>\n",
       "      <th>jz</th>\n",
       "      <th>lea</th>\n",
       "      <th>test</th>\n",
       "      <th>jmp</th>\n",
       "      <th>add</th>\n",
       "      <th>jnz</th>\n",
       "      <th>retn</th>\n",
       "      <th>xor</th>\n",
       "    </tr>\n",
       "    <tr>\n",
       "      <th>class</th>\n",
       "      <th></th>\n",
       "      <th></th>\n",
       "      <th></th>\n",
       "      <th></th>\n",
       "      <th></th>\n",
       "      <th></th>\n",
       "      <th></th>\n",
       "      <th></th>\n",
       "      <th></th>\n",
       "      <th></th>\n",
       "      <th></th>\n",
       "      <th></th>\n",
       "      <th></th>\n",
       "    </tr>\n",
       "  </thead>\n",
       "  <tbody>\n",
       "    <tr>\n",
       "      <th>1</th>\n",
       "      <td>22535.033333</td>\n",
       "      <td>9959.466667</td>\n",
       "      <td>5501.466667</td>\n",
       "      <td>3595.666667</td>\n",
       "      <td>2992.166667</td>\n",
       "      <td>2539.300000</td>\n",
       "      <td>2987.566667</td>\n",
       "      <td>2409.966667</td>\n",
       "      <td>1780.100000</td>\n",
       "      <td>2706.933333</td>\n",
       "      <td>1768.066667</td>\n",
       "      <td>1592.233333</td>\n",
       "      <td>1644.733333</td>\n",
       "    </tr>\n",
       "    <tr>\n",
       "      <th>2</th>\n",
       "      <td>9895.466667</td>\n",
       "      <td>1089.500000</td>\n",
       "      <td>572.433333</td>\n",
       "      <td>549.533333</td>\n",
       "      <td>347.800000</td>\n",
       "      <td>177.700000</td>\n",
       "      <td>293.533333</td>\n",
       "      <td>192.300000</td>\n",
       "      <td>178.100000</td>\n",
       "      <td>350.733333</td>\n",
       "      <td>138.666667</td>\n",
       "      <td>198.300000</td>\n",
       "      <td>1225.866667</td>\n",
       "    </tr>\n",
       "    <tr>\n",
       "      <th>3</th>\n",
       "      <td>176.600000</td>\n",
       "      <td>401.766667</td>\n",
       "      <td>229.033333</td>\n",
       "      <td>175.433333</td>\n",
       "      <td>15.666667</td>\n",
       "      <td>7.833333</td>\n",
       "      <td>42.066667</td>\n",
       "      <td>7.966667</td>\n",
       "      <td>10.400000</td>\n",
       "      <td>135.300000</td>\n",
       "      <td>12.200000</td>\n",
       "      <td>66.333333</td>\n",
       "      <td>21.433333</td>\n",
       "    </tr>\n",
       "    <tr>\n",
       "      <th>4</th>\n",
       "      <td>192.466667</td>\n",
       "      <td>271.200000</td>\n",
       "      <td>65.266667</td>\n",
       "      <td>116.966667</td>\n",
       "      <td>37.133333</td>\n",
       "      <td>10.433333</td>\n",
       "      <td>27.100000</td>\n",
       "      <td>16.366667</td>\n",
       "      <td>154.366667</td>\n",
       "      <td>148.500000</td>\n",
       "      <td>11.233333</td>\n",
       "      <td>8.366667</td>\n",
       "      <td>78.300000</td>\n",
       "    </tr>\n",
       "    <tr>\n",
       "      <th>5</th>\n",
       "      <td>774.500000</td>\n",
       "      <td>503.600000</td>\n",
       "      <td>259.133333</td>\n",
       "      <td>139.700000</td>\n",
       "      <td>58.366667</td>\n",
       "      <td>33.600000</td>\n",
       "      <td>89.233333</td>\n",
       "      <td>25.400000</td>\n",
       "      <td>28.700000</td>\n",
       "      <td>206.700000</td>\n",
       "      <td>34.066667</td>\n",
       "      <td>32.133333</td>\n",
       "      <td>61.400000</td>\n",
       "    </tr>\n",
       "    <tr>\n",
       "      <th>6</th>\n",
       "      <td>1157.466667</td>\n",
       "      <td>1047.633333</td>\n",
       "      <td>523.333333</td>\n",
       "      <td>292.766667</td>\n",
       "      <td>213.266667</td>\n",
       "      <td>157.400000</td>\n",
       "      <td>253.033333</td>\n",
       "      <td>154.333333</td>\n",
       "      <td>243.933333</td>\n",
       "      <td>243.666667</td>\n",
       "      <td>100.166667</td>\n",
       "      <td>196.333333</td>\n",
       "      <td>150.533333</td>\n",
       "    </tr>\n",
       "    <tr>\n",
       "      <th>7</th>\n",
       "      <td>137.333333</td>\n",
       "      <td>263.000000</td>\n",
       "      <td>154.800000</td>\n",
       "      <td>87.700000</td>\n",
       "      <td>29.800000</td>\n",
       "      <td>22.566667</td>\n",
       "      <td>19.533333</td>\n",
       "      <td>9.933333</td>\n",
       "      <td>33.333333</td>\n",
       "      <td>7.700000</td>\n",
       "      <td>26.333333</td>\n",
       "      <td>66.833333</td>\n",
       "      <td>12.066667</td>\n",
       "    </tr>\n",
       "    <tr>\n",
       "      <th>8</th>\n",
       "      <td>1933.966667</td>\n",
       "      <td>401.233333</td>\n",
       "      <td>231.933333</td>\n",
       "      <td>58.866667</td>\n",
       "      <td>183.866667</td>\n",
       "      <td>80.900000</td>\n",
       "      <td>34.966667</td>\n",
       "      <td>20.833333</td>\n",
       "      <td>72.566667</td>\n",
       "      <td>313.533333</td>\n",
       "      <td>67.033333</td>\n",
       "      <td>30.466667</td>\n",
       "      <td>36.033333</td>\n",
       "    </tr>\n",
       "    <tr>\n",
       "      <th>9</th>\n",
       "      <td>1639.533333</td>\n",
       "      <td>1381.866667</td>\n",
       "      <td>642.033333</td>\n",
       "      <td>306.033333</td>\n",
       "      <td>385.766667</td>\n",
       "      <td>195.000000</td>\n",
       "      <td>241.433333</td>\n",
       "      <td>181.733333</td>\n",
       "      <td>297.133333</td>\n",
       "      <td>329.766667</td>\n",
       "      <td>75.033333</td>\n",
       "      <td>124.300000</td>\n",
       "      <td>246.600000</td>\n",
       "    </tr>\n",
       "  </tbody>\n",
       "</table>\n",
       "</div>"
      ],
      "text/plain": [
       "                mov         push         call          pop          cmp  \\\n",
       "class                                                                     \n",
       "1      22535.033333  9959.466667  5501.466667  3595.666667  2992.166667   \n",
       "2       9895.466667  1089.500000   572.433333   549.533333   347.800000   \n",
       "3        176.600000   401.766667   229.033333   175.433333    15.666667   \n",
       "4        192.466667   271.200000    65.266667   116.966667    37.133333   \n",
       "5        774.500000   503.600000   259.133333   139.700000    58.366667   \n",
       "6       1157.466667  1047.633333   523.333333   292.766667   213.266667   \n",
       "7        137.333333   263.000000   154.800000    87.700000    29.800000   \n",
       "8       1933.966667   401.233333   231.933333    58.866667   183.866667   \n",
       "9       1639.533333  1381.866667   642.033333   306.033333   385.766667   \n",
       "\n",
       "                jz          lea         test          jmp          add  \\\n",
       "class                                                                    \n",
       "1      2539.300000  2987.566667  2409.966667  1780.100000  2706.933333   \n",
       "2       177.700000   293.533333   192.300000   178.100000   350.733333   \n",
       "3         7.833333    42.066667     7.966667    10.400000   135.300000   \n",
       "4        10.433333    27.100000    16.366667   154.366667   148.500000   \n",
       "5        33.600000    89.233333    25.400000    28.700000   206.700000   \n",
       "6       157.400000   253.033333   154.333333   243.933333   243.666667   \n",
       "7        22.566667    19.533333     9.933333    33.333333     7.700000   \n",
       "8        80.900000    34.966667    20.833333    72.566667   313.533333   \n",
       "9       195.000000   241.433333   181.733333   297.133333   329.766667   \n",
       "\n",
       "               jnz         retn          xor  \n",
       "class                                         \n",
       "1      1768.066667  1592.233333  1644.733333  \n",
       "2       138.666667   198.300000  1225.866667  \n",
       "3        12.200000    66.333333    21.433333  \n",
       "4        11.233333     8.366667    78.300000  \n",
       "5        34.066667    32.133333    61.400000  \n",
       "6       100.166667   196.333333   150.533333  \n",
       "7        26.333333    66.833333    12.066667  \n",
       "8        67.033333    30.466667    36.033333  \n",
       "9        75.033333   124.300000   246.600000  "
      ]
     },
     "execution_count": 12,
     "metadata": {},
     "output_type": "execute_result"
    }
   ],
   "source": [
    "group_by_class[common_opcode]"
   ]
  },
  {
   "cell_type": "code",
   "execution_count": 13,
   "metadata": {},
   "outputs": [
    {
     "data": {
      "image/png": "[encoded data removed]",
      "text/plain": [
       "<Figure size 1080x2376 with 12 Axes>"
      ]
     },
     "metadata": {
      "needs_background": "light"
     },
     "output_type": "display_data"
    },
    {
     "data": {
      "image/png": "[encoded data removed]",
      "text/plain": [
       "<Figure size 504x360 with 1 Axes>"
      ]
     },
     "metadata": {
      "needs_background": "light"
     },
     "output_type": "display_data"
    },
    {
     "data": {
      "text/plain": [
       "<Figure size 432x288 with 0 Axes>"
      ]
     },
     "metadata": {},
     "output_type": "display_data"
    }
   ],
   "source": [
    "plt.figure(figsize=(15,33))\n",
    "i = 1\n",
    "for element in common_opcode[:-1]:\n",
    "    data_to_plot = group_by_class[element]\n",
    "    plt.subplot(6,2,i)\n",
    "    sns.barplot(x=data_to_plot.index, y=data_to_plot.values)\n",
    "    plt.ylabel(element)\n",
    "    plt.title(f'Rata-rata jumlah {element} tiap class malware')\n",
    "    i += 1\n",
    "plt.show()\n",
    "plt.figure(figsize=(7,5))\n",
    "plt.subplot(1,1,1)\n",
    "data_to_plot = group_by_class[common_opcode[-1]]\n",
    "sns.barplot(x=data_to_plot.index, y=data_to_plot.values)\n",
    "plt.ylabel(common_opcode[-1])\n",
    "plt.title(f'Rata-rata jumlah {common_opcode[-1]} tiap class malware')\n",
    "plt.show()\n",
    "plt.tight_layout()"
   ]
  },
  {
   "cell_type": "markdown",
   "metadata": {},
   "source": [
    "### Prediction"
   ]
  },
  {
   "cell_type": "code",
   "execution_count": 14,
   "metadata": {},
   "outputs": [],
   "source": [
    "# Persiapan feature dan target\n",
    "feature = df.loc[:, 'size_asm':'xor'].values\n",
    "target = df['class']"
   ]
  },
  {
   "cell_type": "code",
   "execution_count": 15,
   "metadata": {},
   "outputs": [],
   "source": [
    "# Feature Extraction menggunakan PCA (Principal Component Analysis)\n",
    "from sklearn.decomposition import PCA\n",
    "from sklearn.preprocessing import StandardScaler\n",
    "from sklearn.pipeline import make_pipeline"
   ]
  },
  {
   "cell_type": "code",
   "execution_count": 16,
   "metadata": {},
   "outputs": [],
   "source": [
    "scaler = StandardScaler()\n",
    "model = PCA()\n",
    "pipeline = make_pipeline(scaler, model)"
   ]
  },
  {
   "cell_type": "code",
   "execution_count": 17,
   "metadata": {},
   "outputs": [
    {
     "data": {
      "text/plain": [
       "Pipeline(memory=None,\n",
       "         steps=[('standardscaler',\n",
       "                 StandardScaler(copy=True, with_mean=True, with_std=True)),\n",
       "                ('pca',\n",
       "                 PCA(copy=True, iterated_power='auto', n_components=None,\n",
       "                     random_state=None, svd_solver='auto', tol=0.0,\n",
       "                     whiten=False))],\n",
       "         verbose=False)"
      ]
     },
     "execution_count": 17,
     "metadata": {},
     "output_type": "execute_result"
    }
   ],
   "source": [
    "pipeline.fit(feature)"
   ]
  },
  {
   "cell_type": "code",
   "execution_count": 18,
   "metadata": {},
   "outputs": [
    {
     "data": {
      "image/png": "[encoded data removed]",
      "text/plain": [
       "<Figure size 432x288 with 1 Axes>"
      ]
     },
     "metadata": {
      "needs_background": "light"
     },
     "output_type": "display_data"
    }
   ],
   "source": [
    "#Melihat feature dengan feature variance\n",
    "features = range(model.n_components_)\n",
    "plt.bar(features, model.explained_variance_)\n",
    "plt.xlabel('Feature')\n",
    "plt.ylabel('Feature Variance')\n",
    "plt.show()"
   ]
  },
  {
   "cell_type": "markdown",
   "metadata": {},
   "source": [
    "Komponen yang memiliki variance yang cukup terlihat berada di rentang 1-50"
   ]
  },
  {
   "cell_type": "markdown",
   "metadata": {},
   "source": [
    "### Jumlah Komponen yang akan digunakan dalam PCA"
   ]
  },
  {
   "cell_type": "code",
   "execution_count": 19,
   "metadata": {},
   "outputs": [],
   "source": [
    "from sklearn.ensemble import RandomForestClassifier\n",
    "from sklearn.model_selection import cross_val_predict\n",
    "from sklearn.metrics import accuracy_score"
   ]
  },
  {
   "cell_type": "code",
   "execution_count": 20,
   "metadata": {},
   "outputs": [],
   "source": [
    "# Scaling Feature\n",
    "scaler = StandardScaler()\n",
    "scaled_samples = scaler.fit_transform(feature)"
   ]
  },
  {
   "cell_type": "code",
   "execution_count": 28,
   "metadata": {},
   "outputs": [],
   "source": [
    "ls_acc_cv = []\n",
    "for i in range(1,50,2):\n",
    "    model = PCA(n_components=i)\n",
    "    model.fit(scaled_samples)\n",
    "    X = model.transform(scaled_samples)\n",
    "    rf = RandomForestClassifier(n_estimators=100)\n",
    "    #Cross Validation\n",
    "    train_pred = cross_val_predict(rf, X, target, cv = 10, n_jobs = -1)\n",
    "    #Cross Validation Accuracy Metrics\n",
    "    acc_cv = round(accuracy_score(target, train_pred)*100, 2)\n",
    "    ls_acc_cv.append(acc_cv)"
   ]
  },
  {
   "cell_type": "code",
   "execution_count": 29,
   "metadata": {},
   "outputs": [
    {
     "data": {
      "text/plain": [
       "<matplotlib.axes._subplots.AxesSubplot at 0x21430fa9cf8>"
      ]
     },
     "execution_count": 29,
     "metadata": {},
     "output_type": "execute_result"
    },
    {
     "data": {
      "image/png": "[encoded data removed]",
      "text/plain": [
       "<Figure size 432x288 with 1 Axes>"
      ]
     },
     "metadata": {
      "needs_background": "light"
     },
     "output_type": "display_data"
    }
   ],
   "source": [
    "sns.barplot(list(range(1,50,2)), ls_acc_cv)"
   ]
  },
  {
   "cell_type": "markdown",
   "metadata": {},
   "source": [
    "kita akan menggunakan jumlah feature = 45"
   ]
  },
  {
   "cell_type": "code",
   "execution_count": 23,
   "metadata": {},
   "outputs": [],
   "source": [
    "scaler = StandardScaler()\n",
    "scaled_feature = scaler.fit_transform(feature)"
   ]
  },
  {
   "cell_type": "code",
   "execution_count": 24,
   "metadata": {},
   "outputs": [],
   "source": [
    "pca = PCA(n_components=45)"
   ]
  },
  {
   "cell_type": "code",
   "execution_count": 25,
   "metadata": {},
   "outputs": [
    {
     "data": {
      "text/plain": [
       "PCA(copy=True, iterated_power='auto', n_components=45, random_state=None,\n",
       "    svd_solver='auto', tol=0.0, whiten=False)"
      ]
     },
     "execution_count": 25,
     "metadata": {},
     "output_type": "execute_result"
    }
   ],
   "source": [
    "pca.fit(scaled_feature)"
   ]
  },
  {
   "cell_type": "code",
   "execution_count": 26,
   "metadata": {},
   "outputs": [],
   "source": [
    "pca_features = pd.DataFrame(pca.transform(scaled_feature))"
   ]
  },
  {
   "cell_type": "code",
   "execution_count": 27,
   "metadata": {},
   "outputs": [],
   "source": [
    "df_pca_feat= pd.concat([df[['filename', 'class']], pca_features], axis=1)"
   ]
  },
  {
   "cell_type": "markdown",
   "metadata": {},
   "source": [
    "### RandomForest Model"
   ]
  },
  {
   "cell_type": "code",
   "execution_count": 43,
   "metadata": {},
   "outputs": [],
   "source": [
    "X = df_pca_feat.iloc[:, 2:].values\n",
    "y = df_pca_feat['class']"
   ]
  },
  {
   "cell_type": "code",
   "execution_count": 31,
   "metadata": {},
   "outputs": [],
   "source": [
    "from sklearn.model_selection import GridSearchCV"
   ]
  },
  {
   "cell_type": "code",
   "execution_count": 75,
   "metadata": {},
   "outputs": [],
   "source": [
    "rf = RandomForestClassifier()"
   ]
  },
  {
   "cell_type": "code",
   "execution_count": 80,
   "metadata": {},
   "outputs": [
    {
     "data": {
      "text/plain": [
       "GridSearchCV(cv=5, error_score='raise-deprecating',\n",
       "             estimator=RandomForestClassifier(bootstrap=True, class_weight=None,\n",
       "                                              criterion='gini', max_depth=None,\n",
       "                                              max_features='auto',\n",
       "                                              max_leaf_nodes=None,\n",
       "                                              min_impurity_decrease=0.0,\n",
       "                                              min_impurity_split=None,\n",
       "                                              min_samples_leaf=1,\n",
       "                                              min_samples_split=2,\n",
       "                                              min_weight_fraction_leaf=0.0,\n",
       "                                              n_estimators='warn', n_jobs=None,\n",
       "                                              oob_score=False,\n",
       "                                              random_state=None, verbose=0,\n",
       "                                              warm_start=False),\n",
       "             iid='warn', n_jobs=None,\n",
       "             param_grid={'n_estimators': [100, 200, 300, 400, 500, 600]},\n",
       "             pre_dispatch='2*n_jobs', refit=True, return_train_score=False,\n",
       "             scoring=None, verbose=0)"
      ]
     },
     "execution_count": 80,
     "metadata": {},
     "output_type": "execute_result"
    }
   ],
   "source": [
    "#Menentukan n_estimators terbaik untuk RandomForest\n",
    "rf_cv = GridSearchCV(rf, param_grid= {'n_estimators':list(range(100,700,100))}, cv=5)\n",
    "rf_cv.fit(X,y)"
   ]
  },
  {
   "cell_type": "code",
   "execution_count": 81,
   "metadata": {},
   "outputs": [
    {
     "name": "stdout",
     "output_type": "stream",
     "text": [
      "best parameter n_estimator = {'n_estimators': 400}\n",
      "best score = 0.9\n"
     ]
    }
   ],
   "source": [
    "print(f'best parameter= {rf_cv.best_params_}')\n",
    "print(f'best score = {rf_cv.best_score_}')"
   ]
  },
  {
   "cell_type": "markdown",
   "metadata": {},
   "source": [
    "Menggunakan GridSearchCV, ditemukan n_estimators max = 400"
   ]
  },
  {
   "cell_type": "code",
   "execution_count": 82,
   "metadata": {},
   "outputs": [],
   "source": [
    "# Menentukan max_depth parameter\n",
    "rf = RandomForestClassifier(n_estimators=400)"
   ]
  },
  {
   "cell_type": "code",
   "execution_count": 83,
   "metadata": {},
   "outputs": [],
   "source": [
    "param_grid = {\n",
    "    'max_depth': np.linspace(1,32,32),\n",
    "}"
   ]
  },
  {
   "cell_type": "code",
   "execution_count": 84,
   "metadata": {},
   "outputs": [
    {
     "data": {
      "text/plain": [
       "GridSearchCV(cv=5, error_score='raise-deprecating',\n",
       "             estimator=RandomForestClassifier(bootstrap=True, class_weight=None,\n",
       "                                              criterion='gini', max_depth=None,\n",
       "                                              max_features='auto',\n",
       "                                              max_leaf_nodes=None,\n",
       "                                              min_impurity_decrease=0.0,\n",
       "                                              min_impurity_split=None,\n",
       "                                              min_samples_leaf=1,\n",
       "                                              min_samples_split=2,\n",
       "                                              min_weight_fraction_leaf=0.0,\n",
       "                                              n_estimators=400, n_jobs=None,\n",
       "                                              oob_score=False,\n",
       "                                              random_state=None, verbose=0,\n",
       "                                              warm_start=False),\n",
       "             iid='warn', n_jobs=None,\n",
       "             param_grid={'max_depth': array([ 1.,  2.,  3.,  4.,  5.,  6.,  7.,  8.,  9., 10., 11., 12., 13.,\n",
       "       14., 15., 16., 17., 18., 19., 20., 21., 22., 23., 24., 25., 26.,\n",
       "       27., 28., 29., 30., 31., 32.])},\n",
       "             pre_dispatch='2*n_jobs', refit=True, return_train_score=False,\n",
       "             scoring=None, verbose=0)"
      ]
     },
     "execution_count": 84,
     "metadata": {},
     "output_type": "execute_result"
    }
   ],
   "source": [
    "rf_cv = GridSearchCV(rf, param_grid, cv=5)\n",
    "rf_cv.fit(X, y)"
   ]
  },
  {
   "cell_type": "code",
   "execution_count": 85,
   "metadata": {},
   "outputs": [
    {
     "name": "stdout",
     "output_type": "stream",
     "text": [
      "best parameter n_estimator = {'max_depth': 20.0}\n",
      "best score = 0.9\n"
     ]
    }
   ],
   "source": [
    "print(f'best parameter= {rf_cv.best_params_}')\n",
    "print(f'best score = {rf_cv.best_score_}')"
   ]
  },
  {
   "cell_type": "markdown",
   "metadata": {},
   "source": [
    "max_depth terbaik adalah 20"
   ]
  },
  {
   "cell_type": "code",
   "execution_count": 86,
   "metadata": {},
   "outputs": [],
   "source": [
    "# Menentukan max_depth parameter\n",
    "rf = RandomForestClassifier(n_estimators=400, max_depth=20)"
   ]
  },
  {
   "cell_type": "code",
   "execution_count": 94,
   "metadata": {},
   "outputs": [],
   "source": [
    "param_grid = {\n",
    "    'max_features': np.linspace(0.25,1,5)\n",
    "}"
   ]
  },
  {
   "cell_type": "code",
   "execution_count": 95,
   "metadata": {},
   "outputs": [
    {
     "data": {
      "text/plain": [
       "GridSearchCV(cv=5, error_score='raise-deprecating',\n",
       "             estimator=RandomForestClassifier(bootstrap=True, class_weight=None,\n",
       "                                              criterion='gini', max_depth=20,\n",
       "                                              max_features='auto',\n",
       "                                              max_leaf_nodes=None,\n",
       "                                              min_impurity_decrease=0.0,\n",
       "                                              min_impurity_split=None,\n",
       "                                              min_samples_leaf=1,\n",
       "                                              min_samples_split=2,\n",
       "                                              min_weight_fraction_leaf=0.0,\n",
       "                                              n_estimators=400, n_jobs=None,\n",
       "                                              oob_score=False,\n",
       "                                              random_state=None, verbose=0,\n",
       "                                              warm_start=False),\n",
       "             iid='warn', n_jobs=None,\n",
       "             param_grid={'max_features': array([0.25  , 0.4375, 0.625 , 0.8125, 1.    ])},\n",
       "             pre_dispatch='2*n_jobs', refit=True, return_train_score=False,\n",
       "             scoring=None, verbose=0)"
      ]
     },
     "execution_count": 95,
     "metadata": {},
     "output_type": "execute_result"
    }
   ],
   "source": [
    "rf_cv = GridSearchCV(rf, param_grid, cv=5)\n",
    "rf_cv.fit(X, y)"
   ]
  },
  {
   "cell_type": "code",
   "execution_count": 98,
   "metadata": {},
   "outputs": [
    {
     "name": "stdout",
     "output_type": "stream",
     "text": [
      "best parameter n_estimator = {'max_features': 0.625}\n",
      "best score = 0.9037037037037037\n"
     ]
    }
   ],
   "source": [
    "print(f'best parameter= {rf_cv.best_params_}')\n",
    "print(f'best score = {rf_cv.best_score_}')"
   ]
  },
  {
   "cell_type": "markdown",
   "metadata": {},
   "source": [
    "max_features yang terbaik adalah 0.625"
   ]
  },
  {
   "cell_type": "markdown",
   "metadata": {},
   "source": [
    "### Predict Random Forest"
   ]
  },
  {
   "cell_type": "code",
   "execution_count": 161,
   "metadata": {},
   "outputs": [],
   "source": [
    "model_random_forest = RandomForestClassifier(n_estimators=400, max_depth=20, max_features=0.625)"
   ]
  },
  {
   "cell_type": "code",
   "execution_count": 162,
   "metadata": {},
   "outputs": [],
   "source": [
    "pred_rf = cross_val_predict(model_random_forest, X, y, cv=10, n_jobs=-1)"
   ]
  },
  {
   "cell_type": "code",
   "execution_count": 163,
   "metadata": {},
   "outputs": [],
   "source": [
    "acc_rf = accuracy_score(y, pred_rf, normalize=True)"
   ]
  },
  {
   "cell_type": "code",
   "execution_count": 164,
   "metadata": {},
   "outputs": [
    {
     "data": {
      "text/plain": [
       "0.9111111111111111"
      ]
     },
     "execution_count": 164,
     "metadata": {},
     "output_type": "execute_result"
    }
   ],
   "source": [
    "acc_rf"
   ]
  },
  {
   "cell_type": "markdown",
   "metadata": {},
   "source": [
    "### Confussion Matrix dan Classification Report Random Forest"
   ]
  },
  {
   "cell_type": "code",
   "execution_count": 107,
   "metadata": {},
   "outputs": [],
   "source": [
    "from sklearn.metrics import confusion_matrix, classification_report"
   ]
  },
  {
   "cell_type": "code",
   "execution_count": 106,
   "metadata": {},
   "outputs": [
    {
     "data": {
      "text/plain": [
       "array([[28,  1,  0,  0,  0,  0,  0,  0,  1],\n",
       "       [ 0, 29,  0,  0,  0,  0,  0,  0,  1],\n",
       "       [ 0,  0, 30,  0,  0,  0,  0,  0,  0],\n",
       "       [ 0,  0,  0, 29,  0,  0,  1,  0,  0],\n",
       "       [ 1,  0,  0,  1, 26,  2,  0,  0,  0],\n",
       "       [ 2,  0,  0,  2,  2, 23,  0,  0,  1],\n",
       "       [ 0,  3,  0,  0,  0,  1, 26,  0,  0],\n",
       "       [ 1,  0,  0,  1,  1,  1,  0, 26,  0],\n",
       "       [ 0,  1,  0,  2,  0,  0,  0,  0, 27]], dtype=int64)"
      ]
     },
     "execution_count": 106,
     "metadata": {},
     "output_type": "execute_result"
    }
   ],
   "source": [
    "confusion_matrix(y, pred)"
   ]
  },
  {
   "cell_type": "code",
   "execution_count": 109,
   "metadata": {},
   "outputs": [
    {
     "name": "stdout",
     "output_type": "stream",
     "text": [
      "              precision    recall  f1-score   support\n",
      "\n",
      "           1       0.88      0.93      0.90        30\n",
      "           2       0.85      0.97      0.91        30\n",
      "           3       1.00      1.00      1.00        30\n",
      "           4       0.83      0.97      0.89        30\n",
      "           5       0.90      0.87      0.88        30\n",
      "           6       0.85      0.77      0.81        30\n",
      "           7       0.96      0.87      0.91        30\n",
      "           8       1.00      0.87      0.93        30\n",
      "           9       0.90      0.90      0.90        30\n",
      "\n",
      "    accuracy                           0.90       270\n",
      "   macro avg       0.91      0.90      0.90       270\n",
      "weighted avg       0.91      0.90      0.90       270\n",
      "\n"
     ]
    }
   ],
   "source": [
    "print(classification_report(y, pred))"
   ]
  },
  {
   "cell_type": "markdown",
   "metadata": {},
   "source": [
    "### Support Vector Machine Classifier Model"
   ]
  },
  {
   "cell_type": "code",
   "execution_count": 110,
   "metadata": {},
   "outputs": [],
   "source": [
    "from sklearn.svm import SVC"
   ]
  },
  {
   "cell_type": "code",
   "execution_count": 111,
   "metadata": {},
   "outputs": [],
   "source": [
    "X = df_pca_feat.iloc[:, 2:].values\n",
    "y = df_pca_feat['class']"
   ]
  },
  {
   "cell_type": "code",
   "execution_count": 122,
   "metadata": {},
   "outputs": [],
   "source": [
    "svc = SVC(gamma='auto')"
   ]
  },
  {
   "cell_type": "code",
   "execution_count": 123,
   "metadata": {},
   "outputs": [],
   "source": [
    "param_grid = {\n",
    "    'kernel': ['linear', 'rbf', 'poly']\n",
    "}"
   ]
  },
  {
   "cell_type": "code",
   "execution_count": 124,
   "metadata": {},
   "outputs": [
    {
     "data": {
      "text/plain": [
       "GridSearchCV(cv=5, error_score='raise-deprecating',\n",
       "             estimator=SVC(C=1.0, cache_size=200, class_weight=None, coef0=0.0,\n",
       "                           decision_function_shape='ovr', degree=3,\n",
       "                           gamma='auto', kernel='rbf', max_iter=-1,\n",
       "                           probability=False, random_state=None, shrinking=True,\n",
       "                           tol=0.001, verbose=False),\n",
       "             iid='warn', n_jobs=None,\n",
       "             param_grid={'kernel': ['linear', 'rbf', 'poly']},\n",
       "             pre_dispatch='2*n_jobs', refit=True, return_train_score=False,\n",
       "             scoring=None, verbose=0)"
      ]
     },
     "execution_count": 124,
     "metadata": {},
     "output_type": "execute_result"
    }
   ],
   "source": [
    "svc_cv = GridSearchCV(svc, param_grid, cv=5 )\n",
    "svc_cv.fit(X,y)"
   ]
  },
  {
   "cell_type": "code",
   "execution_count": 125,
   "metadata": {},
   "outputs": [
    {
     "name": "stdout",
     "output_type": "stream",
     "text": [
      "best parameter n_estimator = {'kernel': 'linear'}\n",
      "best score = 0.8851851851851852\n"
     ]
    }
   ],
   "source": [
    "print(f'best parameter= {svc_cv.best_params_}')\n",
    "print(f'best score = {svc_cv.best_score_}')"
   ]
  },
  {
   "cell_type": "markdown",
   "metadata": {},
   "source": [
    "kernel terpilih adalah linear"
   ]
  },
  {
   "cell_type": "code",
   "execution_count": 129,
   "metadata": {},
   "outputs": [],
   "source": [
    "#best C parameter\n",
    "svc = SVC(gamma='auto', kernel='linear')"
   ]
  },
  {
   "cell_type": "code",
   "execution_count": 137,
   "metadata": {},
   "outputs": [],
   "source": [
    "param_grid = {\n",
    "    'C': np.linspace(0.1,1,10)\n",
    "}"
   ]
  },
  {
   "cell_type": "code",
   "execution_count": 138,
   "metadata": {},
   "outputs": [
    {
     "data": {
      "text/plain": [
       "GridSearchCV(cv=5, error_score='raise-deprecating',\n",
       "             estimator=SVC(C=1.0, cache_size=200, class_weight=None, coef0=0.0,\n",
       "                           decision_function_shape='ovr', degree=3,\n",
       "                           gamma='auto', kernel='linear', max_iter=-1,\n",
       "                           probability=False, random_state=None, shrinking=True,\n",
       "                           tol=0.001, verbose=False),\n",
       "             iid='warn', n_jobs=None,\n",
       "             param_grid={'C': array([0.1, 0.2, 0.3, 0.4, 0.5, 0.6, 0.7, 0.8, 0.9, 1. ])},\n",
       "             pre_dispatch='2*n_jobs', refit=True, return_train_score=False,\n",
       "             scoring=None, verbose=0)"
      ]
     },
     "execution_count": 138,
     "metadata": {},
     "output_type": "execute_result"
    }
   ],
   "source": [
    "svc_cv = GridSearchCV(svc, param_grid, cv=5 )\n",
    "svc_cv.fit(X,y)"
   ]
  },
  {
   "cell_type": "code",
   "execution_count": 139,
   "metadata": {},
   "outputs": [
    {
     "name": "stdout",
     "output_type": "stream",
     "text": [
      "best parameter n_estimator = {'C': 0.8}\n",
      "best score = 0.8925925925925926\n"
     ]
    }
   ],
   "source": [
    "print(f'best parameter= {svc_cv.best_params_}')\n",
    "print(f'best score = {svc_cv.best_score_}')"
   ]
  },
  {
   "cell_type": "markdown",
   "metadata": {},
   "source": [
    "C parameter yang memberikan score terbaik adalah 0.8"
   ]
  },
  {
   "cell_type": "markdown",
   "metadata": {},
   "source": [
    "### Predict SVC"
   ]
  },
  {
   "cell_type": "code",
   "execution_count": 152,
   "metadata": {},
   "outputs": [],
   "source": [
    "svc = SVC(gamma='auto', kernel='linear', C=0.8)"
   ]
  },
  {
   "cell_type": "code",
   "execution_count": 153,
   "metadata": {},
   "outputs": [],
   "source": [
    "pred_svc = cross_val_predict(svc, X, y, cv=10, n_jobs=-1)"
   ]
  },
  {
   "cell_type": "code",
   "execution_count": 154,
   "metadata": {},
   "outputs": [],
   "source": [
    "acc_svc = accuracy_score(y, pred, normalize=True)"
   ]
  },
  {
   "cell_type": "code",
   "execution_count": 159,
   "metadata": {},
   "outputs": [
    {
     "data": {
      "text/plain": [
       "0.8740740740740741"
      ]
     },
     "execution_count": 159,
     "metadata": {},
     "output_type": "execute_result"
    }
   ],
   "source": [
    "acc_svc"
   ]
  },
  {
   "cell_type": "markdown",
   "metadata": {},
   "source": [
    "### Confussion Matrix dan Classification Report SVC"
   ]
  },
  {
   "cell_type": "code",
   "execution_count": 157,
   "metadata": {},
   "outputs": [
    {
     "data": {
      "text/plain": [
       "array([[29,  0,  0,  0,  0,  0,  0,  1,  0],\n",
       "       [ 0, 28,  0,  0,  0,  0,  0,  1,  1],\n",
       "       [ 0,  0, 30,  0,  0,  0,  0,  0,  0],\n",
       "       [ 0,  0,  0, 30,  0,  0,  0,  0,  0],\n",
       "       [ 0,  0,  0,  1, 25,  3,  1,  0,  0],\n",
       "       [ 2,  0,  0,  8,  2, 17,  0,  0,  1],\n",
       "       [ 0,  1,  0,  0,  1,  0, 27,  0,  1],\n",
       "       [ 1,  0,  0,  2,  1,  0,  0, 26,  0],\n",
       "       [ 1,  0,  1,  1,  0,  2,  0,  1, 24]], dtype=int64)"
      ]
     },
     "execution_count": 157,
     "metadata": {},
     "output_type": "execute_result"
    }
   ],
   "source": [
    "confusion_matrix(y, pred_svc)"
   ]
  },
  {
   "cell_type": "code",
   "execution_count": 158,
   "metadata": {},
   "outputs": [
    {
     "name": "stdout",
     "output_type": "stream",
     "text": [
      "              precision    recall  f1-score   support\n",
      "\n",
      "           1       0.88      0.97      0.92        30\n",
      "           2       0.97      0.93      0.95        30\n",
      "           3       0.97      1.00      0.98        30\n",
      "           4       0.71      1.00      0.83        30\n",
      "           5       0.86      0.83      0.85        30\n",
      "           6       0.77      0.57      0.65        30\n",
      "           7       0.96      0.90      0.93        30\n",
      "           8       0.90      0.87      0.88        30\n",
      "           9       0.89      0.80      0.84        30\n",
      "\n",
      "    accuracy                           0.87       270\n",
      "   macro avg       0.88      0.87      0.87       270\n",
      "weighted avg       0.88      0.87      0.87       270\n",
      "\n"
     ]
    }
   ],
   "source": [
    "print(classification_report(y, pred_svc))"
   ]
  },
  {
   "cell_type": "code",
   "execution_count": 166,
   "metadata": {},
   "outputs": [
    {
     "data": {
      "text/html": [
       "<div>\n",
       "<style scoped>\n",
       "    .dataframe tbody tr th:only-of-type {\n",
       "        vertical-align: middle;\n",
       "    }\n",
       "\n",
       "    .dataframe tbody tr th {\n",
       "        vertical-align: top;\n",
       "    }\n",
       "\n",
       "    .dataframe thead th {\n",
       "        text-align: right;\n",
       "    }\n",
       "</style>\n",
       "<table border=\"1\" class=\"dataframe\">\n",
       "  <thead>\n",
       "    <tr style=\"text-align: right;\">\n",
       "      <th></th>\n",
       "      <th>model</th>\n",
       "      <th>Accuracy CV(10 fold)</th>\n",
       "    </tr>\n",
       "  </thead>\n",
       "  <tbody>\n",
       "    <tr>\n",
       "      <th>0</th>\n",
       "      <td>Random Forest</td>\n",
       "      <td>0.911111</td>\n",
       "    </tr>\n",
       "    <tr>\n",
       "      <th>1</th>\n",
       "      <td>Support Vector Machine</td>\n",
       "      <td>0.874074</td>\n",
       "    </tr>\n",
       "  </tbody>\n",
       "</table>\n",
       "</div>"
      ],
      "text/plain": [
       "                    model  Accuracy CV(10 fold)\n",
       "0           Random Forest              0.911111\n",
       "1  Support Vector Machine              0.874074"
      ]
     },
     "execution_count": 166,
     "metadata": {},
     "output_type": "execute_result"
    }
   ],
   "source": [
    "pd.DataFrame({'model':['Random Forest', 'Support Vector Machine'], 'Accuracy CV(10 fold)':[acc_rf, acc_svc]})"
   ]
  }
 ],
 "metadata": {
  "kernelspec": {
   "display_name": "Python 3",
   "language": "python",
   "name": "python3"
  },
  "language_info": {
   "codemirror_mode": {
    "name": "ipython",
    "version": 3
   },
   "file_extension": ".py",
   "mimetype": "text/x-python",
   "name": "python",
   "nbconvert_exporter": "python",
   "pygments_lexer": "ipython3",
   "version": "3.7.3"
  }
 },
 "nbformat": 4,
 "nbformat_minor": 2
}
