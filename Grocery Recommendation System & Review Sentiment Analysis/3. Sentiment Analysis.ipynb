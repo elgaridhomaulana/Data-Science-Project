{
 "cells": [
  {
   "cell_type": "code",
   "execution_count": 1,
   "metadata": {},
   "outputs": [],
   "source": [
    "import pandas as pd\n",
    "import numpy as np\n",
    "import matplotlib.pyplot as plt\n",
    "import seaborn as sns"
   ]
  },
  {
   "cell_type": "code",
   "execution_count": 2,
   "metadata": {},
   "outputs": [],
   "source": [
    "df = pd.read_csv('review.csv')"
   ]
  },
  {
   "cell_type": "code",
   "execution_count": 3,
   "metadata": {},
   "outputs": [],
   "source": [
    "df = df[['summary', 'overall']]"
   ]
  },
  {
   "cell_type": "markdown",
   "metadata": {},
   "source": [
    "Kita akan membuat sentiment analysis dari data summary. Dalam projek ini, akan dibuat model yang memprediksi apakah sebuah review itu memiliki sentimen yang baik (Great) atau sentimen yang buruk (Bad). Untuk mencapai tujuan ini, kita akan membagi dua kategori data yaitu Bad dan Great berdasarkan kolom rating. Apabila rating lebih kecil dari 3 maka masuk ke dalam kategori Bad. Sedangkan, apabila rating lebih besar dari 3 maka masuk ke dalam kategori Great. Kita tidak akan memakai rating 3. "
   ]
  },
  {
   "cell_type": "code",
   "execution_count": 4,
   "metadata": {},
   "outputs": [],
   "source": [
    "def change_overall(ser):\n",
    "    if ser < 3:\n",
    "        return 'Bad'\n",
    "    elif ser == 3:\n",
    "        return 'Neutral'\n",
    "    else:\n",
    "        return 'Great'"
   ]
  },
  {
   "cell_type": "code",
   "execution_count": 5,
   "metadata": {},
   "outputs": [],
   "source": [
    "# membuat kolom baru bernama overall2 yang berisi Bad atau Great berdasarkan nilai overall\n",
    "df['overall2'] = df['overall'].apply(change_overall)"
   ]
  },
  {
   "cell_type": "code",
   "execution_count": 6,
   "metadata": {},
   "outputs": [
    {
     "data": {
      "text/plain": [
       "Great      120044\n",
       "Neutral     17514\n",
       "Bad         13696\n",
       "Name: overall2, dtype: int64"
      ]
     },
     "execution_count": 6,
     "metadata": {},
     "output_type": "execute_result"
    }
   ],
   "source": [
    "df['overall2'].value_counts()"
   ]
  },
  {
   "cell_type": "code",
   "execution_count": 7,
   "metadata": {},
   "outputs": [],
   "source": [
    "idx_neutral = df[df['overall2'] == 'Neutral'].index"
   ]
  },
  {
   "cell_type": "code",
   "execution_count": 8,
   "metadata": {},
   "outputs": [],
   "source": [
    "df.drop(idx_neutral, inplace=True)"
   ]
  },
  {
   "cell_type": "code",
   "execution_count": 9,
   "metadata": {},
   "outputs": [],
   "source": [
    "df.reset_index(drop=True, inplace=True)"
   ]
  },
  {
   "cell_type": "code",
   "execution_count": 10,
   "metadata": {},
   "outputs": [
    {
     "data": {
      "text/plain": [
       "Great    120044\n",
       "Bad       13696\n",
       "Name: overall2, dtype: int64"
      ]
     },
     "execution_count": 10,
     "metadata": {},
     "output_type": "execute_result"
    }
   ],
   "source": [
    "df['overall2'].value_counts()"
   ]
  },
  {
   "cell_type": "markdown",
   "metadata": {},
   "source": [
    "Jumlah data Great dan Bad tidak seimbang. Jumlah data Great 10 kali lipat lebih banyak dibandingkan dengan data Bad. Apabila kita membuat model dari data seperti ini, maka model tersebut akan lebih cenderung untuk memprediksi Great. Terdapat beberapa cara untuk mengatasi data yang unbalance data, salah satunya adalah dengan teknik downsampling dimana data yang banyak akan dihapus sehingga data menjadi seimbang."
   ]
  },
  {
   "cell_type": "markdown",
   "metadata": {},
   "source": [
    "## Data Balancing\n",
    "\n",
    "Dalam proses data balancing ini, kita akan menggunakan teknik downsample. Artinya, kita akan membuang data Great sehingga jumlahnya tidak jauh dengan data Bad. Teknik ini lebih mudah dilakukan dibandingkan teknik balancing yang lain, tetapi dengan dihapusnya data tentu saja akan ada informasi yang hilang. Teknik downsampling tidak cocok digunakan untuk data yang berjumlah sedikit.\n",
    "\n",
    "Dalam projek ini, terdapat 150 ribu lebih data review. Apabila kita melakukan downsampling, data yang akan tersisa adalah sekitar 62 ribu. Data ini masih cukup banyak untuk bisa dijadikan sebagai model."
   ]
  },
  {
   "cell_type": "code",
   "execution_count": 11,
   "metadata": {},
   "outputs": [],
   "source": [
    "# downsampling menggunakan sample, method dari pandas\n",
    "df_great = df[df['overall2'] == 'Great'].sample(n=len(df[df['overall2'] == 'Bad']), random_state=101)"
   ]
  },
  {
   "cell_type": "code",
   "execution_count": 12,
   "metadata": {},
   "outputs": [],
   "source": [
    "df_bad = df[df['overall2'] == 'Bad']"
   ]
  },
  {
   "cell_type": "code",
   "execution_count": 13,
   "metadata": {},
   "outputs": [],
   "source": [
    "# menggabungkan kembali data bad dengan data great yang sudah dikurangi jumlahnya\n",
    "df_balance = pd.concat([df_great, df_bad]).reset_index(drop=True)"
   ]
  },
  {
   "cell_type": "code",
   "execution_count": 14,
   "metadata": {},
   "outputs": [
    {
     "data": {
      "text/html": [
       "<div>\n",
       "<style scoped>\n",
       "    .dataframe tbody tr th:only-of-type {\n",
       "        vertical-align: middle;\n",
       "    }\n",
       "\n",
       "    .dataframe tbody tr th {\n",
       "        vertical-align: top;\n",
       "    }\n",
       "\n",
       "    .dataframe thead th {\n",
       "        text-align: right;\n",
       "    }\n",
       "</style>\n",
       "<table border=\"1\" class=\"dataframe\">\n",
       "  <thead>\n",
       "    <tr style=\"text-align: right;\">\n",
       "      <th></th>\n",
       "      <th>summary</th>\n",
       "      <th>overall</th>\n",
       "      <th>overall2</th>\n",
       "    </tr>\n",
       "  </thead>\n",
       "  <tbody>\n",
       "    <tr>\n",
       "      <th>0</th>\n",
       "      <td>Pretty Good in The Morning</td>\n",
       "      <td>4.0</td>\n",
       "      <td>Great</td>\n",
       "    </tr>\n",
       "    <tr>\n",
       "      <th>1</th>\n",
       "      <td>All I Could Want in A Taco Shell...</td>\n",
       "      <td>5.0</td>\n",
       "      <td>Great</td>\n",
       "    </tr>\n",
       "    <tr>\n",
       "      <th>2</th>\n",
       "      <td>Delicious!</td>\n",
       "      <td>4.0</td>\n",
       "      <td>Great</td>\n",
       "    </tr>\n",
       "    <tr>\n",
       "      <th>3</th>\n",
       "      <td>Smooooth!!!!</td>\n",
       "      <td>5.0</td>\n",
       "      <td>Great</td>\n",
       "    </tr>\n",
       "    <tr>\n",
       "      <th>4</th>\n",
       "      <td>Deliciously Authentic Bold Salsa Flavor</td>\n",
       "      <td>5.0</td>\n",
       "      <td>Great</td>\n",
       "    </tr>\n",
       "  </tbody>\n",
       "</table>\n",
       "</div>"
      ],
      "text/plain": [
       "                                   summary  overall overall2\n",
       "0               Pretty Good in The Morning      4.0    Great\n",
       "1      All I Could Want in A Taco Shell...      5.0    Great\n",
       "2                               Delicious!      4.0    Great\n",
       "3                             Smooooth!!!!      5.0    Great\n",
       "4  Deliciously Authentic Bold Salsa Flavor      5.0    Great"
      ]
     },
     "execution_count": 14,
     "metadata": {},
     "output_type": "execute_result"
    }
   ],
   "source": [
    "df_balance.head()"
   ]
  },
  {
   "cell_type": "code",
   "execution_count": 15,
   "metadata": {},
   "outputs": [
    {
     "data": {
      "text/html": [
       "<div>\n",
       "<style scoped>\n",
       "    .dataframe tbody tr th:only-of-type {\n",
       "        vertical-align: middle;\n",
       "    }\n",
       "\n",
       "    .dataframe tbody tr th {\n",
       "        vertical-align: top;\n",
       "    }\n",
       "\n",
       "    .dataframe thead th {\n",
       "        text-align: right;\n",
       "    }\n",
       "</style>\n",
       "<table border=\"1\" class=\"dataframe\">\n",
       "  <thead>\n",
       "    <tr style=\"text-align: right;\">\n",
       "      <th></th>\n",
       "      <th>summary</th>\n",
       "      <th>overall</th>\n",
       "      <th>overall2</th>\n",
       "    </tr>\n",
       "  </thead>\n",
       "  <tbody>\n",
       "    <tr>\n",
       "      <th>27387</th>\n",
       "      <td>Not to my taste at all.</td>\n",
       "      <td>2.0</td>\n",
       "      <td>Bad</td>\n",
       "    </tr>\n",
       "    <tr>\n",
       "      <th>27388</th>\n",
       "      <td>This was unnecessarily complicated to cook - y...</td>\n",
       "      <td>2.0</td>\n",
       "      <td>Bad</td>\n",
       "    </tr>\n",
       "    <tr>\n",
       "      <th>27389</th>\n",
       "      <td>Easy, but way too sweet.</td>\n",
       "      <td>2.0</td>\n",
       "      <td>Bad</td>\n",
       "    </tr>\n",
       "    <tr>\n",
       "      <th>27390</th>\n",
       "      <td>Meh</td>\n",
       "      <td>2.0</td>\n",
       "      <td>Bad</td>\n",
       "    </tr>\n",
       "    <tr>\n",
       "      <th>27391</th>\n",
       "      <td>Betty, This One's a Boo-Boo</td>\n",
       "      <td>2.0</td>\n",
       "      <td>Bad</td>\n",
       "    </tr>\n",
       "  </tbody>\n",
       "</table>\n",
       "</div>"
      ],
      "text/plain": [
       "                                                 summary  overall overall2\n",
       "27387                            Not to my taste at all.      2.0      Bad\n",
       "27388  This was unnecessarily complicated to cook - y...      2.0      Bad\n",
       "27389                           Easy, but way too sweet.      2.0      Bad\n",
       "27390                                                Meh      2.0      Bad\n",
       "27391                        Betty, This One's a Boo-Boo      2.0      Bad"
      ]
     },
     "execution_count": 15,
     "metadata": {},
     "output_type": "execute_result"
    }
   ],
   "source": [
    "df_balance.tail()"
   ]
  },
  {
   "cell_type": "code",
   "execution_count": 16,
   "metadata": {},
   "outputs": [
    {
     "data": {
      "text/plain": [
       "(27392, 3)"
      ]
     },
     "execution_count": 16,
     "metadata": {},
     "output_type": "execute_result"
    }
   ],
   "source": [
    "df_balance.shape"
   ]
  },
  {
   "cell_type": "markdown",
   "metadata": {},
   "source": [
    "## Clean Summary Text"
   ]
  },
  {
   "cell_type": "markdown",
   "metadata": {},
   "source": [
    "Seperti yang kita lihat ketika membuat plot kata-kata yang sering muncul dari summary. Kategori Bad masih memiliki kata-kata yang seharusnya tidak terdapat di dalam kategori tersebut. Beberapa kata yang secara logika seharusnya tidak terdapat di dalam kategori tersebut adalah:\n",
    "\n",
    "1. Good\n",
    "2. Great\n",
    "3. Like\n",
    "4. Taste\n",
    "5. Flavor\n",
    "\n",
    "Kita akan melihat lebih jauh kata-kata ini pad data dengan kategori Bad, apa yang sebenarnya maksud dari kata tersebut di dalam kategori tersebut."
   ]
  },
  {
   "cell_type": "code",
   "execution_count": 17,
   "metadata": {},
   "outputs": [
    {
     "data": {
      "text/html": [
       "<div>\n",
       "<style scoped>\n",
       "    .dataframe tbody tr th:only-of-type {\n",
       "        vertical-align: middle;\n",
       "    }\n",
       "\n",
       "    .dataframe tbody tr th {\n",
       "        vertical-align: top;\n",
       "    }\n",
       "\n",
       "    .dataframe thead th {\n",
       "        text-align: right;\n",
       "    }\n",
       "</style>\n",
       "<table border=\"1\" class=\"dataframe\">\n",
       "  <thead>\n",
       "    <tr style=\"text-align: right;\">\n",
       "      <th></th>\n",
       "      <th>summary</th>\n",
       "      <th>overall</th>\n",
       "      <th>overall2</th>\n",
       "    </tr>\n",
       "  </thead>\n",
       "  <tbody>\n",
       "    <tr>\n",
       "      <th>13704</th>\n",
       "      <td>Not good</td>\n",
       "      <td>1.0</td>\n",
       "      <td>Bad</td>\n",
       "    </tr>\n",
       "    <tr>\n",
       "      <th>13750</th>\n",
       "      <td>Good</td>\n",
       "      <td>1.0</td>\n",
       "      <td>Bad</td>\n",
       "    </tr>\n",
       "    <tr>\n",
       "      <th>13754</th>\n",
       "      <td>Product Ok but overpriced and packaging not good.</td>\n",
       "      <td>1.0</td>\n",
       "      <td>Bad</td>\n",
       "    </tr>\n",
       "    <tr>\n",
       "      <th>13782</th>\n",
       "      <td>Not good</td>\n",
       "      <td>1.0</td>\n",
       "      <td>Bad</td>\n",
       "    </tr>\n",
       "    <tr>\n",
       "      <th>13816</th>\n",
       "      <td>Not green, not good</td>\n",
       "      <td>1.0</td>\n",
       "      <td>Bad</td>\n",
       "    </tr>\n",
       "    <tr>\n",
       "      <th>13821</th>\n",
       "      <td>Product is good but Seller stinks</td>\n",
       "      <td>2.0</td>\n",
       "      <td>Bad</td>\n",
       "    </tr>\n",
       "    <tr>\n",
       "      <th>13824</th>\n",
       "      <td>Not Very Good</td>\n",
       "      <td>2.0</td>\n",
       "      <td>Bad</td>\n",
       "    </tr>\n",
       "    <tr>\n",
       "      <th>13829</th>\n",
       "      <td>Doesn't Taste Good</td>\n",
       "      <td>2.0</td>\n",
       "      <td>Bad</td>\n",
       "    </tr>\n",
       "    <tr>\n",
       "      <th>13845</th>\n",
       "      <td>Not so good....</td>\n",
       "      <td>1.0</td>\n",
       "      <td>Bad</td>\n",
       "    </tr>\n",
       "    <tr>\n",
       "      <th>13889</th>\n",
       "      <td>After branching out and trying other brands, i...</td>\n",
       "      <td>1.0</td>\n",
       "      <td>Bad</td>\n",
       "    </tr>\n",
       "    <tr>\n",
       "      <th>13893</th>\n",
       "      <td>Not good for making paste for indian curries</td>\n",
       "      <td>2.0</td>\n",
       "      <td>Bad</td>\n",
       "    </tr>\n",
       "    <tr>\n",
       "      <th>13906</th>\n",
       "      <td>Good for you but tastes awful</td>\n",
       "      <td>2.0</td>\n",
       "      <td>Bad</td>\n",
       "    </tr>\n",
       "    <tr>\n",
       "      <th>13918</th>\n",
       "      <td>good sugar but...</td>\n",
       "      <td>1.0</td>\n",
       "      <td>Bad</td>\n",
       "    </tr>\n",
       "    <tr>\n",
       "      <th>13962</th>\n",
       "      <td>Not so good.</td>\n",
       "      <td>2.0</td>\n",
       "      <td>Bad</td>\n",
       "    </tr>\n",
       "    <tr>\n",
       "      <th>13979</th>\n",
       "      <td>Kashmir Spinach isn't good, but other Tasty Bi...</td>\n",
       "      <td>2.0</td>\n",
       "      <td>Bad</td>\n",
       "    </tr>\n",
       "    <tr>\n",
       "      <th>13988</th>\n",
       "      <td>just not good</td>\n",
       "      <td>1.0</td>\n",
       "      <td>Bad</td>\n",
       "    </tr>\n",
       "    <tr>\n",
       "      <th>14014</th>\n",
       "      <td>Not very good.</td>\n",
       "      <td>2.0</td>\n",
       "      <td>Bad</td>\n",
       "    </tr>\n",
       "    <tr>\n",
       "      <th>14018</th>\n",
       "      <td>Not bad, but not good either</td>\n",
       "      <td>2.0</td>\n",
       "      <td>Bad</td>\n",
       "    </tr>\n",
       "    <tr>\n",
       "      <th>14040</th>\n",
       "      <td>Not good for those who actually like the taste...</td>\n",
       "      <td>2.0</td>\n",
       "      <td>Bad</td>\n",
       "    </tr>\n",
       "    <tr>\n",
       "      <th>14048</th>\n",
       "      <td>NO GOOD!!!!</td>\n",
       "      <td>1.0</td>\n",
       "      <td>Bad</td>\n",
       "    </tr>\n",
       "    <tr>\n",
       "      <th>14077</th>\n",
       "      <td>Good for what it is</td>\n",
       "      <td>2.0</td>\n",
       "      <td>Bad</td>\n",
       "    </tr>\n",
       "    <tr>\n",
       "      <th>14090</th>\n",
       "      <td>Good idea, yet overpriced</td>\n",
       "      <td>2.0</td>\n",
       "      <td>Bad</td>\n",
       "    </tr>\n",
       "    <tr>\n",
       "      <th>14107</th>\n",
       "      <td>not nearly as good as it used to be</td>\n",
       "      <td>1.0</td>\n",
       "      <td>Bad</td>\n",
       "    </tr>\n",
       "    <tr>\n",
       "      <th>14167</th>\n",
       "      <td>Horrible Flavor but Good Protein</td>\n",
       "      <td>2.0</td>\n",
       "      <td>Bad</td>\n",
       "    </tr>\n",
       "    <tr>\n",
       "      <th>14173</th>\n",
       "      <td>From Good Tea (old style) to Strange Tea (this...</td>\n",
       "      <td>2.0</td>\n",
       "      <td>Bad</td>\n",
       "    </tr>\n",
       "    <tr>\n",
       "      <th>14184</th>\n",
       "      <td>some packs are good and some are bad</td>\n",
       "      <td>2.0</td>\n",
       "      <td>Bad</td>\n",
       "    </tr>\n",
       "    <tr>\n",
       "      <th>14205</th>\n",
       "      <td>Chocolate is not good</td>\n",
       "      <td>2.0</td>\n",
       "      <td>Bad</td>\n",
       "    </tr>\n",
       "    <tr>\n",
       "      <th>14224</th>\n",
       "      <td>Stale and just not good,,</td>\n",
       "      <td>1.0</td>\n",
       "      <td>Bad</td>\n",
       "    </tr>\n",
       "    <tr>\n",
       "      <th>14247</th>\n",
       "      <td>Not near as good as Annie's creamy delux mac &amp;...</td>\n",
       "      <td>2.0</td>\n",
       "      <td>Bad</td>\n",
       "    </tr>\n",
       "    <tr>\n",
       "      <th>14261</th>\n",
       "      <td>Wish It Had Been Good</td>\n",
       "      <td>1.0</td>\n",
       "      <td>Bad</td>\n",
       "    </tr>\n",
       "    <tr>\n",
       "      <th>...</th>\n",
       "      <td>...</td>\n",
       "      <td>...</td>\n",
       "      <td>...</td>\n",
       "    </tr>\n",
       "    <tr>\n",
       "      <th>26933</th>\n",
       "      <td>Cheez Its Good, Packaging Bad</td>\n",
       "      <td>1.0</td>\n",
       "      <td>Bad</td>\n",
       "    </tr>\n",
       "    <tr>\n",
       "      <th>26964</th>\n",
       "      <td>Does not taste good and loaded with corn syrup...</td>\n",
       "      <td>1.0</td>\n",
       "      <td>Bad</td>\n",
       "    </tr>\n",
       "    <tr>\n",
       "      <th>26981</th>\n",
       "      <td>Not very good</td>\n",
       "      <td>2.0</td>\n",
       "      <td>Bad</td>\n",
       "    </tr>\n",
       "    <tr>\n",
       "      <th>26984</th>\n",
       "      <td>Healthier, but it doesn't taste good</td>\n",
       "      <td>2.0</td>\n",
       "      <td>Bad</td>\n",
       "    </tr>\n",
       "    <tr>\n",
       "      <th>27035</th>\n",
       "      <td>There's Good &amp; Bad News</td>\n",
       "      <td>1.0</td>\n",
       "      <td>Bad</td>\n",
       "    </tr>\n",
       "    <tr>\n",
       "      <th>27043</th>\n",
       "      <td>Not Good for the Kitchen</td>\n",
       "      <td>2.0</td>\n",
       "      <td>Bad</td>\n",
       "    </tr>\n",
       "    <tr>\n",
       "      <th>27044</th>\n",
       "      <td>Not as good as sugar</td>\n",
       "      <td>2.0</td>\n",
       "      <td>Bad</td>\n",
       "    </tr>\n",
       "    <tr>\n",
       "      <th>27051</th>\n",
       "      <td>Not as good as Hidden Valley by a long shot</td>\n",
       "      <td>2.0</td>\n",
       "      <td>Bad</td>\n",
       "    </tr>\n",
       "    <tr>\n",
       "      <th>27080</th>\n",
       "      <td>Good, Though The Olive Oil Is A Bit Overwhelming</td>\n",
       "      <td>2.0</td>\n",
       "      <td>Bad</td>\n",
       "    </tr>\n",
       "    <tr>\n",
       "      <th>27107</th>\n",
       "      <td>Good Flavor, But Too Much Residue</td>\n",
       "      <td>2.0</td>\n",
       "      <td>Bad</td>\n",
       "    </tr>\n",
       "    <tr>\n",
       "      <th>27112</th>\n",
       "      <td>A Matter of Taste, but not Good</td>\n",
       "      <td>2.0</td>\n",
       "      <td>Bad</td>\n",
       "    </tr>\n",
       "    <tr>\n",
       "      <th>27140</th>\n",
       "      <td>Good idea, horrible tasting chili seasoning in...</td>\n",
       "      <td>2.0</td>\n",
       "      <td>Bad</td>\n",
       "    </tr>\n",
       "    <tr>\n",
       "      <th>27142</th>\n",
       "      <td>Not Free and Not Good</td>\n",
       "      <td>2.0</td>\n",
       "      <td>Bad</td>\n",
       "    </tr>\n",
       "    <tr>\n",
       "      <th>27153</th>\n",
       "      <td>Hard, not a good consistency</td>\n",
       "      <td>2.0</td>\n",
       "      <td>Bad</td>\n",
       "    </tr>\n",
       "    <tr>\n",
       "      <th>27178</th>\n",
       "      <td>Not as good as the Brothers variety</td>\n",
       "      <td>2.0</td>\n",
       "      <td>Bad</td>\n",
       "    </tr>\n",
       "    <tr>\n",
       "      <th>27182</th>\n",
       "      <td>Not good</td>\n",
       "      <td>1.0</td>\n",
       "      <td>Bad</td>\n",
       "    </tr>\n",
       "    <tr>\n",
       "      <th>27193</th>\n",
       "      <td>BAD TASTE &amp; NOT GOOD FOR YOU</td>\n",
       "      <td>1.0</td>\n",
       "      <td>Bad</td>\n",
       "    </tr>\n",
       "    <tr>\n",
       "      <th>27214</th>\n",
       "      <td>Not good</td>\n",
       "      <td>1.0</td>\n",
       "      <td>Bad</td>\n",
       "    </tr>\n",
       "    <tr>\n",
       "      <th>27241</th>\n",
       "      <td>GOOD REVIEWS DON'T ALWAYS TELL THE TRUE STORY!</td>\n",
       "      <td>1.0</td>\n",
       "      <td>Bad</td>\n",
       "    </tr>\n",
       "    <tr>\n",
       "      <th>27256</th>\n",
       "      <td>Ok flavors but no one in my family thought the...</td>\n",
       "      <td>2.0</td>\n",
       "      <td>Bad</td>\n",
       "    </tr>\n",
       "    <tr>\n",
       "      <th>27260</th>\n",
       "      <td>Good oil for popping, but as a topping no!</td>\n",
       "      <td>2.0</td>\n",
       "      <td>Bad</td>\n",
       "    </tr>\n",
       "    <tr>\n",
       "      <th>27281</th>\n",
       "      <td>One is good</td>\n",
       "      <td>2.0</td>\n",
       "      <td>Bad</td>\n",
       "    </tr>\n",
       "    <tr>\n",
       "      <th>27304</th>\n",
       "      <td>Not very good</td>\n",
       "      <td>2.0</td>\n",
       "      <td>Bad</td>\n",
       "    </tr>\n",
       "    <tr>\n",
       "      <th>27319</th>\n",
       "      <td>Not much coffee flavor at all. SUPER light roa...</td>\n",
       "      <td>2.0</td>\n",
       "      <td>Bad</td>\n",
       "    </tr>\n",
       "    <tr>\n",
       "      <th>27320</th>\n",
       "      <td>It's a novelty item, not a good coffee</td>\n",
       "      <td>2.0</td>\n",
       "      <td>Bad</td>\n",
       "    </tr>\n",
       "    <tr>\n",
       "      <th>27327</th>\n",
       "      <td>LET'S GET WEIRD FLAVOR: Not so good to me</td>\n",
       "      <td>2.0</td>\n",
       "      <td>Bad</td>\n",
       "    </tr>\n",
       "    <tr>\n",
       "      <th>27335</th>\n",
       "      <td>Good idea but so far this isn't for me.</td>\n",
       "      <td>2.0</td>\n",
       "      <td>Bad</td>\n",
       "    </tr>\n",
       "    <tr>\n",
       "      <th>27359</th>\n",
       "      <td>No weight lost, not a a good cup of coffee</td>\n",
       "      <td>2.0</td>\n",
       "      <td>Bad</td>\n",
       "    </tr>\n",
       "    <tr>\n",
       "      <th>27364</th>\n",
       "      <td>Good idea, execution could be better.</td>\n",
       "      <td>2.0</td>\n",
       "      <td>Bad</td>\n",
       "    </tr>\n",
       "    <tr>\n",
       "      <th>27385</th>\n",
       "      <td>Not a good experience</td>\n",
       "      <td>2.0</td>\n",
       "      <td>Bad</td>\n",
       "    </tr>\n",
       "  </tbody>\n",
       "</table>\n",
       "<p>737 rows × 3 columns</p>\n",
       "</div>"
      ],
      "text/plain": [
       "                                                 summary  overall overall2\n",
       "13704                                           Not good      1.0      Bad\n",
       "13750                                               Good      1.0      Bad\n",
       "13754  Product Ok but overpriced and packaging not good.      1.0      Bad\n",
       "13782                                           Not good      1.0      Bad\n",
       "13816                                Not green, not good      1.0      Bad\n",
       "13821                  Product is good but Seller stinks      2.0      Bad\n",
       "13824                                      Not Very Good      2.0      Bad\n",
       "13829                                 Doesn't Taste Good      2.0      Bad\n",
       "13845                                    Not so good....      1.0      Bad\n",
       "13889  After branching out and trying other brands, i...      1.0      Bad\n",
       "13893       Not good for making paste for indian curries      2.0      Bad\n",
       "13906                      Good for you but tastes awful      2.0      Bad\n",
       "13918                                  good sugar but...      1.0      Bad\n",
       "13962                                       Not so good.      2.0      Bad\n",
       "13979  Kashmir Spinach isn't good, but other Tasty Bi...      2.0      Bad\n",
       "13988                                      just not good      1.0      Bad\n",
       "14014                                     Not very good.      2.0      Bad\n",
       "14018                       Not bad, but not good either      2.0      Bad\n",
       "14040  Not good for those who actually like the taste...      2.0      Bad\n",
       "14048                                        NO GOOD!!!!      1.0      Bad\n",
       "14077                                Good for what it is      2.0      Bad\n",
       "14090                          Good idea, yet overpriced      2.0      Bad\n",
       "14107                not nearly as good as it used to be      1.0      Bad\n",
       "14167                   Horrible Flavor but Good Protein      2.0      Bad\n",
       "14173  From Good Tea (old style) to Strange Tea (this...      2.0      Bad\n",
       "14184               some packs are good and some are bad      2.0      Bad\n",
       "14205                              Chocolate is not good      2.0      Bad\n",
       "14224                          Stale and just not good,,      1.0      Bad\n",
       "14247  Not near as good as Annie's creamy delux mac &...      2.0      Bad\n",
       "14261                              Wish It Had Been Good      1.0      Bad\n",
       "...                                                  ...      ...      ...\n",
       "26933                      Cheez Its Good, Packaging Bad      1.0      Bad\n",
       "26964  Does not taste good and loaded with corn syrup...      1.0      Bad\n",
       "26981                                      Not very good      2.0      Bad\n",
       "26984               Healthier, but it doesn't taste good      2.0      Bad\n",
       "27035                            There's Good & Bad News      1.0      Bad\n",
       "27043                           Not Good for the Kitchen      2.0      Bad\n",
       "27044                               Not as good as sugar      2.0      Bad\n",
       "27051        Not as good as Hidden Valley by a long shot      2.0      Bad\n",
       "27080   Good, Though The Olive Oil Is A Bit Overwhelming      2.0      Bad\n",
       "27107                  Good Flavor, But Too Much Residue      2.0      Bad\n",
       "27112                    A Matter of Taste, but not Good      2.0      Bad\n",
       "27140  Good idea, horrible tasting chili seasoning in...      2.0      Bad\n",
       "27142                              Not Free and Not Good      2.0      Bad\n",
       "27153                       Hard, not a good consistency      2.0      Bad\n",
       "27178                Not as good as the Brothers variety      2.0      Bad\n",
       "27182                                           Not good      1.0      Bad\n",
       "27193                       BAD TASTE & NOT GOOD FOR YOU      1.0      Bad\n",
       "27214                                           Not good      1.0      Bad\n",
       "27241     GOOD REVIEWS DON'T ALWAYS TELL THE TRUE STORY!      1.0      Bad\n",
       "27256  Ok flavors but no one in my family thought the...      2.0      Bad\n",
       "27260         Good oil for popping, but as a topping no!      2.0      Bad\n",
       "27281                                        One is good      2.0      Bad\n",
       "27304                                      Not very good      2.0      Bad\n",
       "27319  Not much coffee flavor at all. SUPER light roa...      2.0      Bad\n",
       "27320             It's a novelty item, not a good coffee      2.0      Bad\n",
       "27327          LET'S GET WEIRD FLAVOR: Not so good to me      2.0      Bad\n",
       "27335            Good idea but so far this isn't for me.      2.0      Bad\n",
       "27359         No weight lost, not a a good cup of coffee      2.0      Bad\n",
       "27364              Good idea, execution could be better.      2.0      Bad\n",
       "27385                              Not a good experience      2.0      Bad\n",
       "\n",
       "[737 rows x 3 columns]"
      ]
     },
     "execution_count": 17,
     "metadata": {},
     "output_type": "execute_result"
    }
   ],
   "source": [
    "hasil_bad = []\n",
    "for element in df_balance[df_balance['overall2'] == 'Bad']['summary']:\n",
    "    hasil_bad.append(\"good\" in element.lower())\n",
    "df_balance[df_balance['overall2'] == 'Bad'].loc[hasil_bad]"
   ]
  },
  {
   "cell_type": "markdown",
   "metadata": {},
   "source": [
    "Kata-kata good dalam kategori Bad kebanyakan adalah not good, not so good, not that good, dll. Kata-kata ini akan diubah menjadi bad, agar model yang dibuat akan menjadi lebih baik."
   ]
  },
  {
   "cell_type": "code",
   "execution_count": 18,
   "metadata": {},
   "outputs": [],
   "source": [
    "#Mengubah seluruh teks menjadi lower\n",
    "df_balance['summary_lower'] = df_balance['summary'].apply(lambda ser: ser.lower())"
   ]
  },
  {
   "cell_type": "code",
   "execution_count": 19,
   "metadata": {},
   "outputs": [],
   "source": [
    "import re"
   ]
  },
  {
   "cell_type": "code",
   "execution_count": 20,
   "metadata": {},
   "outputs": [],
   "source": [
    "words_not_good_great = [\"not good\", \n",
    "\"not so good\", \n",
    "\"not a good\", \n",
    "\"not that good\",\n",
    "\"not as good as\",\n",
    "\"no good\",\n",
    "\"not very good\",\n",
    "\"doesn't taste good\",\n",
    "\"not taste good\",\n",
    "\"not nearly as good as\",\n",
    "\"isn't good\",\n",
    "\"aren't good\",\n",
    "\"not great\", \n",
    "\"not so great\", \n",
    "\"not a great\", \n",
    "\"not that great\",\n",
    "\"not as great as\",\n",
    "\"no great\",\n",
    "\"not very great\",\n",
    "\"doesn't taste great\",\n",
    "\"not taste great\",\n",
    "\"not nearly as great as\",\n",
    "\"isn't great\",\n",
    "\"aren't great\"]\n",
    "\n",
    "def change_word_good_great(ser):\n",
    "    for word in words_not_good_great:\n",
    "        ser = ser.replace(word, 'bad')\n",
    "    return ser"
   ]
  },
  {
   "cell_type": "code",
   "execution_count": 21,
   "metadata": {},
   "outputs": [
    {
     "data": {
      "text/plain": [
       "'elga bad'"
      ]
     },
     "execution_count": 21,
     "metadata": {},
     "output_type": "execute_result"
    }
   ],
   "source": [
    "'elga not good'.replace('not good', 'bad')"
   ]
  },
  {
   "cell_type": "code",
   "execution_count": 22,
   "metadata": {},
   "outputs": [],
   "source": [
    "df_balance['summary_lower_change'] = df_balance['summary_lower'].apply(change_word_good_great)"
   ]
  },
  {
   "cell_type": "markdown",
   "metadata": {},
   "source": [
    "Dengan cara yang sama dengan apa yang dilakukan dengan kata good, kita akan melakukan hal tersebut terhadap kata flavor, taste, dan like. "
   ]
  },
  {
   "cell_type": "code",
   "execution_count": 23,
   "metadata": {},
   "outputs": [],
   "source": [
    "flavor_words = ['no flavor',\n",
    "'weird flavor',\n",
    "'flavorless',\n",
    "'strange flavor',\n",
    "'lack flavor',\n",
    "'lacking in flavor',\n",
    "'not much flavor',\n",
    "'weak flavor',\n",
    "'odd flavor']\n",
    "\n",
    "def change_word_flavor(ser):\n",
    "    for word in flavor_words:\n",
    "        ser = ser.replace(word, 'flavor_problem')\n",
    "    return ser"
   ]
  },
  {
   "cell_type": "code",
   "execution_count": 24,
   "metadata": {},
   "outputs": [],
   "source": [
    "df_balance['summary_lower_change'] = df_balance['summary_lower_change'].apply(change_word_flavor)"
   ]
  },
  {
   "cell_type": "code",
   "execution_count": 25,
   "metadata": {},
   "outputs": [],
   "source": [
    "taste_words = [\"doesn't taste\",\n",
    "\"does not taste\",\n",
    "\"no taste\",\n",
    "'tasteless']\n",
    "\n",
    "def change_word_taste(ser):\n",
    "    for word in taste_words:\n",
    "        ser = ser.replace(word, 'taste_problem')\n",
    "    return ser\n",
    "\n",
    "def change_question_mark(ser):\n",
    "    return ser.replace('?', 'questionmark', 1)"
   ]
  },
  {
   "cell_type": "code",
   "execution_count": 26,
   "metadata": {},
   "outputs": [],
   "source": [
    "df_balance['summary_lower_change'] = df_balance['summary_lower_change'].apply(change_word_taste)"
   ]
  },
  {
   "cell_type": "code",
   "execution_count": 27,
   "metadata": {},
   "outputs": [],
   "source": [
    "df_balance['summary_lower_change'] = df_balance['summary_lower_change'].apply(change_question_mark)"
   ]
  },
  {
   "cell_type": "code",
   "execution_count": 28,
   "metadata": {},
   "outputs": [],
   "source": [
    "like_words = [\n",
    "    \"didn't like\",\n",
    "    'not like',\n",
    "    \"don't like\"\n",
    "]\n",
    "\n",
    "def change_word_like(ser):\n",
    "    for word in like_words:\n",
    "        ser = ser.replace(word, 'hate')\n",
    "    return ser"
   ]
  },
  {
   "cell_type": "code",
   "execution_count": 29,
   "metadata": {},
   "outputs": [],
   "source": [
    "df_balance['summary_lower_change'] = df_balance['summary_lower_change'].apply(change_word_like)"
   ]
  },
  {
   "cell_type": "markdown",
   "metadata": {},
   "source": [
    "Kita akan mengubah tanda tanya pada summary menjadi questionmark. Hal ini dilakukan karena pada kategori Bad lebih banyak ditemukan summary dengan tanda tanya."
   ]
  },
  {
   "cell_type": "code",
   "execution_count": 30,
   "metadata": {},
   "outputs": [],
   "source": [
    "def change_question_mark(ser):\n",
    "    ser = ser.replace('?', ' questionmark', 1)\n",
    "    return ser"
   ]
  },
  {
   "cell_type": "markdown",
   "metadata": {},
   "source": [
    "## Clean Summary Part 2\n",
    "\n",
    "Summary yang kata-kata nya telah diubah dalam part pertama kemudian akan dibersihkan lebih lanjut dengan beberapa proses. Proses tersebut diantaranya adalah menghilangkan karakter lain selain huruf alfabet, menghilangkan stopword, dan membuat seluruh huruf menjadi huruf kecil."
   ]
  },
  {
   "cell_type": "code",
   "execution_count": 31,
   "metadata": {},
   "outputs": [],
   "source": [
    "import nltk\n",
    "from nltk.corpus import stopwords\n",
    "from nltk.tokenize import word_tokenize "
   ]
  },
  {
   "cell_type": "code",
   "execution_count": 32,
   "metadata": {},
   "outputs": [],
   "source": [
    "stopwords_normal = stopwords.words('english')"
   ]
  },
  {
   "cell_type": "code",
   "execution_count": 33,
   "metadata": {},
   "outputs": [],
   "source": [
    "def clean_summary(text):\n",
    "    letter_text = re.sub('[^a-zA-Z]', ' ', text)\n",
    "    letter_text = letter_text.lower()\n",
    "    list_text = word_tokenize(letter_text)\n",
    "    text_without_stopwords = [word for word in list_text if word not in stopwords_normal]\n",
    "    return ' '.join(text_without_stopwords)"
   ]
  },
  {
   "cell_type": "code",
   "execution_count": 34,
   "metadata": {},
   "outputs": [],
   "source": [
    "df_balance['clean_summary'] = df_balance['summary_lower_change'].apply(clean_summary)"
   ]
  },
  {
   "cell_type": "code",
   "execution_count": 35,
   "metadata": {},
   "outputs": [
    {
     "data": {
      "text/html": [
       "<div>\n",
       "<style scoped>\n",
       "    .dataframe tbody tr th:only-of-type {\n",
       "        vertical-align: middle;\n",
       "    }\n",
       "\n",
       "    .dataframe tbody tr th {\n",
       "        vertical-align: top;\n",
       "    }\n",
       "\n",
       "    .dataframe thead th {\n",
       "        text-align: right;\n",
       "    }\n",
       "</style>\n",
       "<table border=\"1\" class=\"dataframe\">\n",
       "  <thead>\n",
       "    <tr style=\"text-align: right;\">\n",
       "      <th></th>\n",
       "      <th>summary</th>\n",
       "      <th>overall</th>\n",
       "      <th>overall2</th>\n",
       "      <th>summary_lower</th>\n",
       "      <th>summary_lower_change</th>\n",
       "      <th>clean_summary</th>\n",
       "    </tr>\n",
       "  </thead>\n",
       "  <tbody>\n",
       "    <tr>\n",
       "      <th>0</th>\n",
       "      <td>Pretty Good in The Morning</td>\n",
       "      <td>4.0</td>\n",
       "      <td>Great</td>\n",
       "      <td>pretty good in the morning</td>\n",
       "      <td>pretty good in the morning</td>\n",
       "      <td>pretty good morning</td>\n",
       "    </tr>\n",
       "    <tr>\n",
       "      <th>1</th>\n",
       "      <td>All I Could Want in A Taco Shell...</td>\n",
       "      <td>5.0</td>\n",
       "      <td>Great</td>\n",
       "      <td>all i could want in a taco shell...</td>\n",
       "      <td>all i could want in a taco shell...</td>\n",
       "      <td>could want taco shell</td>\n",
       "    </tr>\n",
       "    <tr>\n",
       "      <th>2</th>\n",
       "      <td>Delicious!</td>\n",
       "      <td>4.0</td>\n",
       "      <td>Great</td>\n",
       "      <td>delicious!</td>\n",
       "      <td>delicious!</td>\n",
       "      <td>delicious</td>\n",
       "    </tr>\n",
       "    <tr>\n",
       "      <th>3</th>\n",
       "      <td>Smooooth!!!!</td>\n",
       "      <td>5.0</td>\n",
       "      <td>Great</td>\n",
       "      <td>smooooth!!!!</td>\n",
       "      <td>smooooth!!!!</td>\n",
       "      <td>smooooth</td>\n",
       "    </tr>\n",
       "    <tr>\n",
       "      <th>4</th>\n",
       "      <td>Deliciously Authentic Bold Salsa Flavor</td>\n",
       "      <td>5.0</td>\n",
       "      <td>Great</td>\n",
       "      <td>deliciously authentic bold salsa flavor</td>\n",
       "      <td>deliciously authentic bold salsa flavor</td>\n",
       "      <td>deliciously authentic bold salsa flavor</td>\n",
       "    </tr>\n",
       "  </tbody>\n",
       "</table>\n",
       "</div>"
      ],
      "text/plain": [
       "                                   summary  overall overall2  \\\n",
       "0               Pretty Good in The Morning      4.0    Great   \n",
       "1      All I Could Want in A Taco Shell...      5.0    Great   \n",
       "2                               Delicious!      4.0    Great   \n",
       "3                             Smooooth!!!!      5.0    Great   \n",
       "4  Deliciously Authentic Bold Salsa Flavor      5.0    Great   \n",
       "\n",
       "                             summary_lower  \\\n",
       "0               pretty good in the morning   \n",
       "1      all i could want in a taco shell...   \n",
       "2                               delicious!   \n",
       "3                             smooooth!!!!   \n",
       "4  deliciously authentic bold salsa flavor   \n",
       "\n",
       "                      summary_lower_change  \\\n",
       "0               pretty good in the morning   \n",
       "1      all i could want in a taco shell...   \n",
       "2                               delicious!   \n",
       "3                             smooooth!!!!   \n",
       "4  deliciously authentic bold salsa flavor   \n",
       "\n",
       "                             clean_summary  \n",
       "0                      pretty good morning  \n",
       "1                    could want taco shell  \n",
       "2                                delicious  \n",
       "3                                 smooooth  \n",
       "4  deliciously authentic bold salsa flavor  "
      ]
     },
     "execution_count": 35,
     "metadata": {},
     "output_type": "execute_result"
    }
   ],
   "source": [
    "df_balance.head()"
   ]
  },
  {
   "cell_type": "markdown",
   "metadata": {},
   "source": [
    "kolom clean_summary sudah berisi teks yang siap untuk dijadikan sebagai data untuk memprediksi apakah suatu teks merupakan sentimen yang baik (Great) atau sentimen yang buruk (Bad)"
   ]
  },
  {
   "cell_type": "markdown",
   "metadata": {},
   "source": [
    "## Modelling\n",
    "\n",
    "Model yang dibuat untuk sentiment analysis ini diantaranya adalah:\n",
    "1. Random Forest\n",
    "2. Logistic Regression\n",
    "3. K Nearest Neighbors\n",
    "4. Multinomial Naïve Bayes"
   ]
  },
  {
   "cell_type": "code",
   "execution_count": 36,
   "metadata": {},
   "outputs": [],
   "source": [
    "from sklearn.ensemble import RandomForestClassifier\n",
    "from sklearn.linear_model import LogisticRegression\n",
    "from sklearn.neighbors import KNeighborsClassifier\n",
    "from sklearn.naive_bayes import MultinomialNB\n",
    "from sklearn.pipeline import Pipeline\n",
    "from sklearn.feature_extraction.text import CountVectorizer, TfidfTransformer\n",
    "from sklearn.model_selection import cross_val_score, cross_val_predict"
   ]
  },
  {
   "cell_type": "code",
   "execution_count": 37,
   "metadata": {},
   "outputs": [],
   "source": [
    "import warnings\n",
    "warnings.filterwarnings(\"ignore\")"
   ]
  },
  {
   "cell_type": "code",
   "execution_count": 38,
   "metadata": {},
   "outputs": [
    {
     "name": "stdout",
     "output_type": "stream",
     "text": [
      "Score RandomForestClassifier : 0.810491994262955\n",
      "Score KNeighborsClassifier : 0.750510149131179\n",
      "Score LogisticRegression : 0.8265909103026878\n",
      "Score MultinomialNB : 0.8227933704072982\n"
     ]
    }
   ],
   "source": [
    "list_model = ['RandomForestClassifier', 'KNeighborsClassifier', 'LogisticRegression', 'MultinomialNB']\n",
    "i = 0\n",
    "for model in [RandomForestClassifier, KNeighborsClassifier, LogisticRegression, MultinomialNB]:\n",
    "    pipe = Pipeline([\n",
    "        ('count_vec', CountVectorizer()),\n",
    "        ('tf_idf', TfidfTransformer()),\n",
    "        ('model', model())\n",
    "    ])   \n",
    "    print(f'Score {list_model[i]} : {cross_val_score(pipe, df_balance[\"clean_summary\"], df_balance[\"overall2\"], cv=10).mean()}')\n",
    "    i += 1"
   ]
  },
  {
   "cell_type": "markdown",
   "metadata": {},
   "source": [
    "Score Accuracy dari 10-fold cross validation paling tinggi adalah Logistic Regression dan Multinomial Naive Bayes dengan masing-masing accuracy 82,8% dan 82,4%. Kita dapat menggunakan dua-duanya, karena perbedaanya sangat tidak terlalu besar. Kita akan menggunakan Logistic Regression untuk membuat model kita."
   ]
  },
  {
   "cell_type": "code",
   "execution_count": 39,
   "metadata": {},
   "outputs": [],
   "source": [
    "pipe = Pipeline([\n",
    "        ('count_vec', CountVectorizer()),\n",
    "        ('tf_idf', TfidfTransformer()),\n",
    "        ('model', LogisticRegression())])"
   ]
  },
  {
   "cell_type": "code",
   "execution_count": 40,
   "metadata": {},
   "outputs": [],
   "source": [
    "X = df_balance['clean_summary']\n",
    "y = df_balance['overall2']"
   ]
  },
  {
   "cell_type": "code",
   "execution_count": 41,
   "metadata": {},
   "outputs": [],
   "source": [
    "from sklearn.model_selection import train_test_split"
   ]
  },
  {
   "cell_type": "code",
   "execution_count": 42,
   "metadata": {},
   "outputs": [],
   "source": [
    "X_train, X_test, y_train, y_test = train_test_split(X, y, test_size=0.3, stratify=y, random_state=101)"
   ]
  },
  {
   "cell_type": "code",
   "execution_count": 43,
   "metadata": {},
   "outputs": [
    {
     "data": {
      "text/plain": [
       "Pipeline(memory=None,\n",
       "         steps=[('count_vec',\n",
       "                 CountVectorizer(analyzer='word', binary=False,\n",
       "                                 decode_error='strict',\n",
       "                                 dtype=<class 'numpy.int64'>, encoding='utf-8',\n",
       "                                 input='content', lowercase=True, max_df=1.0,\n",
       "                                 max_features=None, min_df=1,\n",
       "                                 ngram_range=(1, 1), preprocessor=None,\n",
       "                                 stop_words=None, strip_accents=None,\n",
       "                                 token_pattern='(?u)\\\\b\\\\w\\\\w+\\\\b',\n",
       "                                 tokenizer=None, vocabular...)),\n",
       "                ('tf_idf',\n",
       "                 TfidfTransformer(norm='l2', smooth_idf=True,\n",
       "                                  sublinear_tf=False, use_idf=True)),\n",
       "                ('model',\n",
       "                 LogisticRegression(C=1.0, class_weight=None, dual=False,\n",
       "                                    fit_intercept=True, intercept_scaling=1,\n",
       "                                    l1_ratio=None, max_iter=100,\n",
       "                                    multi_class='warn', n_jobs=None,\n",
       "                                    penalty='l2', random_state=None,\n",
       "                                    solver='warn', tol=0.0001, verbose=0,\n",
       "                                    warm_start=False))],\n",
       "         verbose=False)"
      ]
     },
     "execution_count": 43,
     "metadata": {},
     "output_type": "execute_result"
    }
   ],
   "source": [
    "pipe.fit(X_train, y_train)"
   ]
  },
  {
   "cell_type": "code",
   "execution_count": 44,
   "metadata": {},
   "outputs": [],
   "source": [
    "y_predict = pipe.predict(X_test)"
   ]
  },
  {
   "cell_type": "code",
   "execution_count": 45,
   "metadata": {},
   "outputs": [],
   "source": [
    "from sklearn.metrics import classification_report, confusion_matrix"
   ]
  },
  {
   "cell_type": "code",
   "execution_count": 46,
   "metadata": {},
   "outputs": [
    {
     "data": {
      "text/plain": [
       "array([[3538,  571],\n",
       "       [ 780, 3329]], dtype=int64)"
      ]
     },
     "execution_count": 46,
     "metadata": {},
     "output_type": "execute_result"
    }
   ],
   "source": [
    "confusion_matrix(y_test, y_predict)"
   ]
  },
  {
   "cell_type": "code",
   "execution_count": 47,
   "metadata": {},
   "outputs": [
    {
     "name": "stdout",
     "output_type": "stream",
     "text": [
      "              precision    recall  f1-score   support\n",
      "\n",
      "         Bad       0.82      0.86      0.84      4109\n",
      "       Great       0.85      0.81      0.83      4109\n",
      "\n",
      "    accuracy                           0.84      8218\n",
      "   macro avg       0.84      0.84      0.84      8218\n",
      "weighted avg       0.84      0.84      0.84      8218\n",
      "\n"
     ]
    }
   ],
   "source": [
    "print(classification_report(y_test, y_predict))"
   ]
  },
  {
   "cell_type": "markdown",
   "metadata": {},
   "source": [
    "**Hyperparameter Tuning**\n",
    "\n",
    "Kita akan mencoba melakukan tuning hyperparameter terhadap model Logistic Regression untuk mengetahui apakah bisa mendapatkan model yang lebih baik dengan menggunakan Grid Search CV."
   ]
  },
  {
   "cell_type": "code",
   "execution_count": 48,
   "metadata": {},
   "outputs": [],
   "source": [
    "from sklearn.model_selection import GridSearchCV"
   ]
  },
  {
   "cell_type": "code",
   "execution_count": 49,
   "metadata": {},
   "outputs": [],
   "source": [
    "param = {'penalty':['l1', 'l2'], 'C':np.logspace(-4, 4, 20)}"
   ]
  },
  {
   "cell_type": "code",
   "execution_count": 50,
   "metadata": {},
   "outputs": [],
   "source": [
    "grid = GridSearchCV(LogisticRegression(), param, cv=3, n_jobs=-1)"
   ]
  },
  {
   "cell_type": "code",
   "execution_count": 51,
   "metadata": {},
   "outputs": [],
   "source": [
    "count_vec_transformer = CountVectorizer().fit(X_train)\n",
    "count_vec_result = count_vec_transformer.transform(X_train)\n",
    "tfidf_transformer = TfidfTransformer().fit(count_vec_result)\n",
    "tfidf_result = tfidf_transformer.transform(count_vec_result)"
   ]
  },
  {
   "cell_type": "code",
   "execution_count": 52,
   "metadata": {},
   "outputs": [
    {
     "data": {
      "text/plain": [
       "GridSearchCV(cv=3, error_score='raise-deprecating',\n",
       "             estimator=LogisticRegression(C=1.0, class_weight=None, dual=False,\n",
       "                                          fit_intercept=True,\n",
       "                                          intercept_scaling=1, l1_ratio=None,\n",
       "                                          max_iter=100, multi_class='warn',\n",
       "                                          n_jobs=None, penalty='l2',\n",
       "                                          random_state=None, solver='warn',\n",
       "                                          tol=0.0001, verbose=0,\n",
       "                                          warm_start=False),\n",
       "             iid='warn', n_jobs=-1,\n",
       "             param_grid={'C': array([1.00000000e...3,\n",
       "       4.83293024e-03, 1.27427499e-02, 3.35981829e-02, 8.85866790e-02,\n",
       "       2.33572147e-01, 6.15848211e-01, 1.62377674e+00, 4.28133240e+00,\n",
       "       1.12883789e+01, 2.97635144e+01, 7.84759970e+01, 2.06913808e+02,\n",
       "       5.45559478e+02, 1.43844989e+03, 3.79269019e+03, 1.00000000e+04]),\n",
       "                         'penalty': ['l1', 'l2']},\n",
       "             pre_dispatch='2*n_jobs', refit=True, return_train_score=False,\n",
       "             scoring=None, verbose=0)"
      ]
     },
     "execution_count": 52,
     "metadata": {},
     "output_type": "execute_result"
    }
   ],
   "source": [
    "grid.fit(tfidf_result, y_train)"
   ]
  },
  {
   "cell_type": "code",
   "execution_count": 53,
   "metadata": {},
   "outputs": [
    {
     "data": {
      "text/plain": [
       "{'C': 4.281332398719396, 'penalty': 'l2'}"
      ]
     },
     "execution_count": 53,
     "metadata": {},
     "output_type": "execute_result"
    }
   ],
   "source": [
    "grid.best_params_"
   ]
  },
  {
   "cell_type": "code",
   "execution_count": 54,
   "metadata": {},
   "outputs": [
    {
     "data": {
      "text/plain": [
       "0.8222593094815897"
      ]
     },
     "execution_count": 54,
     "metadata": {},
     "output_type": "execute_result"
    }
   ],
   "source": [
    "grid.best_score_"
   ]
  },
  {
   "cell_type": "markdown",
   "metadata": {},
   "source": [
    "Penggunaan tuning dengan hyperparameter terhadap model logistic regression tidak menghasilkan score yang lebih baik. Sehingga kita akan menggunakan model dengan default parameter terhadap mdoel logistic regression"
   ]
  },
  {
   "cell_type": "code",
   "execution_count": 55,
   "metadata": {},
   "outputs": [],
   "source": [
    "words_not_good_great = [\"not good\", \n",
    "\"not so good\", \n",
    "\"not a good\", \n",
    "\"not that good\",\n",
    "\"not as good as\",\n",
    "\"no good\",\n",
    "\"not very good\",\n",
    "\"doesn't taste good\",\n",
    "\"not taste good\",\n",
    "\"not nearly as good as\",\n",
    "\"isn't good\",\n",
    "\"aren't good\",\n",
    "\"not great\", \n",
    "\"not so great\", \n",
    "\"not a great\", \n",
    "\"not that great\",\n",
    "\"not as great as\",\n",
    "\"no great\",\n",
    "\"not very great\",\n",
    "\"doesn't taste great\",\n",
    "\"not taste great\",\n",
    "\"not nearly as great as\",\n",
    "\"isn't great\",\n",
    "\"aren't great\"]\n",
    "\n",
    "flavor_words = ['no flavor',\n",
    "'weird flavor',\n",
    "'flavorless',\n",
    "'strange flavor',\n",
    "'lack flavor',\n",
    "'lacking in flavor',\n",
    "'not much flavor',\n",
    "'weak flavor',\n",
    "'odd flavor']\n",
    "\n",
    "taste_words = [\"doesn't taste\",\n",
    "\"does not taste\",\n",
    "\"no taste\",\n",
    "'tasteless']\n",
    "\n",
    "like_words = [\n",
    "    \"didn't like\",\n",
    "    'not like',\n",
    "    \"don't like\"\n",
    "]\n",
    "\n",
    "def change_clean_word(ser):\n",
    "    import nltk\n",
    "    from nltk.corpus import stopwords\n",
    "    from nltk.tokenize import word_tokenize\n",
    "    \n",
    "    stopwords_normal = stopwords.words('english')\n",
    "    \n",
    "    # change\n",
    "    ser = ser.lower()\n",
    "    for word in words_not_good_great:\n",
    "        ser = ser.replace(word, 'bad')\n",
    "    for word in flavor_words:\n",
    "        ser = ser.replace(word, 'flavor_problem')\n",
    "    for word in taste_words:\n",
    "        ser = ser.replace(word, 'taste_problem')\n",
    "    for word in like_words:\n",
    "        ser = ser.replace(word, 'hate')\n",
    "    ser = ser.replace('?', 'questionmark', 1)\n",
    "    \n",
    "    # clean\n",
    "    ser = re.sub('[^a-zA-Z]', ' ', ser)\n",
    "    list_text = word_tokenize(ser)\n",
    "    text_without_stopwords = [word for word in list_text if word not in stopwords_normal]\n",
    "    return ' '.join(text_without_stopwords)"
   ]
  },
  {
   "cell_type": "code",
   "execution_count": 56,
   "metadata": {},
   "outputs": [],
   "source": [
    "ser_to_predict = pd.Series([\"Not good\"]).apply(change_clean_word)"
   ]
  },
  {
   "cell_type": "code",
   "execution_count": 57,
   "metadata": {},
   "outputs": [
    {
     "data": {
      "text/plain": [
       "array([[0.96019307, 0.03980693]])"
      ]
     },
     "execution_count": 57,
     "metadata": {},
     "output_type": "execute_result"
    }
   ],
   "source": [
    "pipe.predict_proba(ser_to_predict)"
   ]
  },
  {
   "cell_type": "code",
   "execution_count": 58,
   "metadata": {},
   "outputs": [
    {
     "data": {
      "text/plain": [
       "array(['Bad'], dtype=object)"
      ]
     },
     "execution_count": 58,
     "metadata": {},
     "output_type": "execute_result"
    }
   ],
   "source": [
    "pipe.predict(ser_to_predict)"
   ]
  },
  {
   "cell_type": "code",
   "execution_count": 59,
   "metadata": {},
   "outputs": [],
   "source": [
    "import pickle"
   ]
  },
  {
   "cell_type": "code",
   "execution_count": 60,
   "metadata": {},
   "outputs": [],
   "source": [
    "pickle.dump(pipe, open('pipe.sav', 'wb'))"
   ]
  }
 ],
 "metadata": {
  "kernelspec": {
   "display_name": "Python 3",
   "language": "python",
   "name": "python3"
  },
  "language_info": {
   "codemirror_mode": {
    "name": "ipython",
    "version": 3
   },
   "file_extension": ".py",
   "mimetype": "text/x-python",
   "name": "python",
   "nbconvert_exporter": "python",
   "pygments_lexer": "ipython3",
   "version": "3.7.3"
  },
  "toc": {
   "base_numbering": 1,
   "nav_menu": {},
   "number_sections": true,
   "sideBar": true,
   "skip_h1_title": false,
   "title_cell": "Table of Contents",
   "title_sidebar": "Contents",
   "toc_cell": false,
   "toc_position": {},
   "toc_section_display": true,
   "toc_window_display": false
  }
 },
 "nbformat": 4,
 "nbformat_minor": 2
}
