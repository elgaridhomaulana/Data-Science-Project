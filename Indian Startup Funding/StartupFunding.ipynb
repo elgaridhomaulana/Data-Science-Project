{
 "cells": [
  {
   "cell_type": "code",
   "execution_count": 1,
   "metadata": {},
   "outputs": [],
   "source": [
    "import pandas as pd\n",
    "df = pd.read_csv('startup_funding.csv')"
   ]
  },
  {
   "cell_type": "code",
   "execution_count": 2,
   "metadata": {},
   "outputs": [
    {
     "name": "stdout",
     "output_type": "stream",
     "text": [
      "<class 'pandas.core.frame.DataFrame'>\n",
      "RangeIndex: 3009 entries, 0 to 3008\n",
      "Data columns (total 10 columns):\n",
      "Sr No                      3009 non-null int64\n",
      "Date ddmmyyyy              3009 non-null object\n",
      "Startup Name               3009 non-null object\n",
      "Industry Vertical          2838 non-null object\n",
      "SubVertical                2073 non-null object\n",
      "City  Location             2829 non-null object\n",
      "Investorsxe2x80x99 Name    2986 non-null object\n",
      "InvestmentnType            3006 non-null object\n",
      "Amount in USD              2049 non-null object\n",
      "Remarks                    419 non-null object\n",
      "dtypes: int64(1), object(9)\n",
      "memory usage: 235.2+ KB\n"
     ]
    }
   ],
   "source": [
    "df.info()"
   ]
  },
  {
   "cell_type": "markdown",
   "metadata": {},
   "source": [
    "### Buat DataFrame yang mendeskripsikan Tiap Tiap kolom dari data Startup Funding"
   ]
  },
  {
   "cell_type": "code",
   "execution_count": 3,
   "metadata": {},
   "outputs": [
    {
     "data": {
      "text/plain": [
       "array([2047, 1014], dtype=int64)"
      ]
     },
     "execution_count": 3,
     "metadata": {},
     "output_type": "execute_result"
    }
   ],
   "source": [
    "df['Sr No'].value_counts().index[:2].values"
   ]
  },
  {
   "cell_type": "code",
   "execution_count": 4,
   "metadata": {},
   "outputs": [],
   "source": [
    "df_overview = pd.DataFrame()\n",
    "df_overview['dataFeatures'] = df.columns\n",
    "\n",
    "tipe_data = []\n",
    "for element in df.dtypes:\n",
    "    tipe_data.append(str(element))\n",
    "df_overview['dataType'] = tipe_data\n",
    "\n",
    "df_overview['null'] = df.isnull().sum()\n",
    "\n",
    "df_overview['nullPct'] = [round(df[element].isnull().sum()/len(df) * 100, 2) for element in df.columns]\n",
    "\n",
    "df_overview['unique'] = df.nunique().values\n",
    "\n",
    "unique = []\n",
    "for element in df.columns:\n",
    "    unique.append(df[element].value_counts().index[:2].values)\n",
    "df_overview['uniqueSample'] = unique"
   ]
  },
  {
   "cell_type": "code",
   "execution_count": 5,
   "metadata": {},
   "outputs": [
    {
     "data": {
      "text/html": [
       "<div>\n",
       "<style scoped>\n",
       "    .dataframe tbody tr th:only-of-type {\n",
       "        vertical-align: middle;\n",
       "    }\n",
       "\n",
       "    .dataframe tbody tr th {\n",
       "        vertical-align: top;\n",
       "    }\n",
       "\n",
       "    .dataframe thead th {\n",
       "        text-align: right;\n",
       "    }\n",
       "</style>\n",
       "<table border=\"1\" class=\"dataframe\">\n",
       "  <thead>\n",
       "    <tr style=\"text-align: right;\">\n",
       "      <th></th>\n",
       "      <th>dataFeatures</th>\n",
       "      <th>dataType</th>\n",
       "      <th>null</th>\n",
       "      <th>nullPct</th>\n",
       "      <th>unique</th>\n",
       "      <th>uniqueSample</th>\n",
       "    </tr>\n",
       "  </thead>\n",
       "  <tbody>\n",
       "    <tr>\n",
       "      <th>0</th>\n",
       "      <td>Sr No</td>\n",
       "      <td>int64</td>\n",
       "      <td>NaN</td>\n",
       "      <td>0.00</td>\n",
       "      <td>3009</td>\n",
       "      <td>[2047, 1014]</td>\n",
       "    </tr>\n",
       "    <tr>\n",
       "      <th>1</th>\n",
       "      <td>Date ddmmyyyy</td>\n",
       "      <td>object</td>\n",
       "      <td>NaN</td>\n",
       "      <td>0.00</td>\n",
       "      <td>1013</td>\n",
       "      <td>[02/02/2015, 08/07/2015]</td>\n",
       "    </tr>\n",
       "    <tr>\n",
       "      <th>2</th>\n",
       "      <td>Startup Name</td>\n",
       "      <td>object</td>\n",
       "      <td>NaN</td>\n",
       "      <td>0.00</td>\n",
       "      <td>2439</td>\n",
       "      <td>[Swiggy, Ola Cabs]</td>\n",
       "    </tr>\n",
       "    <tr>\n",
       "      <th>3</th>\n",
       "      <td>Industry Vertical</td>\n",
       "      <td>object</td>\n",
       "      <td>NaN</td>\n",
       "      <td>5.68</td>\n",
       "      <td>811</td>\n",
       "      <td>[Consumer Internet, Technology]</td>\n",
       "    </tr>\n",
       "    <tr>\n",
       "      <th>4</th>\n",
       "      <td>SubVertical</td>\n",
       "      <td>object</td>\n",
       "      <td>NaN</td>\n",
       "      <td>31.11</td>\n",
       "      <td>1912</td>\n",
       "      <td>[Online Lending Platform, Online Pharmacy]</td>\n",
       "    </tr>\n",
       "    <tr>\n",
       "      <th>5</th>\n",
       "      <td>City  Location</td>\n",
       "      <td>object</td>\n",
       "      <td>NaN</td>\n",
       "      <td>5.98</td>\n",
       "      <td>109</td>\n",
       "      <td>[Bangalore, Mumbai]</td>\n",
       "    </tr>\n",
       "    <tr>\n",
       "      <th>6</th>\n",
       "      <td>Investorsxe2x80x99 Name</td>\n",
       "      <td>object</td>\n",
       "      <td>NaN</td>\n",
       "      <td>0.76</td>\n",
       "      <td>2385</td>\n",
       "      <td>[Undisclosed Investors, Undisclosed investors]</td>\n",
       "    </tr>\n",
       "    <tr>\n",
       "      <th>7</th>\n",
       "      <td>InvestmentnType</td>\n",
       "      <td>object</td>\n",
       "      <td>NaN</td>\n",
       "      <td>0.10</td>\n",
       "      <td>50</td>\n",
       "      <td>[Private Equity, Seed Funding]</td>\n",
       "    </tr>\n",
       "    <tr>\n",
       "      <th>8</th>\n",
       "      <td>Amount in USD</td>\n",
       "      <td>object</td>\n",
       "      <td>NaN</td>\n",
       "      <td>31.90</td>\n",
       "      <td>500</td>\n",
       "      <td>[1,000,000, 500,000]</td>\n",
       "    </tr>\n",
       "    <tr>\n",
       "      <th>9</th>\n",
       "      <td>Remarks</td>\n",
       "      <td>object</td>\n",
       "      <td>NaN</td>\n",
       "      <td>86.08</td>\n",
       "      <td>72</td>\n",
       "      <td>[Series A, Series B]</td>\n",
       "    </tr>\n",
       "  </tbody>\n",
       "</table>\n",
       "</div>"
      ],
      "text/plain": [
       "              dataFeatures dataType  null  nullPct  unique  \\\n",
       "0                    Sr No    int64   NaN     0.00    3009   \n",
       "1            Date ddmmyyyy   object   NaN     0.00    1013   \n",
       "2             Startup Name   object   NaN     0.00    2439   \n",
       "3        Industry Vertical   object   NaN     5.68     811   \n",
       "4              SubVertical   object   NaN    31.11    1912   \n",
       "5           City  Location   object   NaN     5.98     109   \n",
       "6  Investorsxe2x80x99 Name   object   NaN     0.76    2385   \n",
       "7          InvestmentnType   object   NaN     0.10      50   \n",
       "8            Amount in USD   object   NaN    31.90     500   \n",
       "9                  Remarks   object   NaN    86.08      72   \n",
       "\n",
       "                                     uniqueSample  \n",
       "0                                    [2047, 1014]  \n",
       "1                        [02/02/2015, 08/07/2015]  \n",
       "2                              [Swiggy, Ola Cabs]  \n",
       "3                 [Consumer Internet, Technology]  \n",
       "4      [Online Lending Platform, Online Pharmacy]  \n",
       "5                             [Bangalore, Mumbai]  \n",
       "6  [Undisclosed Investors, Undisclosed investors]  \n",
       "7                  [Private Equity, Seed Funding]  \n",
       "8                            [1,000,000, 500,000]  \n",
       "9                            [Series A, Series B]  "
      ]
     },
     "execution_count": 5,
     "metadata": {},
     "output_type": "execute_result"
    }
   ],
   "source": [
    "df_overview"
   ]
  },
  {
   "cell_type": "markdown",
   "metadata": {},
   "source": [
    "### Hapus Kolom Remarks"
   ]
  },
  {
   "cell_type": "code",
   "execution_count": 6,
   "metadata": {},
   "outputs": [],
   "source": [
    "df = df.drop('Remarks',axis=1)"
   ]
  },
  {
   "cell_type": "markdown",
   "metadata": {},
   "source": [
    "### Hapus data yang kolom Industry Vertical dan Subverticalnya Kosong"
   ]
  },
  {
   "cell_type": "code",
   "execution_count": 7,
   "metadata": {},
   "outputs": [],
   "source": [
    "idx_to_drop = df[(df['Industry Vertical'].isnull()) & (df['SubVertical'].isnull())].index"
   ]
  },
  {
   "cell_type": "code",
   "execution_count": 8,
   "metadata": {},
   "outputs": [],
   "source": [
    "df.drop(idx_to_drop, inplace=True)"
   ]
  },
  {
   "cell_type": "markdown",
   "metadata": {},
   "source": [
    "### Hapus data yang Investorsxe2x80x99 Name atau InvestmentnType kosong atau City Location nya Kosong atau amount in usd nya kosong"
   ]
  },
  {
   "cell_type": "code",
   "execution_count": 9,
   "metadata": {},
   "outputs": [],
   "source": [
    "df.dropna(subset=['Investorsxe2x80x99 Name', 'InvestmentnType', 'City  Location', 'Amount in USD'], inplace=True)"
   ]
  },
  {
   "cell_type": "markdown",
   "metadata": {},
   "source": [
    "### Ubah Nama Kolom Investorsxe2x80x99 Name menjadi Investor"
   ]
  },
  {
   "cell_type": "code",
   "execution_count": 10,
   "metadata": {},
   "outputs": [],
   "source": [
    "df.rename({\n",
    "    'Investorsxe2x80x99 Name' : 'Investor'\n",
    "}, axis=1, inplace=True)"
   ]
  },
  {
   "cell_type": "markdown",
   "metadata": {},
   "source": [
    "### Isi Kolom Subvertical yang kosong dengan kolom Industry Verticalnya"
   ]
  },
  {
   "cell_type": "code",
   "execution_count": 11,
   "metadata": {},
   "outputs": [],
   "source": [
    "def fill_subver(data):\n",
    "    if pd.isnull(data['SubVertical']):\n",
    "        return data['Industry Vertical']\n",
    "    else:\n",
    "        return data['SubVertical']"
   ]
  },
  {
   "cell_type": "code",
   "execution_count": 12,
   "metadata": {},
   "outputs": [],
   "source": [
    "df['SubVertical'] = df.apply(fill_subver, axis=1)"
   ]
  },
  {
   "cell_type": "code",
   "execution_count": 13,
   "metadata": {},
   "outputs": [
    {
     "name": "stdout",
     "output_type": "stream",
     "text": [
      "<class 'pandas.core.frame.DataFrame'>\n",
      "Int64Index: 1893 entries, 0 to 2837\n",
      "Data columns (total 9 columns):\n",
      "Sr No                1893 non-null int64\n",
      "Date ddmmyyyy        1893 non-null object\n",
      "Startup Name         1893 non-null object\n",
      "Industry Vertical    1893 non-null object\n",
      "SubVertical          1893 non-null object\n",
      "City  Location       1893 non-null object\n",
      "Investor             1893 non-null object\n",
      "InvestmentnType      1893 non-null object\n",
      "Amount in USD        1893 non-null object\n",
      "dtypes: int64(1), object(8)\n",
      "memory usage: 147.9+ KB\n"
     ]
    }
   ],
   "source": [
    "df.info()"
   ]
  },
  {
   "cell_type": "markdown",
   "metadata": {},
   "source": [
    "### Hapus data dengan kolom Amount in USD Mengandung Alphabet"
   ]
  },
  {
   "cell_type": "code",
   "execution_count": 56,
   "metadata": {},
   "outputs": [],
   "source": [
    "df['Amount in USD'].loc[74] = df['Amount in USD'].loc[74].replace('+', '')"
   ]
  },
  {
   "cell_type": "code",
   "execution_count": 62,
   "metadata": {},
   "outputs": [],
   "source": [
    "index = []\n",
    "for idx in df['Amount in USD'].index:\n",
    "    count = 0\n",
    "    for item in df['Amount in USD'].loc[idx]:\n",
    "        if item.isdigit():\n",
    "            count += 0\n",
    "        else:\n",
    "            if item == '.':\n",
    "                count += 0\n",
    "            elif (item != ','):\n",
    "                count += 1\n",
    "    if count > 0:\n",
    "        index.append(idx)"
   ]
  },
  {
   "cell_type": "code",
   "execution_count": null,
   "metadata": {},
   "outputs": [],
   "source": [
    "df.drop(index, inplace=True)"
   ]
  },
  {
   "cell_type": "code",
   "execution_count": 67,
   "metadata": {},
   "outputs": [
    {
     "name": "stdout",
     "output_type": "stream",
     "text": [
      "<class 'pandas.core.frame.DataFrame'>\n",
      "Int64Index: 1877 entries, 0 to 2837\n",
      "Data columns (total 9 columns):\n",
      "Sr No                1877 non-null int64\n",
      "Date ddmmyyyy        1877 non-null object\n",
      "Startup Name         1877 non-null object\n",
      "Industry Vertical    1877 non-null object\n",
      "SubVertical          1877 non-null object\n",
      "City  Location       1877 non-null object\n",
      "Investor             1877 non-null object\n",
      "InvestmentnType      1877 non-null object\n",
      "Amount in USD        1877 non-null object\n",
      "dtypes: int64(1), object(8)\n",
      "memory usage: 226.6+ KB\n"
     ]
    }
   ],
   "source": [
    "df.info()"
   ]
  },
  {
   "cell_type": "markdown",
   "metadata": {},
   "source": [
    "### Ubah type data kolom Amount in USD Menjadi int64 , ubah dulu semua koma di data menjadi string kosong dan ubah juga selain angka menjadi string kosong"
   ]
  },
  {
   "cell_type": "code",
   "execution_count": 73,
   "metadata": {},
   "outputs": [],
   "source": [
    "def change_to_float(ser):\n",
    "    return ser.replace(',', '')"
   ]
  },
  {
   "cell_type": "code",
   "execution_count": 75,
   "metadata": {},
   "outputs": [],
   "source": [
    "df['Amount in USD']= df['Amount in USD'].apply(change_to_float)"
   ]
  },
  {
   "cell_type": "code",
   "execution_count": 79,
   "metadata": {},
   "outputs": [],
   "source": [
    "df['Amount in USD'] = df['Amount in USD'].astype('float')"
   ]
  },
  {
   "cell_type": "code",
   "execution_count": 80,
   "metadata": {},
   "outputs": [
    {
     "name": "stdout",
     "output_type": "stream",
     "text": [
      "<class 'pandas.core.frame.DataFrame'>\n",
      "Int64Index: 1877 entries, 0 to 2837\n",
      "Data columns (total 9 columns):\n",
      "Sr No                1877 non-null int64\n",
      "Date ddmmyyyy        1877 non-null object\n",
      "Startup Name         1877 non-null object\n",
      "Industry Vertical    1877 non-null object\n",
      "SubVertical          1877 non-null object\n",
      "City  Location       1877 non-null object\n",
      "Investor             1877 non-null object\n",
      "InvestmentnType      1877 non-null object\n",
      "Amount in USD        1877 non-null float64\n",
      "dtypes: float64(1), int64(1), object(7)\n",
      "memory usage: 226.6+ KB\n"
     ]
    }
   ],
   "source": [
    "df.info()"
   ]
  },
  {
   "cell_type": "markdown",
   "metadata": {},
   "source": [
    "### Cari Lima Startup Yang Mendapat Pendanaan Paling Banyak"
   ]
  },
  {
   "cell_type": "code",
   "execution_count": 90,
   "metadata": {},
   "outputs": [
    {
     "name": "stdout",
     "output_type": "stream",
     "text": [
      "Lima Startup dengan Pendanaan Paling Banyak \n",
      "\n",
      "Rapido Bike Taxi\n",
      "Flipkart\n",
      "Paytm\n",
      "Flipkart\n",
      "Flipkart.com\n"
     ]
    }
   ],
   "source": [
    "five_start_up = df.sort_values('Amount in USD', ascending=False).head()['Startup Name'].values\n",
    "print('Lima Startup dengan Pendanaan Paling Banyak \\n')\n",
    "for start_up in five_start_up:\n",
    "    print(start_up)"
   ]
  },
  {
   "cell_type": "markdown",
   "metadata": {},
   "source": [
    "### Cari Lima Investor Yang mengeluarkan uang paling banyak"
   ]
  },
  {
   "cell_type": "code",
   "execution_count": 92,
   "metadata": {},
   "outputs": [
    {
     "name": "stdout",
     "output_type": "stream",
     "text": [
      "Lima Investor dengan Pengeluaran Paling Banyak  \n",
      "\n",
      "Westbridge Capital\n",
      "Softbank\n",
      "SoftBank Group\n",
      "Microsoft, eBay, Tencent Holdings\n",
      "Steadview Capital and existing investors\n"
     ]
    }
   ],
   "source": [
    "five_investor = df.sort_values('Amount in USD', ascending=False).head()['Investor'].values\n",
    "print('Lima Investor dengan Pengeluaran Paling Banyak  \\n')\n",
    "for start_up in five_investor:\n",
    "    print(start_up)"
   ]
  },
  {
   "cell_type": "markdown",
   "metadata": {},
   "source": [
    "### Cari lima industri Vertical dengan Pendanaan Paling Banyak"
   ]
  },
  {
   "cell_type": "code",
   "execution_count": 99,
   "metadata": {},
   "outputs": [
    {
     "name": "stdout",
     "output_type": "stream",
     "text": [
      "Lima Industri dengan Pendanaan Paling Banyak  \n",
      "\n",
      "Consumer Internet\n",
      "eCommerce\n",
      "Transportation\n",
      "Technology\n",
      "ECommerce\n"
     ]
    }
   ],
   "source": [
    "five_industry = df.groupby('Industry Vertical').sum().sort_values('Amount in USD', ascending=False).head().index\n",
    "print('Lima Industri dengan Pendanaan Paling Banyak  \\n')\n",
    "for start_up in five_industry:\n",
    "    print(start_up)"
   ]
  }
 ],
 "metadata": {
  "kernelspec": {
   "display_name": "Python 3",
   "language": "python",
   "name": "python3"
  },
  "language_info": {
   "codemirror_mode": {
    "name": "ipython",
    "version": 3
   },
   "file_extension": ".py",
   "mimetype": "text/x-python",
   "name": "python",
   "nbconvert_exporter": "python",
   "pygments_lexer": "ipython3",
   "version": "3.7.3"
  }
 },
 "nbformat": 4,
 "nbformat_minor": 2
}
